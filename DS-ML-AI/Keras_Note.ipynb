{
 "cells": [
  {
   "cell_type": "markdown",
   "id": "0eeda468-25a8-4144-aed4-0de4e280a778",
   "metadata": {},
   "source": [
    "# Import Modules"
   ]
  },
  {
   "cell_type": "code",
   "execution_count": 1,
   "id": "c565ee8f-7706-4b40-ab34-987459394e46",
   "metadata": {},
   "outputs": [
    {
     "name": "stderr",
     "output_type": "stream",
     "text": [
      "2022-10-03 12:44:09.069106: I tensorflow/stream_executor/platform/default/dso_loader.cc:49] Successfully opened dynamic library libcudart.so.11.0\n"
     ]
    },
    {
     "name": "stdout",
     "output_type": "stream",
     "text": [
      "TensorFlow Version: 2.4.0\n",
      "Keras Version: 2.4.0\n"
     ]
    }
   ],
   "source": [
    "import tensorflow as tf\n",
    "from tensorflow import keras\n",
    "import numpy as np\n",
    "import pandas as pd\n",
    "import matplotlib\n",
    "import matplotlib.pyplot as plt\n",
    "%matplotlib inline\n",
    "\n",
    "print(\"TensorFlow Version:\", tf.__version__)\n",
    "print(\"Keras Version:\", keras.__version__)"
   ]
  },
  {
   "cell_type": "markdown",
   "id": "7a4a93b0-e1df-43a5-9e53-9165a48dab04",
   "metadata": {},
   "source": [
    "# Load Datasets for Demonstrations"
   ]
  },
  {
   "cell_type": "markdown",
   "id": "55794a25-9ebc-4158-84d7-db7f96825060",
   "metadata": {},
   "source": [
    "## MNIST Fashion Dataset"
   ]
  },
  {
   "cell_type": "code",
   "execution_count": 2,
   "id": "59152bc5-85b0-4bbc-9965-8213d9009039",
   "metadata": {},
   "outputs": [],
   "source": [
    "# Load fashion MNIST dataset\n",
    "\n",
    "fashion_mnist = keras.datasets.fashion_mnist\n",
    "(mnist_X_train_full, mnist_y_train_full), (mnist_X_test, mnist_y_test) = fashion_mnist.load_data()\n",
    "\n",
    "# print(\"Methods and attributes of fashion_mnist:\\n\", dir(fashion_mnist))\n",
    "# print(\"Attributes values of fashion_mnist:\\n\", vars(fashion_mnist))\n",
    "\n",
    "CLASS_NAMES = [\"T-shirt/top\", \"Trouser\", \"Pullover\", \"Dress\", \"Coat\", \n",
    "               \"Sandal\", \"Shirt\", \"Sneaker\", \"Bag\", \"Ankle boot\"]"
   ]
  },
  {
   "cell_type": "code",
   "execution_count": 3,
   "id": "e86c5e0b-9956-4d22-863e-f5eea68d16cc",
   "metadata": {},
   "outputs": [
    {
     "name": "stdout",
     "output_type": "stream",
     "text": [
      "Object Type of mnist_X_train_full: <class 'numpy.ndarray'>\n",
      "Shape of mnist_X_train_full: (60000, 28, 28)\n",
      "Datatype of mnist_X_train_full: uint8\n",
      "Maximum value of mnist_X_train_full: 255\n",
      "Minimum value of mnist_X_train_full: 0\n",
      "Averge value of mnist_X_train_full: 72.94035223214286\n",
      "Median value of mnist_X_train_full: 0.0\n",
      "\n",
      "Object Type of mnist_X_test: <class 'numpy.ndarray'>\n",
      "Shape of mnist_X_test: (10000, 28, 28)\n",
      "Datatype of mnist_X_test: uint8\n",
      "Maximum value of mnist_X_test: 255\n",
      "Minimum value of mnist_X_test: 0\n",
      "Averge value of mnist_X_test: 73.14656658163265\n",
      "Median value of mnist_X_test: 1.0\n",
      "\n",
      "Object Type of mnist_y_train_full: <class 'numpy.ndarray'>\n",
      "Shape of mnist_y_train_full: (60000,)\n",
      "Datatype of mnist_y_train_full: uint8\n",
      "Maximum value of mnist_y_train_full: 9\n",
      "Minimum value of mnist_y_train_full: 0\n",
      "Averge value of mnist_y_train_full: 4.5\n",
      "Median value of mnist_y_train_full: 4.5\n",
      "Unique values of mnist_y_train_full [0 1 2 3 4 5 6 7 8 9]\n",
      "\n",
      "Object Type of mnist_y_test: <class 'numpy.ndarray'>\n",
      "Shape of mnist_y_test: (10000,)\n",
      "Datatype of mnist_X_test: uint8\n",
      "Maximum value of mnist_y_test: 9\n",
      "Minimum value of mnist_y_test: 0\n",
      "Averge value of mnist_y_test: 4.5\n",
      "Median value of mnist_y_test: 4.5\n",
      "Unique values of mnist_y_test [0 1 2 3 4 5 6 7 8 9]\n"
     ]
    }
   ],
   "source": [
    "# Describe the MNIST dataset\n",
    "\n",
    "print(\"Object Type of mnist_X_train_full:\", type(mnist_X_train_full))\n",
    "print(\"Shape of mnist_X_train_full:\", mnist_X_train_full.shape)\n",
    "print(\"Datatype of mnist_X_train_full:\", mnist_X_train_full.dtype)\n",
    "print(\"Maximum value of mnist_X_train_full:\", mnist_X_train_full.max())\n",
    "print(\"Minimum value of mnist_X_train_full:\", mnist_X_train_full.min())\n",
    "print(\"Averge value of mnist_X_train_full:\", mnist_X_train_full.mean())\n",
    "print(\"Median value of mnist_X_train_full:\", np.median(mnist_X_train_full))\n",
    "\n",
    "print()\n",
    "print(\"Object Type of mnist_X_test:\", type(mnist_X_test))\n",
    "print(\"Shape of mnist_X_test:\", mnist_X_test.shape)\n",
    "print(\"Datatype of mnist_X_test:\", mnist_X_test.dtype)\n",
    "print(\"Maximum value of mnist_X_test:\", mnist_X_test.max())\n",
    "print(\"Minimum value of mnist_X_test:\", mnist_X_test.min())\n",
    "print(\"Averge value of mnist_X_test:\", mnist_X_test.mean())\n",
    "print(\"Median value of mnist_X_test:\", np.median(mnist_X_test))\n",
    "\n",
    "print()\n",
    "print(\"Object Type of mnist_y_train_full:\", type(mnist_y_train_full))\n",
    "print(\"Shape of mnist_y_train_full:\", mnist_y_train_full.shape)\n",
    "print(\"Datatype of mnist_y_train_full:\", mnist_y_train_full.dtype)\n",
    "print(\"Maximum value of mnist_y_train_full:\", mnist_y_train_full.max())\n",
    "print(\"Minimum value of mnist_y_train_full:\", mnist_y_train_full.min())\n",
    "print(\"Averge value of mnist_y_train_full:\", mnist_y_train_full.mean())\n",
    "print(\"Median value of mnist_y_train_full:\", np.median(mnist_y_train_full))\n",
    "print(\"Unique values of mnist_y_train_full\", np.unique(mnist_y_train_full))\n",
    "\n",
    "print()\n",
    "print(\"Object Type of mnist_y_test:\", type(mnist_y_test))\n",
    "print(\"Shape of mnist_y_test:\", mnist_y_test.shape)\n",
    "print(\"Datatype of mnist_X_test:\", mnist_y_test.dtype)\n",
    "print(\"Maximum value of mnist_y_test:\", mnist_y_test.max())\n",
    "print(\"Minimum value of mnist_y_test:\", mnist_y_test.min())\n",
    "print(\"Averge value of mnist_y_test:\", mnist_y_test.mean())\n",
    "print(\"Median value of mnist_y_test:\", np.median(mnist_y_test))\n",
    "print(\"Unique values of mnist_y_test\", np.unique(mnist_y_test))"
   ]
  },
  {
   "cell_type": "code",
   "execution_count": 4,
   "id": "bd776bc1-fcdb-4e8c-9625-c7570f5a2c4c",
   "metadata": {},
   "outputs": [],
   "source": [
    "# Standardize MNIST datasets\n",
    "\n",
    "mnist_X_valid, mnist_X_train = mnist_X_train_full[:5000] / 255.0, mnist_X_train_full[5000:] / 255.0\n",
    "mnist_y_valid, mnist_y_train = mnist_y_train_full[:5000], mnist_y_train_full[5000:]"
   ]
  },
  {
   "cell_type": "markdown",
   "id": "71698f4b-258f-4101-8cfb-1b4c09cf92ac",
   "metadata": {},
   "source": [
    "## California Housing Dataset"
   ]
  },
  {
   "cell_type": "code",
   "execution_count": 5,
   "id": "ce336b2b-c7a9-4bf8-8cc7-ede7dd17a93c",
   "metadata": {},
   "outputs": [],
   "source": [
    "from sklearn.datasets import fetch_california_housing\n",
    "from sklearn.model_selection import train_test_split\n",
    "from sklearn.preprocessing import StandardScaler"
   ]
  },
  {
   "cell_type": "code",
   "execution_count": 6,
   "id": "030cae4b-6868-456e-9c37-d448e39a44d7",
   "metadata": {},
   "outputs": [
    {
     "data": {
      "text/plain": [
       "['DESCR', 'data', 'feature_names', 'frame', 'target', 'target_names']"
      ]
     },
     "execution_count": 6,
     "metadata": {},
     "output_type": "execute_result"
    }
   ],
   "source": [
    "housing = fetch_california_housing()\n",
    "\n",
    "dir(housing)"
   ]
  },
  {
   "cell_type": "code",
   "execution_count": 7,
   "id": "d3d8588f-68aa-4677-a8bd-b324041ec1af",
   "metadata": {},
   "outputs": [
    {
     "name": "stdout",
     "output_type": "stream",
     "text": [
      ".. _california_housing_dataset:\n",
      "\n",
      "California Housing dataset\n",
      "--------------------------\n",
      "\n",
      "**Data Set Characteristics:**\n",
      "\n",
      "    :Number of Instances: 20640\n",
      "\n",
      "    :Number of Attributes: 8 numeric, predictive attributes and the target\n",
      "\n",
      "    :Attribute Information:\n",
      "        - MedInc        median income in block group\n",
      "        - HouseAge      median house age in block group\n",
      "        - AveRooms      average number of rooms per household\n",
      "        - AveBedrms     average number of bedrooms per household\n",
      "        - Population    block group population\n",
      "        - AveOccup      average number of household members\n",
      "        - Latitude      block group latitude\n",
      "        - Longitude     block group longitude\n",
      "\n",
      "    :Missing Attribute Values: None\n",
      "\n",
      "This dataset was obtained from the StatLib repository.\n",
      "https://www.dcc.fc.up.pt/~ltorgo/Regression/cal_housing.html\n",
      "\n",
      "The target variable is the median house value for California districts,\n",
      "expressed in hundreds of thousands of dollars ($100,000).\n",
      "\n",
      "This dataset was derived from the 1990 U.S. census, using one row per census\n",
      "block group. A block group is the smallest geographical unit for which the U.S.\n",
      "Census Bureau publishes sample data (a block group typically has a population\n",
      "of 600 to 3,000 people).\n",
      "\n",
      "An household is a group of people residing within a home. Since the average\n",
      "number of rooms and bedrooms in this dataset are provided per household, these\n",
      "columns may take surpinsingly large values for block groups with few households\n",
      "and many empty houses, such as vacation resorts.\n",
      "\n",
      "It can be downloaded/loaded using the\n",
      ":func:`sklearn.datasets.fetch_california_housing` function.\n",
      "\n",
      ".. topic:: References\n",
      "\n",
      "    - Pace, R. Kelley and Ronald Barry, Sparse Spatial Autoregressions,\n",
      "      Statistics and Probability Letters, 33 (1997) 291-297\n",
      "\n"
     ]
    }
   ],
   "source": [
    "print(housing.DESCR)"
   ]
  },
  {
   "cell_type": "code",
   "execution_count": 8,
   "id": "0a720551-89f2-4aae-af23-cd94c31b747f",
   "metadata": {},
   "outputs": [],
   "source": [
    "house_X_train_full, house_X_test, house_y_train_full, house_y_test = train_test_split(housing.data, housing.target)\n",
    "house_X_train, house_X_valid, house_y_train, house_y_valid = train_test_split(house_X_train_full, house_y_train_full)\n",
    "\n",
    "scaler = StandardScaler()\n",
    "house_X_train = scaler.fit_transform(house_X_train)\n",
    "house_X_valid = scaler.transform(house_X_valid)\n",
    "house_X_test = scaler.transform(house_X_test)"
   ]
  },
  {
   "cell_type": "markdown",
   "id": "a5e7e490-688c-4628-b95b-3745c005965e",
   "metadata": {
    "tags": []
   },
   "source": [
    "# Create Model Structure\n",
    "\n",
    "- Structure Types\n",
    "    - Sequential API: `keras.models.Sequential()`\n",
    "    - Functional API: arbitrary model layers and structures"
   ]
  },
  {
   "cell_type": "markdown",
   "id": "d113988b-c60e-4e2f-b0af-aff1895d3206",
   "metadata": {
    "tags": []
   },
   "source": [
    "## Sequential Model"
   ]
  },
  {
   "cell_type": "code",
   "execution_count": 11,
   "id": "d265eb12-ba2b-4894-b773-d6305d8f282e",
   "metadata": {},
   "outputs": [
    {
     "name": "stdout",
     "output_type": "stream",
     "text": [
      "Model: \"sequential\"\n",
      "_________________________________________________________________\n",
      "Layer (type)                 Output Shape              Param #   \n",
      "=================================================================\n",
      "flatten (Flatten)            (None, 784)               0         \n",
      "_________________________________________________________________\n",
      "relu_dense (Dense)           (None, 300)               235500    \n",
      "_________________________________________________________________\n",
      "tanh_dense (Dense)           (None, 100)               30100     \n",
      "_________________________________________________________________\n",
      "softmax_dense (Dense)        (None, 10)                1010      \n",
      "=================================================================\n",
      "Total params: 266,610\n",
      "Trainable params: 266,610\n",
      "Non-trainable params: 0\n",
      "_________________________________________________________________\n"
     ]
    },
    {
     "name": "stderr",
     "output_type": "stream",
     "text": [
      "2022-10-03 12:45:00.402205: I tensorflow/compiler/jit/xla_cpu_device.cc:41] Not creating XLA devices, tf_xla_enable_xla_devices not set\n",
      "2022-10-03 12:45:00.402491: I tensorflow/stream_executor/cuda/cuda_gpu_executor.cc:941] successful NUMA node read from SysFS had negative value (-1), but there must be at least one NUMA node, so returning NUMA node zero\n",
      "2022-10-03 12:45:00.402891: I tensorflow/core/common_runtime/gpu/gpu_device.cc:1720] Found device 0 with properties: \n",
      "pciBusID: 0000:01:00.0 name: NVIDIA GeForce GTX 970 computeCapability: 5.2\n",
      "coreClock: 1.253GHz coreCount: 13 deviceMemorySize: 3.95GiB deviceMemoryBandwidth: 208.91GiB/s\n",
      "2022-10-03 12:45:00.402928: I tensorflow/stream_executor/platform/default/dso_loader.cc:49] Successfully opened dynamic library libcudart.so.11.0\n",
      "2022-10-03 12:45:00.405811: I tensorflow/stream_executor/platform/default/dso_loader.cc:49] Successfully opened dynamic library libcublas.so.11\n",
      "2022-10-03 12:45:00.405869: I tensorflow/stream_executor/platform/default/dso_loader.cc:49] Successfully opened dynamic library libcublasLt.so.11\n",
      "2022-10-03 12:45:00.406758: I tensorflow/stream_executor/platform/default/dso_loader.cc:49] Successfully opened dynamic library libcufft.so.10\n",
      "2022-10-03 12:45:00.406956: I tensorflow/stream_executor/platform/default/dso_loader.cc:49] Successfully opened dynamic library libcurand.so.10\n",
      "2022-10-03 12:45:00.409182: I tensorflow/stream_executor/platform/default/dso_loader.cc:49] Successfully opened dynamic library libcusolver.so.10\n",
      "2022-10-03 12:45:00.409711: I tensorflow/stream_executor/platform/default/dso_loader.cc:49] Successfully opened dynamic library libcusparse.so.11\n",
      "2022-10-03 12:45:00.409837: I tensorflow/stream_executor/platform/default/dso_loader.cc:49] Successfully opened dynamic library libcudnn.so.8\n",
      "2022-10-03 12:45:00.409950: I tensorflow/stream_executor/cuda/cuda_gpu_executor.cc:941] successful NUMA node read from SysFS had negative value (-1), but there must be at least one NUMA node, so returning NUMA node zero\n",
      "2022-10-03 12:45:00.410288: I tensorflow/stream_executor/cuda/cuda_gpu_executor.cc:941] successful NUMA node read from SysFS had negative value (-1), but there must be at least one NUMA node, so returning NUMA node zero\n",
      "2022-10-03 12:45:00.410566: I tensorflow/core/common_runtime/gpu/gpu_device.cc:1862] Adding visible gpu devices: 0\n",
      "2022-10-03 12:45:00.411029: I tensorflow/compiler/jit/xla_gpu_device.cc:99] Not creating XLA devices, tf_xla_enable_xla_devices not set\n",
      "2022-10-03 12:45:00.411109: I tensorflow/stream_executor/cuda/cuda_gpu_executor.cc:941] successful NUMA node read from SysFS had negative value (-1), but there must be at least one NUMA node, so returning NUMA node zero\n",
      "2022-10-03 12:45:00.411371: I tensorflow/core/common_runtime/gpu/gpu_device.cc:1720] Found device 0 with properties: \n",
      "pciBusID: 0000:01:00.0 name: NVIDIA GeForce GTX 970 computeCapability: 5.2\n",
      "coreClock: 1.253GHz coreCount: 13 deviceMemorySize: 3.95GiB deviceMemoryBandwidth: 208.91GiB/s\n",
      "2022-10-03 12:45:00.411386: I tensorflow/stream_executor/platform/default/dso_loader.cc:49] Successfully opened dynamic library libcudart.so.11.0\n",
      "2022-10-03 12:45:00.411406: I tensorflow/stream_executor/platform/default/dso_loader.cc:49] Successfully opened dynamic library libcublas.so.11\n",
      "2022-10-03 12:45:00.411423: I tensorflow/stream_executor/platform/default/dso_loader.cc:49] Successfully opened dynamic library libcublasLt.so.11\n",
      "2022-10-03 12:45:00.411439: I tensorflow/stream_executor/platform/default/dso_loader.cc:49] Successfully opened dynamic library libcufft.so.10\n",
      "2022-10-03 12:45:00.411454: I tensorflow/stream_executor/platform/default/dso_loader.cc:49] Successfully opened dynamic library libcurand.so.10\n",
      "2022-10-03 12:45:00.411470: I tensorflow/stream_executor/platform/default/dso_loader.cc:49] Successfully opened dynamic library libcusolver.so.10\n",
      "2022-10-03 12:45:00.411486: I tensorflow/stream_executor/platform/default/dso_loader.cc:49] Successfully opened dynamic library libcusparse.so.11\n",
      "2022-10-03 12:45:00.411502: I tensorflow/stream_executor/platform/default/dso_loader.cc:49] Successfully opened dynamic library libcudnn.so.8\n",
      "2022-10-03 12:45:00.411553: I tensorflow/stream_executor/cuda/cuda_gpu_executor.cc:941] successful NUMA node read from SysFS had negative value (-1), but there must be at least one NUMA node, so returning NUMA node zero\n",
      "2022-10-03 12:45:00.411844: I tensorflow/stream_executor/cuda/cuda_gpu_executor.cc:941] successful NUMA node read from SysFS had negative value (-1), but there must be at least one NUMA node, so returning NUMA node zero\n",
      "2022-10-03 12:45:00.412135: I tensorflow/core/common_runtime/gpu/gpu_device.cc:1862] Adding visible gpu devices: 0\n",
      "2022-10-03 12:45:00.412161: I tensorflow/stream_executor/platform/default/dso_loader.cc:49] Successfully opened dynamic library libcudart.so.11.0\n",
      "2022-10-03 12:45:00.811485: I tensorflow/core/common_runtime/gpu/gpu_device.cc:1261] Device interconnect StreamExecutor with strength 1 edge matrix:\n",
      "2022-10-03 12:45:00.811513: I tensorflow/core/common_runtime/gpu/gpu_device.cc:1267]      0 \n",
      "2022-10-03 12:45:00.811518: I tensorflow/core/common_runtime/gpu/gpu_device.cc:1280] 0:   N \n",
      "2022-10-03 12:45:00.811717: I tensorflow/stream_executor/cuda/cuda_gpu_executor.cc:941] successful NUMA node read from SysFS had negative value (-1), but there must be at least one NUMA node, so returning NUMA node zero\n",
      "2022-10-03 12:45:00.811888: I tensorflow/stream_executor/cuda/cuda_gpu_executor.cc:941] successful NUMA node read from SysFS had negative value (-1), but there must be at least one NUMA node, so returning NUMA node zero\n",
      "2022-10-03 12:45:00.812034: I tensorflow/stream_executor/cuda/cuda_gpu_executor.cc:941] successful NUMA node read from SysFS had negative value (-1), but there must be at least one NUMA node, so returning NUMA node zero\n",
      "2022-10-03 12:45:00.812152: I tensorflow/core/common_runtime/gpu/gpu_device.cc:1406] Created TensorFlow device (/job:localhost/replica:0/task:0/device:GPU:0 with 3554 MB memory) -> physical GPU (device: 0, name: NVIDIA GeForce GTX 970, pci bus id: 0000:01:00.0, compute capability: 5.2)\n"
     ]
    }
   ],
   "source": [
    "# Create a sequential model\n",
    "seq_model = keras.models.Sequential(layers=[keras.layers.Flatten(input_shape=[28,28], #optional, auto implied when build or train if missing\n",
    "                                                                 name=\"flatten\"),\n",
    "                                            \n",
    "                                            keras.layers.Dense(300, \n",
    "                                                               activation=\"relu\", \n",
    "                                                               name=\"relu_dense\", \n",
    "                                                               kernel_initializer=keras.initializers.RandomNormal(mean=0.0, stddev=0.05, seed=47), \n",
    "                                                               bias_initializer=keras.initializers.RandomNormal(mean=0.0, stddev=0.05, seed=47)\n",
    "                                                              ),\n",
    "                                            \n",
    "                                            keras.layers.Dense(100, \n",
    "                                                               activation=\"tanh\", \n",
    "                                                               name=\"tanh_dense\",\n",
    "                                                               kernel_initializer=keras.initializers.RandomUniform(minval=-0.05, maxval=0.05, seed=47), \n",
    "                                                               bias_initializer=keras.initializers.RandomUniform(minval=-0.05, maxval=0.05, seed=47),\n",
    "                                                              ),\n",
    "                                            \n",
    "                                            keras.layers.Dense(10, activation=\"softmax\", name=\"softmax_dense\"),\n",
    "                                            # If regression, the output layer can be keras.layers.Dense(1)\n",
    "                                            # If binary classification, the output layer can be keras.layers.Dense(1, activation=\"sigmoid\")\n",
    "                                           ]\n",
    "                                   )\n",
    "\n",
    "\n",
    "# Add an layer\n",
    "seq_model.add(keras.layers.Dense(50, activation=\"sigmoid\", name=\"added_sigmoid\"))\n",
    "\n",
    "# # A model can be created using the add() method like this:\n",
    "# seq_model = keras.models.Sequential()\n",
    "# model.add(Layer1)\n",
    "# model.add(Layer2)\n",
    "\n",
    "# Remove the last layer\n",
    "seq_model.pop()\n",
    "\n",
    "# Show model summary\n",
    "seq_model.summary()"
   ]
  },
  {
   "cell_type": "markdown",
   "id": "c5abbb5d-efd5-41d7-9f6c-122ac7380938",
   "metadata": {},
   "source": [
    "## Nonsequential Models using Functional API"
   ]
  },
  {
   "cell_type": "code",
   "execution_count": 10,
   "id": "d97cbf26-b221-42a7-ba15-47567d83323e",
   "metadata": {},
   "outputs": [
    {
     "name": "stdout",
     "output_type": "stream",
     "text": [
      "Epoch 1/20\n"
     ]
    },
    {
     "name": "stderr",
     "output_type": "stream",
     "text": [
      "2022-10-03 12:35:32.657984: I tensorflow/compiler/mlir/mlir_graph_optimization_pass.cc:116] None of the MLIR optimization passes are enabled (registered 2)\n",
      "2022-10-03 12:35:32.677169: I tensorflow/core/platform/profile_utils/cpu_utils.cc:112] CPU Frequency: 3298845000 Hz\n"
     ]
    },
    {
     "name": "stdout",
     "output_type": "stream",
     "text": [
      "  1/363 [..............................] - ETA: 2:13 - loss: 4.4546"
     ]
    },
    {
     "name": "stderr",
     "output_type": "stream",
     "text": [
      "2022-10-03 12:35:32.882267: I tensorflow/stream_executor/platform/default/dso_loader.cc:49] Successfully opened dynamic library libcublas.so.11\n",
      "2022-10-03 12:35:33.059505: I tensorflow/stream_executor/platform/default/dso_loader.cc:49] Successfully opened dynamic library libcublasLt.so.11\n"
     ]
    },
    {
     "name": "stdout",
     "output_type": "stream",
     "text": [
      "363/363 [==============================] - 1s 2ms/step - loss: 2.3957 - val_loss: 0.6364\n",
      "Epoch 2/20\n",
      "363/363 [==============================] - 1s 2ms/step - loss: 0.6495 - val_loss: 0.5594\n",
      "Epoch 3/20\n",
      "363/363 [==============================] - 1s 2ms/step - loss: 0.6106 - val_loss: 0.5253\n",
      "Epoch 4/20\n",
      "363/363 [==============================] - 1s 2ms/step - loss: 0.5634 - val_loss: 0.5001\n",
      "Epoch 5/20\n",
      "363/363 [==============================] - 1s 2ms/step - loss: 0.5274 - val_loss: 0.4812\n",
      "Epoch 6/20\n",
      "363/363 [==============================] - 1s 2ms/step - loss: 0.5044 - val_loss: 0.4674\n",
      "Epoch 7/20\n",
      "363/363 [==============================] - 1s 2ms/step - loss: 0.5155 - val_loss: 0.4549\n",
      "Epoch 8/20\n",
      "363/363 [==============================] - 1s 2ms/step - loss: 0.4940 - val_loss: 0.4470\n",
      "Epoch 9/20\n",
      "363/363 [==============================] - 1s 2ms/step - loss: 0.4663 - val_loss: 0.4393\n",
      "Epoch 10/20\n",
      "363/363 [==============================] - 1s 2ms/step - loss: 0.4714 - val_loss: 0.4338\n",
      "Epoch 11/20\n",
      "363/363 [==============================] - 1s 2ms/step - loss: 0.4596 - val_loss: 0.4283\n",
      "Epoch 12/20\n",
      "363/363 [==============================] - 1s 2ms/step - loss: 0.4451 - val_loss: 0.4237\n",
      "Epoch 13/20\n",
      "363/363 [==============================] - 1s 2ms/step - loss: 0.4568 - val_loss: 0.4200\n",
      "Epoch 14/20\n",
      "363/363 [==============================] - 1s 1ms/step - loss: 0.4419 - val_loss: 0.4166\n",
      "Epoch 15/20\n",
      "363/363 [==============================] - 1s 2ms/step - loss: 0.4390 - val_loss: 0.4136\n",
      "Epoch 16/20\n",
      "363/363 [==============================] - 1s 2ms/step - loss: 0.4645 - val_loss: 0.4111\n",
      "Epoch 17/20\n",
      "363/363 [==============================] - 1s 2ms/step - loss: 0.4436 - val_loss: 0.4073\n",
      "Epoch 18/20\n",
      "363/363 [==============================] - 1s 2ms/step - loss: 0.4310 - val_loss: 0.4050\n",
      "Epoch 19/20\n",
      "363/363 [==============================] - 1s 2ms/step - loss: 0.4444 - val_loss: 0.4024\n",
      "Epoch 20/20\n",
      "363/363 [==============================] - 1s 2ms/step - loss: 0.4346 - val_loss: 0.3999\n",
      "162/162 [==============================] - 0s 856us/step - loss: 0.4214\n",
      "Acutals: [0.675 3.717 1.683]\n",
      "Predictions:\n",
      "[[0.60132885]\n",
      " [2.403316  ]\n",
      " [1.8995005 ]]\n"
     ]
    }
   ],
   "source": [
    "house_input = keras.layers.Input(shape=house_X_train.shape[1:]) # house_X_train.shape[1:] is (8,)\n",
    "# For multiple inputs, create another input layer and add to the inputs=[] list in the keras.Model\n",
    "house_hidden1 = keras.layers.Dense(30, activation=\"relu\")(house_input)\n",
    "house_hidden2 = keras.layers.Dense(30, activation=\"tanh\")(house_hidden1)\n",
    "house_concat = keras.layers.Concatenate()([house_input, house_hidden2])\n",
    "house_output = keras.layers.Dense(1)(house_concat)\n",
    "\n",
    "house_model = keras.Model(inputs=[house_input,], outputs=[house_output,])\n",
    "# For multiple output:\n",
    "# 1. Create the output layers\n",
    "# 2. Add them in the outputs=[] list in keras.Model\n",
    "# 3. Pass a list of losses to the loss=[] in Model.compile\n",
    "# 4. Optional: pass a list of weights to loss_weights=[] in Model.compile\n",
    "# 5. Prepare the same number of target values for: y_train, y_test, y_valid...\n",
    "# 6. Model.evaluation returns: total loss, loss1, loss2...\n",
    "# 7. Model.predict returns: pred1, pred2...\n",
    "\n",
    "house_model.compile(loss=\"mse\", optimizer=keras.optimizers.SGD(lr=1e-3))\n",
    "\n",
    "house_history = house_model.fit(house_X_train, house_y_train, epochs=20,\n",
    "                                validation_data=(house_X_valid, house_y_valid))\n",
    "house_mse_test = house_model.evaluate(house_X_test, house_y_test)\n",
    "\n",
    "house_X_new = house_X_test[:3]\n",
    "house_y_new = house_y_test[:3]\n",
    "\n",
    "house_y_pred = house_model.predict(house_X_new)\n",
    "\n",
    "print(\"Acutals:\", house_y_new)\n",
    "print(\"Predictions:\") \n",
    "print(house_y_pred)"
   ]
  },
  {
   "cell_type": "markdown",
   "id": "70977d9d-9a48-4d42-a1a6-65778108b980",
   "metadata": {},
   "source": [
    "## Fetch Info & Parameters of Layers"
   ]
  },
  {
   "cell_type": "code",
   "execution_count": 11,
   "id": "f362cab5-f23a-4842-84a6-8a62e532e499",
   "metadata": {},
   "outputs": [
    {
     "data": {
      "text/plain": [
       "[<tensorflow.python.keras.layers.core.Flatten at 0x7faf35f721f0>,\n",
       " <tensorflow.python.keras.layers.core.Dense at 0x7faf35f905b0>,\n",
       " <tensorflow.python.keras.layers.core.Dense at 0x7faf35f90970>,\n",
       " <tensorflow.python.keras.layers.core.Dense at 0x7faf35f90bb0>]"
      ]
     },
     "execution_count": 11,
     "metadata": {},
     "output_type": "execute_result"
    }
   ],
   "source": [
    "# Show model layers\n",
    "seq_model.layers"
   ]
  },
  {
   "cell_type": "code",
   "execution_count": 12,
   "id": "c1819617-6fd0-47a6-a225-d690b25d4add",
   "metadata": {},
   "outputs": [
    {
     "name": "stdout",
     "output_type": "stream",
     "text": [
      "flatten\n",
      "True\n"
     ]
    }
   ],
   "source": [
    "# Fetch layers\n",
    "print(seq_model.layers[0].name)\n",
    "print(seq_model.get_layer('tanh_dense') is seq_model.layers[2])"
   ]
  },
  {
   "cell_type": "code",
   "execution_count": 13,
   "id": "c8e2a316-b005-4b76-9499-e101d09337d8",
   "metadata": {},
   "outputs": [
    {
     "name": "stdout",
     "output_type": "stream",
     "text": [
      "Shape of weights array: (300, 100)\n",
      "Shape of biases array: (100,)\n"
     ]
    }
   ],
   "source": [
    "# Weights & Bias for each layer\n",
    "weights, biases = seq_model.get_layer(\"tanh_dense\").get_weights()\n",
    "\n",
    "print(\"Shape of weights array:\", weights.shape)\n",
    "print(\"Shape of biases array:\", biases.shape)"
   ]
  },
  {
   "cell_type": "markdown",
   "id": "38c78c82-0705-468b-b87b-3f9a666e07ef",
   "metadata": {},
   "source": [
    "# Compile & Train Model"
   ]
  },
  {
   "cell_type": "code",
   "execution_count": 12,
   "id": "a8cf766f-4058-4f73-a62e-53ac8a328d12",
   "metadata": {},
   "outputs": [],
   "source": [
    "seq_model.compile(loss=\"sparse_categorical_crossentropy\", \n",
    "                  optimizer=keras.optimizers.SGD(lr=0.01), # Or optimizer=\"sgd\" if tuning of learning rate is not needed\n",
    "                  metrics=[\"accuracy\"]\n",
    "                 )"
   ]
  },
  {
   "cell_type": "code",
   "execution_count": 15,
   "id": "ec6c9b48-e2c3-4b22-9b6d-c9ef65de9ef5",
   "metadata": {},
   "outputs": [
    {
     "name": "stdout",
     "output_type": "stream",
     "text": [
      "Epoch 1/30\n",
      "1719/1719 [==============================] - 3s 2ms/step - loss: 1.0489 - accuracy: 0.6732 - val_loss: 0.5203 - val_accuracy: 0.8236\n",
      "Epoch 2/30\n",
      "1719/1719 [==============================] - 3s 1ms/step - loss: 0.5130 - accuracy: 0.8182 - val_loss: 0.4548 - val_accuracy: 0.8430\n",
      "Epoch 3/30\n",
      "1719/1719 [==============================] - 3s 1ms/step - loss: 0.4557 - accuracy: 0.8373 - val_loss: 0.4189 - val_accuracy: 0.8528\n",
      "Epoch 4/30\n",
      "1719/1719 [==============================] - 2s 1ms/step - loss: 0.4307 - accuracy: 0.8431 - val_loss: 0.3991 - val_accuracy: 0.8622\n",
      "Epoch 5/30\n",
      "1719/1719 [==============================] - 3s 1ms/step - loss: 0.4041 - accuracy: 0.8569 - val_loss: 0.3880 - val_accuracy: 0.8598\n",
      "Epoch 6/30\n",
      "1719/1719 [==============================] - 3s 1ms/step - loss: 0.3856 - accuracy: 0.8623 - val_loss: 0.3769 - val_accuracy: 0.8700\n",
      "Epoch 7/30\n",
      "1719/1719 [==============================] - 3s 1ms/step - loss: 0.3755 - accuracy: 0.8659 - val_loss: 0.3795 - val_accuracy: 0.8644\n",
      "Epoch 8/30\n",
      "1719/1719 [==============================] - 3s 1ms/step - loss: 0.3627 - accuracy: 0.8683 - val_loss: 0.3756 - val_accuracy: 0.8666\n",
      "Epoch 9/30\n",
      "1719/1719 [==============================] - 2s 1ms/step - loss: 0.3519 - accuracy: 0.8737 - val_loss: 0.3559 - val_accuracy: 0.8726\n",
      "Epoch 10/30\n",
      "1719/1719 [==============================] - 2s 1ms/step - loss: 0.3407 - accuracy: 0.8787 - val_loss: 0.3552 - val_accuracy: 0.8746\n",
      "Epoch 11/30\n",
      "1719/1719 [==============================] - 3s 1ms/step - loss: 0.3344 - accuracy: 0.8822 - val_loss: 0.3531 - val_accuracy: 0.8752\n",
      "Epoch 12/30\n",
      "1719/1719 [==============================] - 3s 1ms/step - loss: 0.3360 - accuracy: 0.8805 - val_loss: 0.3510 - val_accuracy: 0.8770\n",
      "Epoch 13/30\n",
      "1719/1719 [==============================] - 3s 1ms/step - loss: 0.3199 - accuracy: 0.8850 - val_loss: 0.3369 - val_accuracy: 0.8802\n",
      "Epoch 14/30\n",
      "1719/1719 [==============================] - 3s 1ms/step - loss: 0.3236 - accuracy: 0.8839 - val_loss: 0.3353 - val_accuracy: 0.8784\n",
      "Epoch 15/30\n",
      "1719/1719 [==============================] - 3s 1ms/step - loss: 0.3152 - accuracy: 0.8854 - val_loss: 0.3380 - val_accuracy: 0.8814\n",
      "Epoch 16/30\n",
      "1719/1719 [==============================] - 3s 1ms/step - loss: 0.3093 - accuracy: 0.8867 - val_loss: 0.3377 - val_accuracy: 0.8768\n",
      "Epoch 17/30\n",
      "1719/1719 [==============================] - 3s 1ms/step - loss: 0.2989 - accuracy: 0.8916 - val_loss: 0.3273 - val_accuracy: 0.8824\n",
      "Epoch 18/30\n",
      "1719/1719 [==============================] - 3s 1ms/step - loss: 0.2977 - accuracy: 0.8926 - val_loss: 0.3209 - val_accuracy: 0.8842\n",
      "Epoch 19/30\n",
      "1719/1719 [==============================] - 3s 1ms/step - loss: 0.2911 - accuracy: 0.8936 - val_loss: 0.3228 - val_accuracy: 0.8856\n",
      "Epoch 20/30\n",
      "1719/1719 [==============================] - 2s 1ms/step - loss: 0.2877 - accuracy: 0.8963 - val_loss: 0.3270 - val_accuracy: 0.8816\n",
      "Epoch 21/30\n",
      "1719/1719 [==============================] - 3s 1ms/step - loss: 0.2844 - accuracy: 0.8974 - val_loss: 0.3163 - val_accuracy: 0.8884\n",
      "Epoch 22/30\n",
      "1719/1719 [==============================] - 3s 1ms/step - loss: 0.2775 - accuracy: 0.9002 - val_loss: 0.3116 - val_accuracy: 0.8848\n",
      "Epoch 23/30\n",
      "1719/1719 [==============================] - 3s 1ms/step - loss: 0.2750 - accuracy: 0.9014 - val_loss: 0.3113 - val_accuracy: 0.8886\n",
      "Epoch 24/30\n",
      "1719/1719 [==============================] - 3s 1ms/step - loss: 0.2694 - accuracy: 0.9027 - val_loss: 0.3057 - val_accuracy: 0.8910\n",
      "Epoch 25/30\n",
      "1719/1719 [==============================] - 2s 1ms/step - loss: 0.2620 - accuracy: 0.9041 - val_loss: 0.3179 - val_accuracy: 0.8858\n",
      "Epoch 26/30\n",
      "1719/1719 [==============================] - 3s 1ms/step - loss: 0.2615 - accuracy: 0.9054 - val_loss: 0.3080 - val_accuracy: 0.8888\n",
      "Epoch 27/30\n",
      "1719/1719 [==============================] - 3s 1ms/step - loss: 0.2517 - accuracy: 0.9088 - val_loss: 0.3079 - val_accuracy: 0.8892\n",
      "Epoch 28/30\n",
      "1719/1719 [==============================] - 3s 1ms/step - loss: 0.2555 - accuracy: 0.9082 - val_loss: 0.3044 - val_accuracy: 0.8912\n",
      "Epoch 29/30\n",
      "1719/1719 [==============================] - 3s 1ms/step - loss: 0.2476 - accuracy: 0.9080 - val_loss: 0.3228 - val_accuracy: 0.8840\n",
      "Epoch 30/30\n",
      "1719/1719 [==============================] - 3s 1ms/step - loss: 0.2444 - accuracy: 0.9118 - val_loss: 0.3032 - val_accuracy: 0.8920\n"
     ]
    }
   ],
   "source": [
    "seq_history = seq_model.fit(mnist_X_train, mnist_y_train, epochs=30, \n",
    "                            validation_data=(mnist_X_valid, mnist_y_valid, None), #the 3rd item is sample weight on validation data\n",
    "                            # validation_split = 0.1 #if the dataset was not splitted\n",
    "                            # sample_weight=, # weights on instances, supersedes class_weight\n",
    "                            # class_weight=, # weights on target classes\n",
    "                           )"
   ]
  },
  {
   "cell_type": "code",
   "execution_count": 16,
   "id": "74106422-ba52-4a8d-86a0-45ad90d75873",
   "metadata": {},
   "outputs": [
    {
     "name": "stdout",
     "output_type": "stream",
     "text": [
      "{'verbose': 1, 'epochs': 30, 'steps': 1719}\n",
      "\n",
      "[0, 1, 2, 3, 4, 5, 6, 7, 8, 9, 10, 11, 12, 13, 14, 15, 16, 17, 18, 19, 20, 21, 22, 23, 24, 25, 26, 27, 28, 29]\n",
      "\n"
     ]
    },
    {
     "data": {
      "text/plain": [
       "{'loss': [0.7543332576751709,\n",
       "  0.49412187933921814,\n",
       "  0.446273535490036,\n",
       "  0.41956213116645813,\n",
       "  0.39936599135398865,\n",
       "  0.3853321075439453,\n",
       "  0.3723609745502472,\n",
       "  0.363101601600647,\n",
       "  0.3533365726470947,\n",
       "  0.3455921411514282,\n",
       "  0.3379187285900116,\n",
       "  0.33102095127105713,\n",
       "  0.32497134804725647,\n",
       "  0.31890758872032166,\n",
       "  0.31294745206832886,\n",
       "  0.3076480031013489,\n",
       "  0.3027409315109253,\n",
       "  0.2979724407196045,\n",
       "  0.29230329394340515,\n",
       "  0.28787365555763245,\n",
       "  0.28325167298316956,\n",
       "  0.2783519923686981,\n",
       "  0.27476972341537476,\n",
       "  0.27071020007133484,\n",
       "  0.26644933223724365,\n",
       "  0.26271507143974304,\n",
       "  0.25862595438957214,\n",
       "  0.2540304660797119,\n",
       "  0.25174880027770996,\n",
       "  0.24768967926502228],\n",
       " 'accuracy': [0.751981794834137,\n",
       "  0.8240181803703308,\n",
       "  0.8415636420249939,\n",
       "  0.8492545485496521,\n",
       "  0.8578000068664551,\n",
       "  0.8619999885559082,\n",
       "  0.8669454455375671,\n",
       "  0.8697454333305359,\n",
       "  0.8741818070411682,\n",
       "  0.8755090832710266,\n",
       "  0.8781090974807739,\n",
       "  0.8812000155448914,\n",
       "  0.883436381816864,\n",
       "  0.8854363560676575,\n",
       "  0.8871636390686035,\n",
       "  0.8882181644439697,\n",
       "  0.8905090689659119,\n",
       "  0.8922545313835144,\n",
       "  0.8943454623222351,\n",
       "  0.8960182070732117,\n",
       "  0.8980727195739746,\n",
       "  0.900600016117096,\n",
       "  0.9005454778671265,\n",
       "  0.9012545347213745,\n",
       "  0.9030181765556335,\n",
       "  0.9041818380355835,\n",
       "  0.906145453453064,\n",
       "  0.9086727499961853,\n",
       "  0.9080363512039185,\n",
       "  0.9103636145591736],\n",
       " 'val_loss': [0.5203059911727905,\n",
       "  0.45477724075317383,\n",
       "  0.41894859075546265,\n",
       "  0.39905354380607605,\n",
       "  0.3879791498184204,\n",
       "  0.3769160807132721,\n",
       "  0.379511296749115,\n",
       "  0.37555938959121704,\n",
       "  0.35593685507774353,\n",
       "  0.3552218973636627,\n",
       "  0.353069007396698,\n",
       "  0.3509542644023895,\n",
       "  0.3369257152080536,\n",
       "  0.3352980315685272,\n",
       "  0.3379996716976166,\n",
       "  0.33768126368522644,\n",
       "  0.327330082654953,\n",
       "  0.32089877128601074,\n",
       "  0.3228437602519989,\n",
       "  0.32701465487480164,\n",
       "  0.3163101375102997,\n",
       "  0.31164541840553284,\n",
       "  0.31132403016090393,\n",
       "  0.3056791424751282,\n",
       "  0.31791287660598755,\n",
       "  0.30796027183532715,\n",
       "  0.307859867811203,\n",
       "  0.3043997883796692,\n",
       "  0.32277801632881165,\n",
       "  0.30315226316452026],\n",
       " 'val_accuracy': [0.8235999941825867,\n",
       "  0.8429999947547913,\n",
       "  0.8528000116348267,\n",
       "  0.8622000217437744,\n",
       "  0.8597999811172485,\n",
       "  0.8700000047683716,\n",
       "  0.8644000291824341,\n",
       "  0.866599977016449,\n",
       "  0.8726000189781189,\n",
       "  0.8745999932289124,\n",
       "  0.8751999735832214,\n",
       "  0.8769999742507935,\n",
       "  0.8802000284194946,\n",
       "  0.8784000277519226,\n",
       "  0.8813999891281128,\n",
       "  0.876800000667572,\n",
       "  0.8823999762535095,\n",
       "  0.8841999769210815,\n",
       "  0.8855999708175659,\n",
       "  0.881600022315979,\n",
       "  0.8884000182151794,\n",
       "  0.8848000168800354,\n",
       "  0.8885999917984009,\n",
       "  0.890999972820282,\n",
       "  0.8858000040054321,\n",
       "  0.8888000249862671,\n",
       "  0.88919997215271,\n",
       "  0.8912000060081482,\n",
       "  0.8840000033378601,\n",
       "  0.8920000195503235]}"
      ]
     },
     "execution_count": 16,
     "metadata": {},
     "output_type": "execute_result"
    }
   ],
   "source": [
    "# Attributes of history objects\n",
    "print(seq_history.params)\n",
    "print()\n",
    "print(seq_history.epoch)\n",
    "print()\n",
    "seq_history.history"
   ]
  },
  {
   "cell_type": "code",
   "execution_count": 17,
   "id": "6cee9824-0dea-4356-9fbd-b8bb0415898f",
   "metadata": {},
   "outputs": [
    {
     "data": {
      "image/png": "[encoded data removed]",
      "text/plain": [
       "<Figure size 864x576 with 1 Axes>"
      ]
     },
     "metadata": {
      "needs_background": "light"
     },
     "output_type": "display_data"
    }
   ],
   "source": [
    "# Visualize the training history\n",
    "pd.DataFrame(seq_history.history).plot(figsize=(12,8))\n",
    "plt.grid(True)\n",
    "plt.gca().set_ylim(0,1)\n",
    "plt.show()"
   ]
  },
  {
   "cell_type": "markdown",
   "id": "0d82d1d5-42c1-40a6-9abd-38ee647ca51d",
   "metadata": {},
   "source": [
    "# Evaluate Model and Prediction"
   ]
  },
  {
   "cell_type": "code",
   "execution_count": 18,
   "id": "42843ecf-5794-43c9-b030-7bcbc1f7d609",
   "metadata": {},
   "outputs": [
    {
     "name": "stdout",
     "output_type": "stream",
     "text": [
      "313/313 [==============================] - 1s 1ms/step - loss: 0.6660 - accuracy: 0.8223\n"
     ]
    },
    {
     "data": {
      "text/plain": [
       "[0.6659903526306152, 0.8223000168800354]"
      ]
     },
     "execution_count": 18,
     "metadata": {},
     "output_type": "execute_result"
    }
   ],
   "source": [
    "seq_model.evaluate(mnist_X_test, mnist_y_test)"
   ]
  },
  {
   "cell_type": "code",
   "execution_count": 19,
   "id": "7839677a-564e-452c-a961-9ca9c27da45d",
   "metadata": {},
   "outputs": [
    {
     "data": {
      "text/plain": [
       "array([[0., 0., 0., 0., 0., 0., 0., 0., 0., 1.],\n",
       "       [0., 0., 1., 0., 0., 0., 0., 0., 0., 0.],\n",
       "       [0., 1., 0., 0., 0., 0., 0., 0., 0., 0.]], dtype=float32)"
      ]
     },
     "execution_count": 19,
     "metadata": {},
     "output_type": "execute_result"
    }
   ],
   "source": [
    "mnist_X_new = mnist_X_test[:3]\n",
    "\n",
    "# Predicted proability\n",
    "mnist_y_proba = seq_model.predict(mnist_X_new)\n",
    "mnist_y_proba.round(2)"
   ]
  },
  {
   "cell_type": "code",
   "execution_count": 20,
   "id": "b6fe28ac-d294-40d0-8daa-edfa67a97cb6",
   "metadata": {},
   "outputs": [
    {
     "name": "stdout",
     "output_type": "stream",
     "text": [
      "[9 2 1]\n",
      "['Ankle boot' 'Pullover' 'Trouser']\n",
      "[9 2 1]\n"
     ]
    }
   ],
   "source": [
    "mnist_y_pred = np.argmax(mnist_y_proba, axis=-1)\n",
    "print(mnist_y_pred)\n",
    "print(np.array(CLASS_NAMES)[mnist_y_pred])\n",
    "\n",
    "mnist_y_new = mnist_y_test[:3]\n",
    "print(mnist_y_new)"
   ]
  },
  {
   "cell_type": "markdown",
   "id": "fc1c6b41-89ce-4e88-b1ad-028eaed5b55c",
   "metadata": {},
   "source": [
    "# Hyperparameter Tuning"
   ]
  },
  {
   "cell_type": "code",
   "execution_count": null,
   "id": "d154d46f-65c5-496e-ba19-5e8cb6542551",
   "metadata": {},
   "outputs": [],
   "source": []
  },
  {
   "cell_type": "markdown",
   "id": "51831b0c-103d-413d-850e-7d9bccbf4d80",
   "metadata": {},
   "source": [
    "# Save and Load"
   ]
  },
  {
   "cell_type": "markdown",
   "id": "b3a284bc-c82c-407e-98c1-294ace799659",
   "metadata": {},
   "source": [
    "## Save and Load the trained models"
   ]
  },
  {
   "cell_type": "code",
   "execution_count": 21,
   "id": "3c9585c9-cb20-493a-9610-82283b2cdfe8",
   "metadata": {},
   "outputs": [],
   "source": [
    "seq_model.save(\"keras_fashion_mnist_classifier.h5\")\n",
    "seq_model_loaded = keras.models.load_model(\"keras_fashion_mnist_classifier.h5\")"
   ]
  },
  {
   "cell_type": "markdown",
   "id": "dfecc823-2162-4979-8eb9-489863c6b947",
   "metadata": {},
   "source": [
    "## Backward Compatibility between Versions"
   ]
  },
  {
   "cell_type": "code",
   "execution_count": null,
   "id": "56fc3614-e26a-4c2f-ba73-e9577ad5c05f",
   "metadata": {},
   "outputs": [],
   "source": []
  },
  {
   "cell_type": "markdown",
   "id": "82e34411-c96c-4408-85c7-805db4b5f5ec",
   "metadata": {},
   "source": [
    "# Callbacks\n",
    "\n",
    "A callback is an object that can perform actions at various stages of training (e.g. at the start or end of an epoch, before or after a single batch, etc).\n",
    "\n",
    "- `keras.Model.fit(callbacks=[])` callbacks\n",
    "    - Save checkpoints in training: `keras.callbacks.ModelCheckpoint(file_path=\"\", save_best_only=True, save_freq=\"epoch\")`\n",
    "        - Saving model objects at certain frequency (default at the end of each epoch), optionally saving the best performing model\n",
    "    - Early stopping: `keras.callbacks.EarlyStopping(patience=10, restore_best_weights=True)`\n",
    "        - Stop the training if there is no improvement after `patience` number of epochs, optionally roll back to the best performing model so far\n",
    "    - TensorBoard: `keras.callbacks.TensorBoard(log_dir=\"\")\n",
    "- Custom callbacks\n",
    "    - Example of a custom callback that print the ratio between validation loss and training loss:\n",
    "    \n",
    "        ```Python\n",
    "        class PrintTrainRatioCallback(keras.callbacks.Callback):\n",
    "            def on_epoch_end(self, epoch, logs):\n",
    "                print(\"\\nval/train: {:.2f}\".format(logs[\"val_loss\"] / logs[\"loss\"]))\n",
    "        ```"
   ]
  },
  {
   "cell_type": "code",
   "execution_count": 22,
   "id": "2d53758b-9f77-4cbc-9ef5-7742908a558b",
   "metadata": {
    "tags": []
   },
   "outputs": [
    {
     "name": "stdout",
     "output_type": "stream",
     "text": [
      "Epoch 1/100\n",
      "1719/1719 [==============================] - 3s 1ms/step - loss: 0.2448 - accuracy: 0.9116 - val_loss: 0.3060 - val_accuracy: 0.8898\n",
      "\n",
      "val/train: 1.25\n",
      "\n",
      "Epoch 2/100\n",
      "1719/1719 [==============================] - 3s 1ms/step - loss: 0.2405 - accuracy: 0.9128 - val_loss: 0.3182 - val_accuracy: 0.8870\n",
      "\n",
      "val/train: 1.32\n",
      "\n",
      "Epoch 3/100\n",
      "1719/1719 [==============================] - 3s 1ms/step - loss: 0.2368 - accuracy: 0.9141 - val_loss: 0.2947 - val_accuracy: 0.8928\n",
      "\n",
      "val/train: 1.24\n",
      "\n",
      "Epoch 4/100\n",
      "1719/1719 [==============================] - 3s 1ms/step - loss: 0.2336 - accuracy: 0.9146 - val_loss: 0.3082 - val_accuracy: 0.8864\n",
      "\n",
      "val/train: 1.32\n",
      "\n",
      "Epoch 5/100\n",
      "1719/1719 [==============================] - 3s 1ms/step - loss: 0.2308 - accuracy: 0.9172 - val_loss: 0.3059 - val_accuracy: 0.8868\n",
      "\n",
      "val/train: 1.33\n",
      "\n",
      "Epoch 6/100\n",
      "1719/1719 [==============================] - 3s 1ms/step - loss: 0.2272 - accuracy: 0.9174 - val_loss: 0.3047 - val_accuracy: 0.8910\n",
      "\n",
      "val/train: 1.34\n",
      "\n",
      "Epoch 7/100\n",
      "1719/1719 [==============================] - 3s 1ms/step - loss: 0.2245 - accuracy: 0.9183 - val_loss: 0.2957 - val_accuracy: 0.8934\n",
      "\n",
      "val/train: 1.32\n",
      "\n",
      "Epoch 8/100\n",
      "1719/1719 [==============================] - 3s 1ms/step - loss: 0.2206 - accuracy: 0.9211 - val_loss: 0.3014 - val_accuracy: 0.8896\n",
      "\n",
      "val/train: 1.37\n",
      "\n",
      "Epoch 9/100\n",
      "1719/1719 [==============================] - 3s 1ms/step - loss: 0.2176 - accuracy: 0.9214 - val_loss: 0.3050 - val_accuracy: 0.8896\n",
      "\n",
      "val/train: 1.40\n",
      "\n",
      "Epoch 10/100\n",
      "1719/1719 [==============================] - 3s 1ms/step - loss: 0.2152 - accuracy: 0.9227 - val_loss: 0.2999 - val_accuracy: 0.8894\n",
      "\n",
      "val/train: 1.39\n",
      "\n",
      "Epoch 11/100\n",
      "1719/1719 [==============================] - 3s 1ms/step - loss: 0.2115 - accuracy: 0.9241 - val_loss: 0.2959 - val_accuracy: 0.8970\n",
      "\n",
      "val/train: 1.40\n",
      "\n",
      "Epoch 12/100\n",
      "1719/1719 [==============================] - 3s 1ms/step - loss: 0.2074 - accuracy: 0.9250 - val_loss: 0.3049 - val_accuracy: 0.8922\n",
      "\n",
      "val/train: 1.47\n",
      "\n",
      "Epoch 13/100\n",
      "1719/1719 [==============================] - 3s 1ms/step - loss: 0.2060 - accuracy: 0.9251 - val_loss: 0.3128 - val_accuracy: 0.8906\n",
      "\n",
      "val/train: 1.52\n",
      "\n",
      "Epoch 14/100\n",
      "1719/1719 [==============================] - 3s 1ms/step - loss: 0.2034 - accuracy: 0.9273 - val_loss: 0.3002 - val_accuracy: 0.8888\n",
      "\n",
      "val/train: 1.48\n",
      "\n",
      "Epoch 15/100\n",
      "1719/1719 [==============================] - 3s 1ms/step - loss: 0.2007 - accuracy: 0.9283 - val_loss: 0.2981 - val_accuracy: 0.8908\n",
      "\n",
      "val/train: 1.49\n",
      "\n",
      "Epoch 16/100\n",
      "1719/1719 [==============================] - 3s 1ms/step - loss: 0.1980 - accuracy: 0.9291 - val_loss: 0.3006 - val_accuracy: 0.8946\n",
      "\n",
      "val/train: 1.52\n",
      "\n",
      "Epoch 17/100\n",
      "1719/1719 [==============================] - 3s 1ms/step - loss: 0.1951 - accuracy: 0.9301 - val_loss: 0.3097 - val_accuracy: 0.8868\n",
      "\n",
      "val/train: 1.59\n",
      "\n",
      "Epoch 18/100\n",
      "1719/1719 [==============================] - 3s 1ms/step - loss: 0.1932 - accuracy: 0.9307 - val_loss: 0.3434 - val_accuracy: 0.8758\n",
      "\n",
      "val/train: 1.78\n",
      "\n",
      "Epoch 19/100\n",
      "1719/1719 [==============================] - 3s 2ms/step - loss: 0.1894 - accuracy: 0.9317 - val_loss: 0.3047 - val_accuracy: 0.8888\n",
      "\n",
      "val/train: 1.61\n",
      "\n",
      "Epoch 20/100\n",
      "1719/1719 [==============================] - 3s 1ms/step - loss: 0.1872 - accuracy: 0.9327 - val_loss: 0.3014 - val_accuracy: 0.8920\n",
      "\n",
      "val/train: 1.61\n",
      "\n",
      "Epoch 21/100\n",
      "1719/1719 [==============================] - 3s 1ms/step - loss: 0.1834 - accuracy: 0.9342 - val_loss: 0.2963 - val_accuracy: 0.8950\n",
      "\n",
      "val/train: 1.62\n",
      "\n",
      "Epoch 22/100\n",
      "1719/1719 [==============================] - 3s 1ms/step - loss: 0.1827 - accuracy: 0.9346 - val_loss: 0.3091 - val_accuracy: 0.8926\n",
      "\n",
      "val/train: 1.69\n",
      "\n",
      "Epoch 23/100\n",
      "1719/1719 [==============================] - 3s 1ms/step - loss: 0.1802 - accuracy: 0.9349 - val_loss: 0.3013 - val_accuracy: 0.8918\n",
      "\n",
      "val/train: 1.67\n",
      "\n"
     ]
    }
   ],
   "source": [
    "# Code Example\n",
    "\n",
    "class PrintTrainRatioCallback(keras.callbacks.Callback):\n",
    "    def on_epoch_end(self, epoch, logs):\n",
    "        print(\"\\nval/train: {:.2f}\\n\".format(logs[\"val_loss\"] / logs[\"loss\"]))\n",
    "\n",
    "checkpoint_cb = keras.callbacks.ModelCheckpoint(\"fashion_checkpoint.h5\", save_best_only=True)\n",
    "early_stopping_cb = keras.callbacks.EarlyStopping(patience=20, restore_best_weights=True)\n",
    "print_ratio_cb = PrintTrainRatioCallback()\n",
    "\n",
    "cb_seq_history = seq_model.fit(mnist_X_train, mnist_y_train, epochs=100, \n",
    "                               validation_data=(mnist_X_valid, mnist_y_valid), \n",
    "                               callbacks=[checkpoint_cb, early_stopping_cb, print_ratio_cb])"
   ]
  },
  {
   "cell_type": "markdown",
   "id": "1e9d3e03-f1dd-4693-82fe-4e288268369d",
   "metadata": {
    "tags": []
   },
   "source": [
    "# TensorBoard"
   ]
  },
  {
   "cell_type": "code",
   "execution_count": 17,
   "id": "751e36d2-a033-4a6c-afb1-ead36a2f7263",
   "metadata": {},
   "outputs": [
    {
     "data": {
      "text/plain": [
       "'./log/fashion_mnist_logs/run_2022_10_03-12_52_57'"
      ]
     },
     "execution_count": 17,
     "metadata": {},
     "output_type": "execute_result"
    }
   ],
   "source": [
    "# Define directory structure to save log\n",
    "\n",
    "import os\n",
    "root_logdir = os.path.join(os.curdir, \"log/fashion_mnist_logs\")\n",
    "\n",
    "def get_run_logdir():\n",
    "    import time\n",
    "    run_id = time.strftime(\"run_%Y_%m_%d-%H_%M_%S\")\n",
    "    return os.path.join(root_logdir, run_id)\n",
    "\n",
    "run_logdir = get_run_logdir()\n",
    "run_logdir"
   ]
  },
  {
   "cell_type": "code",
   "execution_count": 16,
   "id": "60057584-581d-4c37-80fc-a2f195b916af",
   "metadata": {},
   "outputs": [
    {
     "name": "stdout",
     "output_type": "stream",
     "text": [
      "Epoch 1/30\n",
      "   1/1719 [..............................] - ETA: 5s - loss: 0.3777 - accuracy: 0.8438"
     ]
    },
    {
     "name": "stderr",
     "output_type": "stream",
     "text": [
      "2022-10-03 12:51:40.279900: I tensorflow/core/profiler/lib/profiler_session.cc:136] Profiler session initializing.\n",
      "2022-10-03 12:51:40.279928: I tensorflow/core/profiler/lib/profiler_session.cc:155] Profiler session started.\n",
      "2022-10-03 12:51:40.396435: I tensorflow/core/profiler/lib/profiler_session.cc:172] Profiler session tear down.\n",
      "2022-10-03 12:51:40.396600: I tensorflow/core/profiler/internal/gpu/cupti_tracer.cc:1487] CUPTI activity buffer flushed\n"
     ]
    },
    {
     "name": "stdout",
     "output_type": "stream",
     "text": [
      " 109/1719 [>.............................] - ETA: 6s - loss: 0.2340 - accuracy: 0.9149"
     ]
    },
    {
     "name": "stderr",
     "output_type": "stream",
     "text": [
      "2022-10-03 12:51:40.669416: I tensorflow/core/profiler/lib/profiler_session.cc:136] Profiler session initializing.\n",
      "2022-10-03 12:51:40.669440: I tensorflow/core/profiler/lib/profiler_session.cc:155] Profiler session started.\n",
      "2022-10-03 12:51:40.779282: I tensorflow/core/profiler/lib/profiler_session.cc:71] Profiler session collecting data.\n",
      "2022-10-03 12:51:40.779448: I tensorflow/core/profiler/internal/gpu/cupti_tracer.cc:1487] CUPTI activity buffer flushed\n",
      "2022-10-03 12:51:40.924101: I tensorflow/core/profiler/internal/gpu/cupti_collector.cc:228]  GpuTracer has collected 79 callback api events and 67 activity events. \n",
      "2022-10-03 12:51:40.929480: I tensorflow/core/profiler/lib/profiler_session.cc:172] Profiler session tear down.\n",
      "2022-10-03 12:51:40.931301: I tensorflow/core/profiler/rpc/client/save_profile.cc:137] Creating directory: ./log/fashion_mnist_logs/run_2022_10_03-12_51_40/train/plugins/profile/2022_10_03_12_51_40\n",
      "2022-10-03 12:51:40.932754: I tensorflow/core/profiler/rpc/client/save_profile.cc:143] Dumped gzipped tool data for trace.json.gz to ./log/fashion_mnist_logs/run_2022_10_03-12_51_40/train/plugins/profile/2022_10_03_12_51_40/solanum.trace.json.gz\n",
      "2022-10-03 12:51:40.935431: I tensorflow/core/profiler/rpc/client/save_profile.cc:137] Creating directory: ./log/fashion_mnist_logs/run_2022_10_03-12_51_40/train/plugins/profile/2022_10_03_12_51_40\n",
      "2022-10-03 12:51:40.935837: I tensorflow/core/profiler/rpc/client/save_profile.cc:143] Dumped gzipped tool data for memory_profile.json.gz to ./log/fashion_mnist_logs/run_2022_10_03-12_51_40/train/plugins/profile/2022_10_03_12_51_40/solanum.memory_profile.json.gz\n",
      "2022-10-03 12:51:40.936058: I tensorflow/core/profiler/rpc/client/capture_profile.cc:251] Creating directory: ./log/fashion_mnist_logs/run_2022_10_03-12_51_40/train/plugins/profile/2022_10_03_12_51_40Dumped tool data for xplane.pb to ./log/fashion_mnist_logs/run_2022_10_03-12_51_40/train/plugins/profile/2022_10_03_12_51_40/solanum.xplane.pb\n",
      "Dumped tool data for overview_page.pb to ./log/fashion_mnist_logs/run_2022_10_03-12_51_40/train/plugins/profile/2022_10_03_12_51_40/solanum.overview_page.pb\n",
      "Dumped tool data for input_pipeline.pb to ./log/fashion_mnist_logs/run_2022_10_03-12_51_40/train/plugins/profile/2022_10_03_12_51_40/solanum.input_pipeline.pb\n",
      "Dumped tool data for tensorflow_stats.pb to ./log/fashion_mnist_logs/run_2022_10_03-12_51_40/train/plugins/profile/2022_10_03_12_51_40/solanum.tensorflow_stats.pb\n",
      "Dumped tool data for kernel_stats.pb to ./log/fashion_mnist_logs/run_2022_10_03-12_51_40/train/plugins/profile/2022_10_03_12_51_40/solanum.kernel_stats.pb\n",
      "\n"
     ]
    },
    {
     "name": "stdout",
     "output_type": "stream",
     "text": [
      "1719/1719 [==============================] - 3s 2ms/step - loss: 0.2425 - accuracy: 0.9136 - val_loss: 0.3053 - val_accuracy: 0.8902\n",
      "Epoch 2/30\n",
      "1719/1719 [==============================] - 3s 2ms/step - loss: 0.2387 - accuracy: 0.9140 - val_loss: 0.3007 - val_accuracy: 0.8922\n",
      "Epoch 3/30\n",
      "1719/1719 [==============================] - 3s 1ms/step - loss: 0.2354 - accuracy: 0.9151 - val_loss: 0.2945 - val_accuracy: 0.8934\n",
      "Epoch 4/30\n",
      "1719/1719 [==============================] - 3s 1ms/step - loss: 0.2318 - accuracy: 0.9156 - val_loss: 0.3148 - val_accuracy: 0.8844\n",
      "Epoch 5/30\n",
      "1719/1719 [==============================] - 3s 1ms/step - loss: 0.2289 - accuracy: 0.9171 - val_loss: 0.3032 - val_accuracy: 0.8900\n",
      "Epoch 6/30\n",
      "1719/1719 [==============================] - 3s 1ms/step - loss: 0.2254 - accuracy: 0.9174 - val_loss: 0.3013 - val_accuracy: 0.8948\n",
      "Epoch 7/30\n",
      "1719/1719 [==============================] - 3s 1ms/step - loss: 0.2215 - accuracy: 0.9207 - val_loss: 0.2918 - val_accuracy: 0.8950\n",
      "Epoch 8/30\n",
      "1719/1719 [==============================] - 3s 1ms/step - loss: 0.2196 - accuracy: 0.9203 - val_loss: 0.2976 - val_accuracy: 0.8934\n",
      "Epoch 9/30\n",
      "1719/1719 [==============================] - 3s 1ms/step - loss: 0.2167 - accuracy: 0.9208 - val_loss: 0.2878 - val_accuracy: 0.8956\n",
      "Epoch 10/30\n",
      "1719/1719 [==============================] - 3s 1ms/step - loss: 0.2131 - accuracy: 0.9231 - val_loss: 0.2870 - val_accuracy: 0.8978\n",
      "Epoch 11/30\n",
      "1719/1719 [==============================] - 3s 1ms/step - loss: 0.2100 - accuracy: 0.9249 - val_loss: 0.2940 - val_accuracy: 0.8952\n",
      "Epoch 12/30\n",
      "1719/1719 [==============================] - 3s 1ms/step - loss: 0.2065 - accuracy: 0.9252 - val_loss: 0.2888 - val_accuracy: 0.8952\n",
      "Epoch 13/30\n",
      "1719/1719 [==============================] - 3s 1ms/step - loss: 0.2039 - accuracy: 0.9261 - val_loss: 0.2973 - val_accuracy: 0.8968\n",
      "Epoch 14/30\n",
      "1719/1719 [==============================] - 3s 1ms/step - loss: 0.2023 - accuracy: 0.9267 - val_loss: 0.2960 - val_accuracy: 0.8948\n",
      "Epoch 15/30\n",
      "1719/1719 [==============================] - 3s 1ms/step - loss: 0.1994 - accuracy: 0.9281 - val_loss: 0.2912 - val_accuracy: 0.8936\n",
      "Epoch 16/30\n",
      "1719/1719 [==============================] - 3s 1ms/step - loss: 0.1965 - accuracy: 0.9296 - val_loss: 0.2873 - val_accuracy: 0.8954\n",
      "Epoch 17/30\n",
      "1719/1719 [==============================] - 3s 1ms/step - loss: 0.1924 - accuracy: 0.9319 - val_loss: 0.2859 - val_accuracy: 0.8956\n",
      "Epoch 18/30\n",
      "1719/1719 [==============================] - 3s 1ms/step - loss: 0.1916 - accuracy: 0.9316 - val_loss: 0.2842 - val_accuracy: 0.9006\n",
      "Epoch 19/30\n",
      "1719/1719 [==============================] - 3s 1ms/step - loss: 0.1885 - accuracy: 0.9321 - val_loss: 0.3017 - val_accuracy: 0.8938\n",
      "Epoch 20/30\n",
      "1719/1719 [==============================] - 3s 1ms/step - loss: 0.1863 - accuracy: 0.9329 - val_loss: 0.2884 - val_accuracy: 0.8974\n",
      "Epoch 21/30\n",
      "1719/1719 [==============================] - 3s 1ms/step - loss: 0.1839 - accuracy: 0.9335 - val_loss: 0.2867 - val_accuracy: 0.8954\n",
      "Epoch 22/30\n",
      "1719/1719 [==============================] - 3s 1ms/step - loss: 0.1810 - accuracy: 0.9352 - val_loss: 0.3125 - val_accuracy: 0.8862\n",
      "Epoch 23/30\n",
      "1719/1719 [==============================] - 3s 1ms/step - loss: 0.1780 - accuracy: 0.9375 - val_loss: 0.3005 - val_accuracy: 0.8894\n",
      "Epoch 24/30\n",
      "1719/1719 [==============================] - 3s 1ms/step - loss: 0.1758 - accuracy: 0.9378 - val_loss: 0.2991 - val_accuracy: 0.8898\n",
      "Epoch 25/30\n",
      "1719/1719 [==============================] - 3s 1ms/step - loss: 0.1725 - accuracy: 0.9390 - val_loss: 0.2851 - val_accuracy: 0.8980\n",
      "Epoch 26/30\n",
      "1719/1719 [==============================] - 3s 1ms/step - loss: 0.1716 - accuracy: 0.9378 - val_loss: 0.2849 - val_accuracy: 0.8952\n",
      "Epoch 27/30\n",
      "1719/1719 [==============================] - 3s 1ms/step - loss: 0.1675 - accuracy: 0.9411 - val_loss: 0.2935 - val_accuracy: 0.8946\n",
      "Epoch 28/30\n",
      "1719/1719 [==============================] - 3s 1ms/step - loss: 0.1656 - accuracy: 0.9414 - val_loss: 0.3048 - val_accuracy: 0.8940\n",
      "Epoch 29/30\n",
      "1719/1719 [==============================] - 3s 1ms/step - loss: 0.1647 - accuracy: 0.9416 - val_loss: 0.3145 - val_accuracy: 0.8902\n",
      "Epoch 30/30\n",
      "1719/1719 [==============================] - 3s 2ms/step - loss: 0.1621 - accuracy: 0.9419 - val_loss: 0.2997 - val_accuracy: 0.8950\n"
     ]
    }
   ],
   "source": [
    "# Use TensorBoard Callback in training\n",
    "\n",
    "tensorboard_cb = keras.callbacks.TensorBoard(log_dir=get_run_logdir())\n",
    "tb_seq_history = seq_model.fit(mnist_X_train, mnist_y_train, epochs=30, \n",
    "                               validation_data=(mnist_X_valid, mnist_y_valid), \n",
    "                               callbacks=[tensorboard_cb])"
   ]
  },
  {
   "cell_type": "code",
   "execution_count": 18,
   "id": "8e75f679-3b5a-405b-bb6d-63bc701b2772",
   "metadata": {},
   "outputs": [
    {
     "name": "stdout",
     "output_type": "stream",
     "text": [
      "The tensorboard extension is already loaded. To reload it, use:\n",
      "  %reload_ext tensorboard\n"
     ]
    },
    {
     "data": {
      "text/plain": [
       "Reusing TensorBoard on port 8766 (pid 4296), started 0:08:33 ago. (Use '!kill 4296' to kill it.)"
      ]
     },
     "metadata": {},
     "output_type": "display_data"
    },
    {
     "data": {
      "text/html": [
       "\n",
       "      <iframe id=\"tensorboard-frame-1715226eac7ad389\" width=\"100%\" height=\"800\" frameborder=\"0\">\n",
       "      </iframe>\n",
       "      <script>\n",
       "        (function() {\n",
       "          const frame = document.getElementById(\"tensorboard-frame-1715226eac7ad389\");\n",
       "          const url = new URL(\"/\", window.location);\n",
       "          const port = 8766;\n",
       "          if (port) {\n",
       "            url.port = port;\n",
       "          }\n",
       "          frame.src = url;\n",
       "        })();\n",
       "      </script>\n",
       "    "
      ],
      "text/plain": [
       "<IPython.core.display.HTML object>"
      ]
     },
     "metadata": {},
     "output_type": "display_data"
    }
   ],
   "source": [
    "# Use % load_ext tensorboard if load on the first time\n",
    "# Use %reload_ext tensorboard if already loaded before\n",
    "%load_ext tensorboard \n",
    "%tensorboard --logdir ./log --port=8766"
   ]
  },
  {
   "cell_type": "markdown",
   "id": "f8881dd6-087e-4cf2-8053-c33034ba6d84",
   "metadata": {},
   "source": [
    "# Keras Layers"
   ]
  },
  {
   "cell_type": "markdown",
   "id": "41d18e8a-69de-458d-b2ba-10161adb5c83",
   "metadata": {},
   "source": [
    "## Input Layer\n",
    "\n",
    "### Shape of Input Layer: Flatten or Not"
   ]
  },
  {
   "cell_type": "code",
   "execution_count": null,
   "id": "03ea2af9-9442-4a5d-b5c7-ad3465827715",
   "metadata": {},
   "outputs": [],
   "source": []
  },
  {
   "cell_type": "code",
   "execution_count": null,
   "id": "fa4e8a53-3b59-43e4-9715-231259d8ca34",
   "metadata": {},
   "outputs": [],
   "source": []
  },
  {
   "cell_type": "markdown",
   "id": "e014aa78-897f-4c4c-bbcb-41c1fbe2a960",
   "metadata": {},
   "source": [
    "## Dense Layer"
   ]
  },
  {
   "cell_type": "code",
   "execution_count": null,
   "id": "6ab4eebe-efb3-422f-8a8d-7c53801d4489",
   "metadata": {},
   "outputs": [],
   "source": [
    "keras.layers.Dense(units, \n",
    "                   activation=None, \n",
    "                   kernel_initializer=\"glorot_uniform\",\n",
    "                   bias_initializer=\"zeros\",\n",
    "                  )"
   ]
  },
  {
   "cell_type": "markdown",
   "id": "46359dee-2e0a-41f0-bc5c-bb973502de7f",
   "metadata": {},
   "source": [
    "# Activation functions\n",
    "- See https://keras.io/api/layers/activations/\n",
    "    - \"relu\" or keras.activations.relu\n",
    "    - \"sigmoid\" or keras.activations.sigmoid\n",
    "    - \"softmax\" or keras.activations.relu\n",
    "    - \"softplus\" or keras.activations.softplus\n",
    "    - \"softsign\" or keras.activations.softsign\n",
    "    - \"tanh\" or keras.activations.tanh\n",
    "    - \"selu\" or keras.activations.selu\n",
    "    - \"elu\" or keras.activations.elu\n",
    "    - \"exponential\" or keras.activations.exponential"
   ]
  },
  {
   "cell_type": "markdown",
   "id": "9a23abdb-eed4-4cf7-a74a-f865aa72b8dd",
   "metadata": {
    "tags": []
   },
   "source": [
    "# Initializers \n",
    "- Initializers are used to intialize the weights & bias for each layer\n",
    "- Parameters: `kernel_initializer` (weight) and `bias_initializer`\n",
    "- See https://keras.io/api/layers/initializers/\n",
    "    - `tf.keras.initializers.RandomNormal(mean=0.0, stddev=0.05, seed=None)` or `tf.keras.initializers.random_normal`\n",
    "    - "
   ]
  },
  {
   "cell_type": "code",
   "execution_count": 3,
   "id": "2573114f-9505-4dfc-af34-0fefe9c58dad",
   "metadata": {},
   "outputs": [
    {
     "name": "stdout",
     "output_type": "stream",
     "text": [
      "(500, 1000)\n",
      "(1000,)\n",
      "(1000, 2000)\n",
      "(2000,)\n",
      "Model: \"['norm_init', 'unif_init']\"\n",
      "_________________________________________________________________\n",
      "Layer (type)                 Output Shape              Param #   \n",
      "=================================================================\n",
      "dense_2 (Dense)              (None, 600, 1000)         501000    \n",
      "_________________________________________________________________\n",
      "dense_3 (Dense)              (None, 600, 2000)         2002000   \n",
      "=================================================================\n",
      "Total params: 2,503,000\n",
      "Trainable params: 2,503,000\n",
      "Non-trainable params: 0\n",
      "_________________________________________________________________\n"
     ]
    }
   ],
   "source": [
    "model = keras.models.Sequential(layers=[keras.Input(shape=(600,500)),\n",
    "                                        keras.layers.Dense(units=1000,\n",
    "                                                           activation=\"relu\",\n",
    "                                                           kernel_initializer=keras.initializers.RandomNormal(mean=0.0, stddev=0.05, seed=47),\n",
    "                                                           bias_initializer=keras.initializers.RandomNormal(mean=0.0, stddev=0.05, seed=47),\n",
    "                                                          ),\n",
    "                                        keras.layers.Dense(units=2000,\n",
    "                                                           activation=\"tanh\",\n",
    "                                                           kernel_initializer=keras.initializers.RandomUniform(minval=-0.05, maxval=0.05, seed=47),\n",
    "                                                           bias_initializer=keras.initializers.RandomUniform(minval=-0.05, maxval=0.05, seed=47),\n",
    "                                                          ),\n",
    "                                       ],\n",
    "                                name=[\"norm_init\",\"unif_init\"]\n",
    "                               )\n",
    "\n",
    "norm_weight, norm_bias = model.layers[0].get_weights()\n",
    "unif_weight, unif_bias = model.layers[1].get_weights()\n",
    "\n",
    "print(norm_weight.shape)\n",
    "print(norm_bias.shape)\n",
    "\n",
    "print(unif_weight.shape)\n",
    "print(unif_bias.shape)\n",
    "\n",
    "model.summary()"
   ]
  },
  {
   "cell_type": "code",
   "execution_count": 27,
   "id": "be79a06e-df15-4eac-9ed0-48f9404af8d5",
   "metadata": {},
   "outputs": [
    {
     "data": {
      "image/png": "[encoded data removed]",
      "text/plain": [
       "<Figure size 1440x432 with 2 Axes>"
      ]
     },
     "metadata": {
      "needs_background": "light"
     },
     "output_type": "display_data"
    }
   ],
   "source": [
    "fig = plt.figure(figsize=[20,6])\n",
    "ax1 = fig.add_subplot(1,2,1)\n",
    "ax2 = fig.add_subplot(1,2,2)\n",
    "ax1.hist(norm_weight[:,8],bins=50)\n",
    "ax2.hist(unif_weight[10],bins=50)\n",
    "plt.show()"
   ]
  },
  {
   "cell_type": "markdown",
   "id": "514ba44a-1750-4653-bf84-d2afd1201465",
   "metadata": {
    "tags": []
   },
   "source": [
    "# Loss Function\n",
    "\n",
    "## Usecase for loss functions\n",
    "- `loss=\"binary_crossentropy\"` or `loss=keras.losses.BinaryCrossentropy`\n",
    "    - binary-class, single-lable classification target with 2 classes\n",
    "- `loss=\"sparse_categorical_crossentropy\"` or `loss=keras.losses.SparseCategoricalCrossentropy`\n",
    "    - multi-class, single-label (classes are exclusive) classification target with more than 2 classes\n",
    "    - The targets are NOT one-hot encoded.\n",
    "    - Example of a target for one instance: 4\n",
    "- `loss=\"categorical_crossentropy\"` or `loss=keras.losses.CategoricalCrossentropy`\n",
    "    - multi-class, single-label (classes are exclusive) classification target with more than 2 classes\n",
    "    - The targets are one-hot encoded.\n",
    "    - Example of a target for one instance: [0.,0.,1.,0.]\n",
    "- Multi-class, multi-label????\n",
    "- Regression???"
   ]
  },
  {
   "cell_type": "code",
   "execution_count": null,
   "id": "f9090d00-d4af-467d-ba20-343e94f3e533",
   "metadata": {},
   "outputs": [],
   "source": []
  },
  {
   "cell_type": "markdown",
   "id": "37c91f1e-f2fd-4cf9-84c0-7193cde784e6",
   "metadata": {},
   "source": [
    "# Optimizers"
   ]
  },
  {
   "cell_type": "code",
   "execution_count": null,
   "id": "7cdca9b4-a0df-43b1-b135-ffcd4a5bf3e8",
   "metadata": {},
   "outputs": [],
   "source": []
  },
  {
   "cell_type": "markdown",
   "id": "865cac83-dc9d-4253-9d1b-6b1b70a48031",
   "metadata": {},
   "source": [
    "# Metrics\n",
    "\n",
    "- How metrics are related to loss?"
   ]
  },
  {
   "cell_type": "code",
   "execution_count": null,
   "id": "e51ba9e8-4a1d-49ad-af39-fe2785cb5837",
   "metadata": {},
   "outputs": [],
   "source": []
  },
  {
   "cell_type": "markdown",
   "id": "e53cdfa8-2eda-445a-b03e-59eb83954dea",
   "metadata": {},
   "source": [
    "# Utilities\n",
    "\n",
    "- `keras.utils.to_categrical()` to convert sparse labels to one-hot vector labels"
   ]
  },
  {
   "cell_type": "code",
   "execution_count": null,
   "id": "ff6cdd6b-0ec6-4c21-a16b-4b562d64b8ed",
   "metadata": {},
   "outputs": [],
   "source": []
  }
 ],
 "metadata": {
  "kernelspec": {
   "display_name": "Python 3 (ipykernel)",
   "language": "python",
   "name": "python3"
  },
  "language_info": {
   "codemirror_mode": {
    "name": "ipython",
    "version": 3
   },
   "file_extension": ".py",
   "mimetype": "text/x-python",
   "name": "python",
   "nbconvert_exporter": "python",
   "pygments_lexer": "ipython3",
   "version": "3.8.10"
  }
 },
 "nbformat": 4,
 "nbformat_minor": 5
}
