{
 "cells": [
  {
   "cell_type": "code",
   "execution_count": 1,
   "id": "38179ed7-f20a-43da-8010-3406282fb2d5",
   "metadata": {},
   "outputs": [
    {
     "name": "stderr",
     "output_type": "stream",
     "text": [
      "2023-01-04 10:31:10.874150: I tensorflow/stream_executor/platform/default/dso_loader.cc:49] Successfully opened dynamic library libcudart.so.11.0\n"
     ]
    },
    {
     "name": "stdout",
     "output_type": "stream",
     "text": [
      "Keras Version: 2.4.0\n"
     ]
    }
   ],
   "source": [
    "from tensorflow import keras\n",
    "import numpy as np\n",
    "import pandas as pd\n",
    "import matplotlib\n",
    "import matplotlib.pyplot as plt\n",
    "%matplotlib inline\n",
    "\n",
    "# import keras_tuner\n",
    "\n",
    "from functools import partial\n",
    "\n",
    "print(\"Keras Version:\", keras.__version__)"
   ]
  },
  {
   "cell_type": "markdown",
   "id": "063a921d-08eb-4c5b-b129-8a461ab322c6",
   "metadata": {},
   "source": [
    "# Load Dataset for Demo"
   ]
  },
  {
   "cell_type": "code",
   "execution_count": 2,
   "id": "93fe0b18-2e51-44bd-be6b-cd0483259af8",
   "metadata": {},
   "outputs": [],
   "source": [
    "# Load fashion MNIST dataset\n",
    "fashion_mnist = keras.datasets.fashion_mnist\n",
    "(X_train_full, y_train_full), (X_test, y_test) = fashion_mnist.load_data()\n",
    "\n",
    "CLASS_NAMES = [\"T-shirt/top\", \"Trouser\", \"Pullover\", \"Dress\", \"Coat\", \n",
    "               \"Sandal\", \"Shirt\", \"Sneaker\", \"Bag\", \"Ankle boot\"]\n",
    "\n",
    "# Split the full training set into validation and actual training\n",
    "X_valid, X_train = X_train_full[:5000] / 255.0, X_train_full[5000:] / 255.0\n",
    "y_valid, y_train = y_train_full[:5000], y_train_full[5000:]"
   ]
  },
  {
   "cell_type": "markdown",
   "id": "35cf5954-570d-48e4-9df6-01be21b56e66",
   "metadata": {},
   "source": [
    "# Modeling Streamline"
   ]
  },
  {
   "cell_type": "markdown",
   "id": "095d6761-5b52-417a-a456-5155bec0bef5",
   "metadata": {},
   "source": [
    "## Sequential Model\n",
    "\n",
    "Sequential Model: Stack of dense layers"
   ]
  },
  {
   "cell_type": "code",
   "execution_count": 3,
   "id": "dc023cde-95cb-47ab-aa74-4eb2b2028748",
   "metadata": {},
   "outputs": [
    {
     "name": "stdout",
     "output_type": "stream",
     "text": [
      "Model: \"sequential\"\n",
      "_________________________________________________________________\n",
      "Layer (type)                 Output Shape              Param #   \n",
      "=================================================================\n",
      "Flatten (Flatten)            (None, 784)               0         \n",
      "_________________________________________________________________\n",
      "batch_normalization (BatchNo (None, 784)               3136      \n",
      "_________________________________________________________________\n",
      "dense (Dense)                (None, 300)               235500    \n",
      "_________________________________________________________________\n",
      "batch_normalization_1 (Batch (None, 300)               1200      \n",
      "_________________________________________________________________\n",
      "dense_1 (Dense)              (None, 100)               30100     \n",
      "_________________________________________________________________\n",
      "batch_normalization_2 (Batch (None, 100)               400       \n",
      "_________________________________________________________________\n",
      "dropout (Dropout)            (None, 100)               0         \n",
      "_________________________________________________________________\n",
      "dense_2 (Dense)              (None, 10)                1010      \n",
      "=================================================================\n",
      "Total params: 271,346\n",
      "Trainable params: 268,978\n",
      "Non-trainable params: 2,368\n",
      "_________________________________________________________________\n",
      "None\n"
     ]
    },
    {
     "name": "stderr",
     "output_type": "stream",
     "text": [
      "2023-01-04 10:31:12.881743: I tensorflow/compiler/jit/xla_cpu_device.cc:41] Not creating XLA devices, tf_xla_enable_xla_devices not set\n",
      "2023-01-04 10:31:12.882479: I tensorflow/stream_executor/platform/default/dso_loader.cc:49] Successfully opened dynamic library libcuda.so.1\n",
      "2023-01-04 10:31:12.909559: I tensorflow/stream_executor/cuda/cuda_gpu_executor.cc:941] successful NUMA node read from SysFS had negative value (-1), but there must be at least one NUMA node, so returning NUMA node zero\n",
      "2023-01-04 10:31:12.909839: I tensorflow/core/common_runtime/gpu/gpu_device.cc:1720] Found device 0 with properties: \n",
      "pciBusID: 0000:01:00.0 name: NVIDIA GeForce GTX 970 computeCapability: 5.2\n",
      "coreClock: 1.253GHz coreCount: 13 deviceMemorySize: 3.94GiB deviceMemoryBandwidth: 208.91GiB/s\n",
      "2023-01-04 10:31:12.909854: I tensorflow/stream_executor/platform/default/dso_loader.cc:49] Successfully opened dynamic library libcudart.so.11.0\n",
      "2023-01-04 10:31:12.911748: I tensorflow/stream_executor/platform/default/dso_loader.cc:49] Successfully opened dynamic library libcublas.so.11\n",
      "2023-01-04 10:31:12.911791: I tensorflow/stream_executor/platform/default/dso_loader.cc:49] Successfully opened dynamic library libcublasLt.so.11\n",
      "2023-01-04 10:31:12.912643: I tensorflow/stream_executor/platform/default/dso_loader.cc:49] Successfully opened dynamic library libcufft.so.10\n",
      "2023-01-04 10:31:12.912812: I tensorflow/stream_executor/platform/default/dso_loader.cc:49] Successfully opened dynamic library libcurand.so.10\n",
      "2023-01-04 10:31:12.914791: I tensorflow/stream_executor/platform/default/dso_loader.cc:49] Successfully opened dynamic library libcusolver.so.10\n",
      "2023-01-04 10:31:12.915241: I tensorflow/stream_executor/platform/default/dso_loader.cc:49] Successfully opened dynamic library libcusparse.so.11\n",
      "2023-01-04 10:31:12.915347: I tensorflow/stream_executor/platform/default/dso_loader.cc:49] Successfully opened dynamic library libcudnn.so.8\n",
      "2023-01-04 10:31:12.915440: I tensorflow/stream_executor/cuda/cuda_gpu_executor.cc:941] successful NUMA node read from SysFS had negative value (-1), but there must be at least one NUMA node, so returning NUMA node zero\n",
      "2023-01-04 10:31:12.915750: I tensorflow/stream_executor/cuda/cuda_gpu_executor.cc:941] successful NUMA node read from SysFS had negative value (-1), but there must be at least one NUMA node, so returning NUMA node zero\n",
      "2023-01-04 10:31:12.916037: I tensorflow/core/common_runtime/gpu/gpu_device.cc:1862] Adding visible gpu devices: 0\n",
      "2023-01-04 10:31:12.916742: I tensorflow/compiler/jit/xla_gpu_device.cc:99] Not creating XLA devices, tf_xla_enable_xla_devices not set\n",
      "2023-01-04 10:31:12.916833: I tensorflow/stream_executor/cuda/cuda_gpu_executor.cc:941] successful NUMA node read from SysFS had negative value (-1), but there must be at least one NUMA node, so returning NUMA node zero\n",
      "2023-01-04 10:31:12.917081: I tensorflow/core/common_runtime/gpu/gpu_device.cc:1720] Found device 0 with properties: \n",
      "pciBusID: 0000:01:00.0 name: NVIDIA GeForce GTX 970 computeCapability: 5.2\n",
      "coreClock: 1.253GHz coreCount: 13 deviceMemorySize: 3.94GiB deviceMemoryBandwidth: 208.91GiB/s\n",
      "2023-01-04 10:31:12.917095: I tensorflow/stream_executor/platform/default/dso_loader.cc:49] Successfully opened dynamic library libcudart.so.11.0\n",
      "2023-01-04 10:31:12.917107: I tensorflow/stream_executor/platform/default/dso_loader.cc:49] Successfully opened dynamic library libcublas.so.11\n",
      "2023-01-04 10:31:12.917117: I tensorflow/stream_executor/platform/default/dso_loader.cc:49] Successfully opened dynamic library libcublasLt.so.11\n",
      "2023-01-04 10:31:12.917126: I tensorflow/stream_executor/platform/default/dso_loader.cc:49] Successfully opened dynamic library libcufft.so.10\n",
      "2023-01-04 10:31:12.917136: I tensorflow/stream_executor/platform/default/dso_loader.cc:49] Successfully opened dynamic library libcurand.so.10\n",
      "2023-01-04 10:31:12.917145: I tensorflow/stream_executor/platform/default/dso_loader.cc:49] Successfully opened dynamic library libcusolver.so.10\n",
      "2023-01-04 10:31:12.917154: I tensorflow/stream_executor/platform/default/dso_loader.cc:49] Successfully opened dynamic library libcusparse.so.11\n",
      "2023-01-04 10:31:12.917163: I tensorflow/stream_executor/platform/default/dso_loader.cc:49] Successfully opened dynamic library libcudnn.so.8\n",
      "2023-01-04 10:31:12.917207: I tensorflow/stream_executor/cuda/cuda_gpu_executor.cc:941] successful NUMA node read from SysFS had negative value (-1), but there must be at least one NUMA node, so returning NUMA node zero\n",
      "2023-01-04 10:31:12.917480: I tensorflow/stream_executor/cuda/cuda_gpu_executor.cc:941] successful NUMA node read from SysFS had negative value (-1), but there must be at least one NUMA node, so returning NUMA node zero\n",
      "2023-01-04 10:31:12.917612: I tensorflow/core/common_runtime/gpu/gpu_device.cc:1862] Adding visible gpu devices: 0\n",
      "2023-01-04 10:31:12.917635: I tensorflow/stream_executor/platform/default/dso_loader.cc:49] Successfully opened dynamic library libcudart.so.11.0\n",
      "2023-01-04 10:31:13.320465: I tensorflow/core/common_runtime/gpu/gpu_device.cc:1261] Device interconnect StreamExecutor with strength 1 edge matrix:\n",
      "2023-01-04 10:31:13.320492: I tensorflow/core/common_runtime/gpu/gpu_device.cc:1267]      0 \n",
      "2023-01-04 10:31:13.320498: I tensorflow/core/common_runtime/gpu/gpu_device.cc:1280] 0:   N \n",
      "2023-01-04 10:31:13.320677: I tensorflow/stream_executor/cuda/cuda_gpu_executor.cc:941] successful NUMA node read from SysFS had negative value (-1), but there must be at least one NUMA node, so returning NUMA node zero\n",
      "2023-01-04 10:31:13.320839: I tensorflow/stream_executor/cuda/cuda_gpu_executor.cc:941] successful NUMA node read from SysFS had negative value (-1), but there must be at least one NUMA node, so returning NUMA node zero\n",
      "2023-01-04 10:31:13.320976: I tensorflow/stream_executor/cuda/cuda_gpu_executor.cc:941] successful NUMA node read from SysFS had negative value (-1), but there must be at least one NUMA node, so returning NUMA node zero\n",
      "2023-01-04 10:31:13.321089: I tensorflow/core/common_runtime/gpu/gpu_device.cc:1406] Created TensorFlow device (/job:localhost/replica:0/task:0/device:GPU:0 with 3506 MB memory) -> physical GPU (device: 0, name: NVIDIA GeForce GTX 970, pci bus id: 0000:01:00.0, compute capability: 5.2)\n"
     ]
    }
   ],
   "source": [
    "# Create a Sequential Model\n",
    "\n",
    "# Create a template for dense layers using Python functools.partial\n",
    "myDense = partial(keras.layers.Dense, \n",
    "                  activation=\"elu\", \n",
    "                  kernel_initializer=\"he_normal\", \n",
    "                  kernel_regularizer=keras.regularizers.l2(0.001)\n",
    "                 )\n",
    "\n",
    "# Create a sequential model structure\n",
    "seq_model = keras.models.Sequential(layers=[keras.layers.Flatten(input_shape=[28,28],name=\"Flatten\"), \n",
    "                                           keras.layers.BatchNormalization(),\n",
    "                                           myDense(300),\n",
    "                                           keras.layers.BatchNormalization(),\n",
    "                                           myDense(100),\n",
    "                                           keras.layers.BatchNormalization(),\n",
    "                                           keras.layers.Dropout(rate=0.1),\n",
    "                                           myDense(10, activation=\"softmax\", kernel_initializer=\"glorot_uniform\"),\n",
    "                                          ]\n",
    "                                  )\n",
    "\n",
    "# Add layers after model structure creation\n",
    "seq_model.add(myDense(50, activation=\"sigmoid\", name=\"added_sigmoid\"))\n",
    "\n",
    "# Drop the last layer\n",
    "seq_model.pop()\n",
    "\n",
    "# Show model summary\n",
    "print(seq_model.summary())"
   ]
  },
  {
   "cell_type": "markdown",
   "id": "2e380643-f60d-4aa0-8ca6-bebeda486c41",
   "metadata": {},
   "source": [
    "## Non-Sequential Model Structure (Functional API)"
   ]
  },
  {
   "cell_type": "code",
   "execution_count": 4,
   "id": "127f7e80-fa81-48eb-a8bd-0d5588ed478f",
   "metadata": {},
   "outputs": [
    {
     "name": "stdout",
     "output_type": "stream",
     "text": [
      "Model: \"model\"\n",
      "__________________________________________________________________________________________________\n",
      "Layer (type)                    Output Shape         Param #     Connected to                     \n",
      "==================================================================================================\n",
      "input_1 (InputLayer)            [(None, 28, 28)]     0                                            \n",
      "__________________________________________________________________________________________________\n",
      "flatten (Flatten)               (None, 784)          0           input_1[0][0]                    \n",
      "__________________________________________________________________________________________________\n",
      "dense_3 (Dense)                 (None, 300)          235500      flatten[0][0]                    \n",
      "__________________________________________________________________________________________________\n",
      "dense_4 (Dense)                 (None, 100)          30100       dense_3[0][0]                    \n",
      "__________________________________________________________________________________________________\n",
      "dense_5 (Dense)                 (None, 200)          20200       dense_4[0][0]                    \n",
      "__________________________________________________________________________________________________\n",
      "dense_6 (Dense)                 (None, 100)          30100       dense_3[0][0]                    \n",
      "__________________________________________________________________________________________________\n",
      "concatenate (Concatenate)       (None, 300)          0           dense_5[0][0]                    \n",
      "                                                                 dense_6[0][0]                    \n",
      "__________________________________________________________________________________________________\n",
      "dense_7 (Dense)                 (None, 10)           3010        concatenate[0][0]                \n",
      "==================================================================================================\n",
      "Total params: 318,910\n",
      "Trainable params: 318,910\n",
      "Non-trainable params: 0\n",
      "__________________________________________________________________________________________________\n"
     ]
    }
   ],
   "source": [
    "# Create a graph of layers using functional API\n",
    "\n",
    "# Create a template for dense layers using Python functools.partial\n",
    "myDense = partial(keras.layers.Dense, \n",
    "                  activation=\"elu\", \n",
    "                  kernel_initializer=\"he_normal\", \n",
    "                  kernel_regularizer=keras.regularizers.l2(0.001)\n",
    "                 )\n",
    "\n",
    "# Create the model layers\n",
    "input_layer = keras.layers.Input(shape=[28,28])\n",
    "flatten_layer = keras.layers.Flatten()(input_layer)\n",
    "layer1 = myDense(300)(flatten_layer)\n",
    "layer2 = myDense(100)(layer1)\n",
    "layer3 = myDense(200)(layer2)\n",
    "layer4 = myDense(100)(layer1)\n",
    "concat_layer = keras.layers.Concatenate()([layer3, layer4])\n",
    "output_layer = myDense(10, activation=\"softmax\", kernel_initializer=\"glorot_uniform\")(concat_layer)\n",
    "\n",
    "func_model = keras.Model(inputs=[input_layer,], outputs=[output_layer])\n",
    "\n",
    "func_model.summary()"
   ]
  },
  {
   "cell_type": "markdown",
   "id": "bc290ecc-2dde-46b1-8404-7fb629e0fead",
   "metadata": {},
   "source": [
    "## Obtain Parameters of Layers"
   ]
  },
  {
   "cell_type": "code",
   "execution_count": 5,
   "id": "ab213bf1-463c-4141-a248-3db11e34113b",
   "metadata": {},
   "outputs": [
    {
     "data": {
      "text/plain": [
       "[<tensorflow.python.keras.layers.core.Flatten at 0x7fd07a14e040>,\n",
       " <tensorflow.python.keras.layers.normalization_v2.BatchNormalization at 0x7fd07a15ed90>,\n",
       " <tensorflow.python.keras.layers.core.Dense at 0x7fd0605c63a0>,\n",
       " <tensorflow.python.keras.layers.normalization_v2.BatchNormalization at 0x7fd0605c6670>,\n",
       " <tensorflow.python.keras.layers.core.Dense at 0x7fd0605c6a90>,\n",
       " <tensorflow.python.keras.layers.normalization_v2.BatchNormalization at 0x7fd0605c6d60>,\n",
       " <tensorflow.python.keras.layers.core.Dropout at 0x7fd05fd31130>,\n",
       " <tensorflow.python.keras.layers.core.Dense at 0x7fd05fd312b0>]"
      ]
     },
     "execution_count": 5,
     "metadata": {},
     "output_type": "execute_result"
    }
   ],
   "source": [
    "# Show model layers\n",
    "seq_model.layers"
   ]
  },
  {
   "cell_type": "code",
   "execution_count": 6,
   "id": "48c1ef49-089d-4f0f-9ece-25d3d7d72696",
   "metadata": {},
   "outputs": [
    {
     "name": "stdout",
     "output_type": "stream",
     "text": [
      "batch_normalization_1\n",
      "True\n"
     ]
    }
   ],
   "source": [
    "# Select Layer\n",
    "print(seq_model.layers[3].name)\n",
    "print(seq_model.get_layer(\"dense_1\") is seq_model.layers[4])"
   ]
  },
  {
   "cell_type": "code",
   "execution_count": 7,
   "id": "7fabbe25-2ba8-4d71-a905-1352f0f33247",
   "metadata": {},
   "outputs": [
    {
     "name": "stdout",
     "output_type": "stream",
     "text": [
      "(300, 100)\n",
      "(100,)\n"
     ]
    }
   ],
   "source": [
    "# Weights and Biases for each layer\n",
    "\n",
    "weights, biases = seq_model.get_layer(\"dense_1\").get_weights()\n",
    "\n",
    "print(weights.shape)\n",
    "print(biases.shape)"
   ]
  },
  {
   "cell_type": "markdown",
   "id": "c74dc871-681c-45fa-b152-537b85b7afea",
   "metadata": {},
   "source": [
    "## Compile & Train Model"
   ]
  },
  {
   "cell_type": "markdown",
   "id": "9ea69b6c-90ef-494e-a213-14c132975ea1",
   "metadata": {},
   "source": [
    "### Setup Tensorboard (Optional)"
   ]
  },
  {
   "cell_type": "code",
   "execution_count": 8,
   "id": "5991873e-a9ed-4ee4-8b86-48ed18b6e23d",
   "metadata": {},
   "outputs": [
    {
     "name": "stdout",
     "output_type": "stream",
     "text": [
      "./log/fashion_mnist_logs/run_2023_01_04-10_31_13\n"
     ]
    }
   ],
   "source": [
    "# Define directory structure to save log\n",
    "\n",
    "import os\n",
    "root_logdir = os.path.join(os.curdir, \"log/fashion_mnist_logs\")\n",
    "\n",
    "def get_run_logdir():\n",
    "    import time\n",
    "    run_id = time.strftime(\"run_%Y_%m_%d-%H_%M_%S\")\n",
    "    return os.path.join(root_logdir, run_id)\n",
    "\n",
    "run_logdir = get_run_logdir()\n",
    "print(run_logdir)"
   ]
  },
  {
   "cell_type": "code",
   "execution_count": 9,
   "id": "fd2b1986-581e-41c1-83e9-a3b51a4f4a00",
   "metadata": {},
   "outputs": [
    {
     "data": {
      "text/html": [
       "\n",
       "      <iframe id=\"tensorboard-frame-be7981763f2ab5e\" width=\"100%\" height=\"800\" frameborder=\"0\">\n",
       "      </iframe>\n",
       "      <script>\n",
       "        (function() {\n",
       "          const frame = document.getElementById(\"tensorboard-frame-be7981763f2ab5e\");\n",
       "          const url = new URL(\"/\", window.location);\n",
       "          const port = 8766;\n",
       "          if (port) {\n",
       "            url.port = port;\n",
       "          }\n",
       "          frame.src = url;\n",
       "        })();\n",
       "      </script>\n",
       "    "
      ],
      "text/plain": [
       "<IPython.core.display.HTML object>"
      ]
     },
     "metadata": {},
     "output_type": "display_data"
    }
   ],
   "source": [
    "# View TensorBoard\n",
    "# Use % load_ext tensorboard if load on the first time\n",
    "# Use %reload_ext tensorboard if already loaded before\n",
    "%load_ext tensorboard \n",
    "%tensorboard --logdir ./log --port=8766"
   ]
  },
  {
   "cell_type": "markdown",
   "id": "2f383233-b5ca-4712-8a20-948cfe269a92",
   "metadata": {},
   "source": [
    "### Compile & Train"
   ]
  },
  {
   "cell_type": "code",
   "execution_count": 10,
   "id": "4a66694f-3e2f-44d3-9963-9b0b0d07ec8c",
   "metadata": {},
   "outputs": [
    {
     "name": "stderr",
     "output_type": "stream",
     "text": [
      "2023-01-04 10:31:17.218311: I tensorflow/core/profiler/lib/profiler_session.cc:136] Profiler session initializing.\n",
      "2023-01-04 10:31:17.218337: I tensorflow/core/profiler/lib/profiler_session.cc:155] Profiler session started.\n",
      "2023-01-04 10:31:17.218361: I tensorflow/core/profiler/internal/gpu/cupti_tracer.cc:1365] Profiler found 1 GPUs\n",
      "2023-01-04 10:31:17.218983: I tensorflow/stream_executor/platform/default/dso_loader.cc:49] Successfully opened dynamic library libcupti.so.11.0\n",
      "2023-01-04 10:31:17.339099: I tensorflow/core/profiler/lib/profiler_session.cc:172] Profiler session tear down.\n",
      "2023-01-04 10:31:17.339251: I tensorflow/core/profiler/internal/gpu/cupti_tracer.cc:1487] CUPTI activity buffer flushed\n",
      "2023-01-04 10:31:17.608034: I tensorflow/compiler/mlir/mlir_graph_optimization_pass.cc:116] None of the MLIR optimization passes are enabled (registered 2)\n",
      "2023-01-04 10:31:17.628543: I tensorflow/core/platform/profile_utils/cpu_utils.cc:112] CPU Frequency: 3299150000 Hz\n"
     ]
    },
    {
     "name": "stdout",
     "output_type": "stream",
     "text": [
      "Epoch 1/100\n",
      "   1/1719 [..............................] - ETA: 33:48 - loss: 4.0656 - accuracy: 0.0938"
     ]
    },
    {
     "name": "stderr",
     "output_type": "stream",
     "text": [
      "2023-01-04 10:31:18.684492: I tensorflow/stream_executor/platform/default/dso_loader.cc:49] Successfully opened dynamic library libcublas.so.11\n",
      "2023-01-04 10:31:18.822932: I tensorflow/stream_executor/platform/default/dso_loader.cc:49] Successfully opened dynamic library libcublasLt.so.11\n"
     ]
    },
    {
     "name": "stdout",
     "output_type": "stream",
     "text": [
      "  45/1719 [..............................] - ETA: 21s - loss: 2.1113 - accuracy: 0.5934"
     ]
    },
    {
     "name": "stderr",
     "output_type": "stream",
     "text": [
      "2023-01-04 10:31:18.857912: I tensorflow/core/profiler/lib/profiler_session.cc:136] Profiler session initializing.\n",
      "2023-01-04 10:31:18.857938: I tensorflow/core/profiler/lib/profiler_session.cc:155] Profiler session started.\n",
      "2023-01-04 10:31:19.024041: I tensorflow/core/profiler/lib/profiler_session.cc:71] Profiler session collecting data.\n",
      "2023-01-04 10:31:19.024582: I tensorflow/core/profiler/internal/gpu/cupti_tracer.cc:1487] CUPTI activity buffer flushed\n",
      "2023-01-04 10:31:19.171195: I tensorflow/core/profiler/internal/gpu/cupti_collector.cc:228]  GpuTracer has collected 439 callback api events and 427 activity events. \n",
      "2023-01-04 10:31:19.184677: I tensorflow/core/profiler/lib/profiler_session.cc:172] Profiler session tear down.\n",
      "2023-01-04 10:31:19.194475: I tensorflow/core/profiler/rpc/client/save_profile.cc:137] Creating directory: ./log/fashion_mnist_logs/run_2023_01_04-10_31_13/train/plugins/profile/2023_01_04_10_31_19\n",
      "2023-01-04 10:31:19.202604: I tensorflow/core/profiler/rpc/client/save_profile.cc:143] Dumped gzipped tool data for trace.json.gz to ./log/fashion_mnist_logs/run_2023_01_04-10_31_13/train/plugins/profile/2023_01_04_10_31_19/solanum.trace.json.gz\n",
      "2023-01-04 10:31:19.216092: I tensorflow/core/profiler/rpc/client/save_profile.cc:137] Creating directory: ./log/fashion_mnist_logs/run_2023_01_04-10_31_13/train/plugins/profile/2023_01_04_10_31_19\n",
      "2023-01-04 10:31:19.218194: I tensorflow/core/profiler/rpc/client/save_profile.cc:143] Dumped gzipped tool data for memory_profile.json.gz to ./log/fashion_mnist_logs/run_2023_01_04-10_31_13/train/plugins/profile/2023_01_04_10_31_19/solanum.memory_profile.json.gz\n",
      "2023-01-04 10:31:19.219006: I tensorflow/core/profiler/rpc/client/capture_profile.cc:251] Creating directory: ./log/fashion_mnist_logs/run_2023_01_04-10_31_13/train/plugins/profile/2023_01_04_10_31_19Dumped tool data for xplane.pb to ./log/fashion_mnist_logs/run_2023_01_04-10_31_13/train/plugins/profile/2023_01_04_10_31_19/solanum.xplane.pb\n",
      "Dumped tool data for overview_page.pb to ./log/fashion_mnist_logs/run_2023_01_04-10_31_13/train/plugins/profile/2023_01_04_10_31_19/solanum.overview_page.pb\n",
      "Dumped tool data for input_pipeline.pb to ./log/fashion_mnist_logs/run_2023_01_04-10_31_13/train/plugins/profile/2023_01_04_10_31_19/solanum.input_pipeline.pb\n",
      "Dumped tool data for tensorflow_stats.pb to ./log/fashion_mnist_logs/run_2023_01_04-10_31_13/train/plugins/profile/2023_01_04_10_31_19/solanum.tensorflow_stats.pb\n",
      "Dumped tool data for kernel_stats.pb to ./log/fashion_mnist_logs/run_2023_01_04-10_31_13/train/plugins/profile/2023_01_04_10_31_19/solanum.kernel_stats.pb\n",
      "\n"
     ]
    },
    {
     "name": "stdout",
     "output_type": "stream",
     "text": [
      "1719/1719 [==============================] - 8s 4ms/step - loss: 1.1988 - accuracy: 0.7918 - val_loss: 0.5998 - val_accuracy: 0.8590\n",
      "Epoch 2/100\n",
      "1719/1719 [==============================] - 6s 4ms/step - loss: 0.6176 - accuracy: 0.8417 - val_loss: 0.5171 - val_accuracy: 0.8576\n",
      "Epoch 3/100\n",
      "1719/1719 [==============================] - 6s 4ms/step - loss: 0.5401 - accuracy: 0.8482 - val_loss: 0.4940 - val_accuracy: 0.8628\n",
      "Epoch 4/100\n",
      "1719/1719 [==============================] - 6s 4ms/step - loss: 0.5141 - accuracy: 0.8561 - val_loss: 0.4829 - val_accuracy: 0.8684\n",
      "Epoch 5/100\n",
      "1719/1719 [==============================] - 6s 4ms/step - loss: 0.4984 - accuracy: 0.8583 - val_loss: 0.4479 - val_accuracy: 0.8766\n",
      "Epoch 6/100\n",
      "1719/1719 [==============================] - 6s 4ms/step - loss: 0.4838 - accuracy: 0.8631 - val_loss: 0.4324 - val_accuracy: 0.8802\n",
      "Epoch 7/100\n",
      "1719/1719 [==============================] - 6s 4ms/step - loss: 0.4587 - accuracy: 0.8696 - val_loss: 0.4475 - val_accuracy: 0.8734\n",
      "Epoch 8/100\n",
      "1719/1719 [==============================] - 6s 4ms/step - loss: 0.4494 - accuracy: 0.8702 - val_loss: 0.4501 - val_accuracy: 0.8710\n",
      "Epoch 9/100\n",
      "1719/1719 [==============================] - 6s 4ms/step - loss: 0.4468 - accuracy: 0.8722 - val_loss: 0.4267 - val_accuracy: 0.8762\n",
      "Epoch 10/100\n",
      "1719/1719 [==============================] - 6s 4ms/step - loss: 0.4409 - accuracy: 0.8715 - val_loss: 0.4182 - val_accuracy: 0.8796\n",
      "Epoch 11/100\n",
      "1719/1719 [==============================] - 6s 4ms/step - loss: 0.4273 - accuracy: 0.8758 - val_loss: 0.4195 - val_accuracy: 0.8766\n",
      "Epoch 12/100\n",
      "1719/1719 [==============================] - 6s 4ms/step - loss: 0.4349 - accuracy: 0.8726 - val_loss: 0.4399 - val_accuracy: 0.8724\n",
      "Epoch 13/100\n",
      "1719/1719 [==============================] - 6s 4ms/step - loss: 0.4320 - accuracy: 0.8748 - val_loss: 0.3922 - val_accuracy: 0.8892\n",
      "Epoch 14/100\n",
      "1719/1719 [==============================] - 6s 4ms/step - loss: 0.4213 - accuracy: 0.8765 - val_loss: 0.4251 - val_accuracy: 0.8714\n",
      "Epoch 15/100\n",
      "1719/1719 [==============================] - 6s 4ms/step - loss: 0.4179 - accuracy: 0.8772 - val_loss: 0.4097 - val_accuracy: 0.8814\n",
      "Epoch 16/100\n",
      "1719/1719 [==============================] - 6s 4ms/step - loss: 0.4155 - accuracy: 0.8766 - val_loss: 0.4162 - val_accuracy: 0.8786\n",
      "Epoch 17/100\n",
      "1719/1719 [==============================] - 6s 4ms/step - loss: 0.4154 - accuracy: 0.8776 - val_loss: 0.4103 - val_accuracy: 0.8832\n",
      "Epoch 18/100\n",
      "1719/1719 [==============================] - 6s 4ms/step - loss: 0.4152 - accuracy: 0.8794 - val_loss: 0.4089 - val_accuracy: 0.8774\n",
      "Epoch 19/100\n",
      "1719/1719 [==============================] - 6s 4ms/step - loss: 0.4189 - accuracy: 0.8741 - val_loss: 0.4052 - val_accuracy: 0.8810\n",
      "Epoch 20/100\n",
      "1719/1719 [==============================] - 6s 4ms/step - loss: 0.4113 - accuracy: 0.8807 - val_loss: 0.4270 - val_accuracy: 0.8790\n",
      "Epoch 21/100\n",
      "1719/1719 [==============================] - 6s 4ms/step - loss: 0.4105 - accuracy: 0.8799 - val_loss: 0.4058 - val_accuracy: 0.8782\n",
      "Epoch 22/100\n",
      "1719/1719 [==============================] - 6s 4ms/step - loss: 0.4066 - accuracy: 0.8798 - val_loss: 0.4122 - val_accuracy: 0.8786\n",
      "Epoch 23/100\n",
      "1719/1719 [==============================] - 6s 4ms/step - loss: 0.4101 - accuracy: 0.8779 - val_loss: 0.4043 - val_accuracy: 0.8840\n"
     ]
    }
   ],
   "source": [
    "# Compile model and define loss, optimizer, and metrics\n",
    "seq_model.compile(loss=\"sparse_categorical_crossentropy\", \n",
    "                  optimizer=keras.optimizers.Nadam(),\n",
    "                  metrics=[\"accuracy\"]\n",
    "                 )\n",
    "\n",
    "# Define callbacks\n",
    "\n",
    "# Save best model for each epoch as a checkpoint\n",
    "checkpoint_cb = keras.callbacks.ModelCheckpoint(\"fashion_checkpoint.h5\", save_best_only=True)\n",
    "# Apply an early stopping rule\n",
    "early_stopping_cb = keras.callbacks.EarlyStopping(patience=10, restore_best_weights=True)\n",
    "#Tensorboard\n",
    "tensorboard_cb = keras.callbacks.TensorBoard(log_dir=run_logdir)\n",
    "\n",
    "# Train model\n",
    "seq_history = seq_model.fit(X_train, y_train, epochs=100, \n",
    "                            validation_data=(X_valid, y_valid, None), #the 3rd item is sample weight on validation data\n",
    "                            callbacks=[tensorboard_cb, checkpoint_cb, early_stopping_cb],\n",
    "                            # validation_split = 0.1 #if the dataset was not splitted\n",
    "                            # sample_weight=, # weights on instances, supersedes class_weight\n",
    "                            # class_weight=, # weights on target classes\n",
    "                           )"
   ]
  },
  {
   "cell_type": "markdown",
   "id": "37ff3b1f-3894-43d8-a8f6-76bd45b409ab",
   "metadata": {
    "tags": []
   },
   "source": [
    "## Hyperparameter Tuning using Keras Tuner"
   ]
  },
  {
   "cell_type": "code",
   "execution_count": null,
   "id": "b0dcd049-e48d-4a21-ab01-393f6541e9af",
   "metadata": {},
   "outputs": [],
   "source": []
  },
  {
   "cell_type": "markdown",
   "id": "0d39ae51-64c8-4b25-a309-5fadfcd466f7",
   "metadata": {},
   "source": [
    "## Evaluation & Prediction"
   ]
  },
  {
   "cell_type": "code",
   "execution_count": 11,
   "id": "7f398a97-79a5-4df9-aa7e-ea4fed0fc318",
   "metadata": {},
   "outputs": [
    {
     "name": "stdout",
     "output_type": "stream",
     "text": [
      "{'verbose': 1, 'epochs': 100, 'steps': 1719}\n",
      "\n",
      "[0, 1, 2, 3, 4, 5, 6, 7, 8, 9, 10, 11, 12, 13, 14, 15, 16, 17, 18, 19, 20, 21, 22]\n",
      "\n"
     ]
    }
   ],
   "source": [
    "# Attributes of history objects\n",
    "print(seq_history.params)\n",
    "print()\n",
    "print(seq_history.epoch)\n",
    "print()\n",
    "# seq_history.history"
   ]
  },
  {
   "cell_type": "code",
   "execution_count": 12,
   "id": "ca5522fb-9d95-4ae5-9955-044432e65f65",
   "metadata": {},
   "outputs": [
    {
     "data": {
      "image/png": "[encoded data removed]",
      "text/plain": [
       "<Figure size 864x576 with 1 Axes>"
      ]
     },
     "metadata": {
      "needs_background": "light"
     },
     "output_type": "display_data"
    }
   ],
   "source": [
    "# Visualize the training history\n",
    "pd.DataFrame(seq_history.history).plot(figsize=(12,8))\n",
    "plt.grid(True)\n",
    "plt.gca().set_ylim(0,1)\n",
    "plt.show()"
   ]
  },
  {
   "cell_type": "code",
   "execution_count": 13,
   "id": "f5ff0537-f2ca-428d-8525-452ca0f36231",
   "metadata": {},
   "outputs": [
    {
     "name": "stdout",
     "output_type": "stream",
     "text": [
      "313/313 [==============================] - 1s 2ms/step - loss: 36.6559 - accuracy: 0.7868\n"
     ]
    },
    {
     "data": {
      "text/plain": [
       "[36.655948638916016, 0.7868000268936157]"
      ]
     },
     "execution_count": 13,
     "metadata": {},
     "output_type": "execute_result"
    }
   ],
   "source": [
    "# Evaluate on test datasets\n",
    "seq_model.evaluate(X_test, y_test)"
   ]
  },
  {
   "cell_type": "code",
   "execution_count": 14,
   "id": "bc4aa2e8-c57c-4c0c-93a0-b62428495c02",
   "metadata": {},
   "outputs": [
    {
     "data": {
      "text/plain": [
       "array([[0., 0., 0., 0., 0., 0., 0., 0., 0., 1.],\n",
       "       [0., 0., 1., 0., 0., 0., 0., 0., 0., 0.],\n",
       "       [0., 1., 0., 0., 0., 0., 0., 0., 0., 0.]], dtype=float32)"
      ]
     },
     "execution_count": 14,
     "metadata": {},
     "output_type": "execute_result"
    }
   ],
   "source": [
    "X_new = X_test[:3]\n",
    "\n",
    "# Predicted proability\n",
    "y_proba = seq_model.predict(X_new)\n",
    "y_proba.round(2)"
   ]
  },
  {
   "cell_type": "code",
   "execution_count": 15,
   "id": "11ca4353-5c99-41f8-bf08-4739342b9644",
   "metadata": {},
   "outputs": [
    {
     "name": "stdout",
     "output_type": "stream",
     "text": [
      "[9 2 1]\n",
      "['Ankle boot' 'Pullover' 'Trouser']\n",
      "[9 2 1]\n"
     ]
    }
   ],
   "source": [
    "y_pred = np.argmax(y_proba, axis=-1)\n",
    "print(y_pred)\n",
    "print(np.array(CLASS_NAMES)[y_pred])\n",
    "\n",
    "y_new = y_test[:3]\n",
    "print(y_new)"
   ]
  },
  {
   "cell_type": "markdown",
   "id": "67507cfd-3f2c-43d4-a194-96b6a7314130",
   "metadata": {},
   "source": [
    "# API Topics"
   ]
  },
  {
   "cell_type": "markdown",
   "id": "8519bca3-bf99-4d13-96a2-f4aeaa5b7c12",
   "metadata": {},
   "source": [
    "## Dense Layer\n",
    "- https://keras.io/api/layers/core_layers/dense/\n",
    "- Dense Layers do multiplications only along the last axis of the input data.\n",
    "    - Example, input shape (batch_size, d0, d1), kernel shape (d1, units). The layer will apply the multiplication between each sub-tensor of shape (1,1,d1) with the kernel. The output tensor is of shape (batch_size, d0, units).\n",
    "    - Effectively, it treats sub-tensors along all axis other than the last independently. For example, for image pixels, rows (or columns) will be treated as independent.\n",
    "    - If correlations among all dimensions are needed, then data must be flattened before input into a dense layer."
   ]
  },
  {
   "cell_type": "markdown",
   "id": "6399dcc6-d42e-49b8-bc4d-c54903219027",
   "metadata": {},
   "source": [
    "## Activation functions\n",
    "- See https://keras.io/api/layers/activations/\n",
    "    - \"relu\" or keras.activations.relu\n",
    "    - \"sigmoid\" or keras.activations.sigmoid\n",
    "    - \"softmax\" or keras.activations.relu\n",
    "    - \"softplus\" or keras.activations.softplus\n",
    "    - \"softsign\" or keras.activations.softsign\n",
    "    - \"tanh\" or keras.activations.tanh\n",
    "    - \"selu\" or keras.activations.selu\n",
    "    - \"elu\" or keras.activations.elu\n",
    "    - \"exponential\" or keras.activations.exponential"
   ]
  },
  {
   "cell_type": "markdown",
   "id": "6afec026-84cb-4312-978d-8d75529e5a26",
   "metadata": {},
   "source": [
    "## Initializers\n",
    "- Initializers are used to intialize the weights & bias for each layer\n",
    "- Parameters: `kernel_initializer` (weight) and `bias_initializer`\n",
    "- See https://keras.io/api/layers/initializers/"
   ]
  },
  {
   "cell_type": "code",
   "execution_count": 16,
   "id": "ba350f5c-2544-4ff4-bc90-b322f43bb9b4",
   "metadata": {},
   "outputs": [
    {
     "name": "stdout",
     "output_type": "stream",
     "text": [
      "(500, 2000)\n",
      "(2000,)\n",
      "(2000, 2000)\n",
      "(2000,)\n",
      "Model: \"['norm_init', 'unif_init']\"\n",
      "_________________________________________________________________\n",
      "Layer (type)                 Output Shape              Param #   \n",
      "=================================================================\n",
      "dense_8 (Dense)              (None, 600, 2000)         1002000   \n",
      "_________________________________________________________________\n",
      "dense_9 (Dense)              (None, 600, 2000)         4002000   \n",
      "=================================================================\n",
      "Total params: 5,004,000\n",
      "Trainable params: 5,004,000\n",
      "Non-trainable params: 0\n",
      "_________________________________________________________________\n"
     ]
    }
   ],
   "source": [
    "# Visualize He Normal and He Uniform initializers\n",
    "\n",
    "model = keras.models.Sequential(layers=[keras.Input(shape=(600,500)),\n",
    "                                        keras.layers.Dense(units=2000,\n",
    "                                                           activation=\"elu\",\n",
    "                                                           kernel_initializer=keras.initializers.HeNormal(),\n",
    "                                                          ),\n",
    "                                        keras.layers.Dense(units=2000,\n",
    "                                                           activation=\"elu\",\n",
    "                                                           kernel_initializer=keras.initializers.HeUniform(),\n",
    "                                                          ),\n",
    "                                       ],\n",
    "                                name=[\"norm_init\",\"unif_init\"]\n",
    "                               )\n",
    "\n",
    "norm_weight, norm_bias = model.layers[0].get_weights()\n",
    "unif_weight, unif_bias = model.layers[1].get_weights()\n",
    "\n",
    "print(norm_weight.shape)\n",
    "print(norm_bias.shape)\n",
    "\n",
    "print(unif_weight.shape)\n",
    "print(unif_bias.shape)\n",
    "\n",
    "model.summary()"
   ]
  },
  {
   "cell_type": "code",
   "execution_count": 19,
   "id": "2f416b45-3dd7-459a-b1f7-3477ef002cd0",
   "metadata": {},
   "outputs": [
    {
     "data": {
      "image/png": "[encoded data removed]",
      "text/plain": [
       "<Figure size 1440x432 with 2 Axes>"
      ]
     },
     "metadata": {
      "needs_background": "light"
     },
     "output_type": "display_data"
    }
   ],
   "source": [
    "# Visualize He Normal and He Uniform initializers\n",
    "fig = plt.figure(figsize=[20,6])\n",
    "ax1 = fig.add_subplot(1,2,1)\n",
    "ax2 = fig.add_subplot(1,2,2)\n",
    "ax1.hist(norm_weight[23],bins=50)\n",
    "ax2.hist(unif_weight[15],bins=50)\n",
    "plt.show()"
   ]
  },
  {
   "cell_type": "markdown",
   "id": "926063d1-b3b7-479d-8a8f-13f4502360c6",
   "metadata": {},
   "source": [
    "## Loss Functions\n",
    "- `loss=\"binary_crossentropy\"` or `loss=keras.losses.BinaryCrossentropy`\n",
    "    - binary-class, single-lable classification target with 2 classes\n",
    "- `loss=\"sparse_categorical_crossentropy\"` or `loss=keras.losses.SparseCategoricalCrossentropy`\n",
    "    - multi-class, single-label (classes are exclusive) classification target with more than 2 classes\n",
    "    - The targets are NOT one-hot encoded.\n",
    "    - Example of a target for one instance: 4\n",
    "- `loss=\"categorical_crossentropy\"` or `loss=keras.losses.CategoricalCrossentropy`\n",
    "    - multi-class, single-label (classes are exclusive) classification target with more than 2 classes\n",
    "    - The targets are one-hot encoded.\n",
    "    - Example of a target for one instance: [0.,0.,1.,0.]\n",
    "- Multi-class, multi-label????\n",
    "- Regression???"
   ]
  },
  {
   "cell_type": "markdown",
   "id": "c27ad0c7-83cd-43d7-afd5-5c96adf3d39a",
   "metadata": {},
   "source": [
    "## Data Processing\n",
    "- `keras.utils.to_categrical()` to convert sparse labels to one-hot vector labels"
   ]
  },
  {
   "cell_type": "code",
   "execution_count": null,
   "id": "43349a3b-213c-4f54-b515-2260253bb2af",
   "metadata": {},
   "outputs": [],
   "source": []
  }
 ],
 "metadata": {
  "kernelspec": {
   "display_name": "Python 3 (ipykernel)",
   "language": "python",
   "name": "python3"
  },
  "language_info": {
   "codemirror_mode": {
    "name": "ipython",
    "version": 3
   },
   "file_extension": ".py",
   "mimetype": "text/x-python",
   "name": "python",
   "nbconvert_exporter": "python",
   "pygments_lexer": "ipython3",
   "version": "3.8.10"
  },
  "toc-autonumbering": true,
  "toc-showmarkdowntxt": false
 },
 "nbformat": 4,
 "nbformat_minor": 5
}
