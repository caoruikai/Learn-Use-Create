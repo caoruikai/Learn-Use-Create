{
 "cells": [
  {
   "cell_type": "markdown",
   "metadata": {},
   "source": [
    "# Create a spark Dataframe \n",
    "## -- for different learning and experimenting purposes"
   ]
  },
  {
   "cell_type": "code",
   "execution_count": 1,
   "metadata": {},
   "outputs": [],
   "source": [
    "import sys\n",
    "sys.path.append(\"/usr/local/spark/python\")\n",
    "sys.path.append(\"/usr/local/spark/python/lib/py4j-0.10.7-src.zip\")\n",
    "\n",
    "from pyspark.sql import SparkSession\n",
    "from pyspark.conf import SparkConf\n",
    "from pyspark.sql.types import *\n",
    "\n",
    "from datetime import datetime, date\n",
    "from decimal import Decimal\n",
    "import numpy as np\n",
    "\n",
    "spark = SparkSession.builder \\\n",
    "        .master('local[4]') \\\n",
    "        .appName('spark_create_df') \\\n",
    "        .enableHiveSupport() \\\n",
    "        .getOrCreate()"
   ]
  },
  {
   "cell_type": "code",
   "execution_count": 2,
   "metadata": {},
   "outputs": [],
   "source": [
    "schema = StructType([\n",
    "    StructField(name=\"Name\", dataType=StringType(), nullable=True),\n",
    "    StructField(\"id\", IntegerType(), True),\n",
    "    StructField(\"Age\", ShortType(), True),\n",
    "    StructField(\"entry_score\", FloatType(), True),\n",
    "    StructField(\"update_score\", FloatType(), True),\n",
    "    StructField(\"Food\", StringType(), True),\n",
    "    StructField(\"Balance\", DecimalType(precision=12, scale=2), True),\n",
    "    StructField(\"VIP\", BooleanType(), True),\n",
    "    StructField(\"sign_up_date\", DateType(), True),\n",
    "    StructField(\"last_check_out\", TimestampType(), True)\n",
    "])"
   ]
  },
  {
   "cell_type": "code",
   "execution_count": 8,
   "metadata": {},
   "outputs": [],
   "source": [
    "df_value = [(\"Li Lei\", 278584, 35, np.nan, 400.2312, \"Chocolate\", None, True, date(2005,6,23), datetime(2018,12,23,22,10,24)),\n",
    "            (\"Han Meimei\",342887, 33, 443.9234, None, \"Ice Cream\", Decimal(111246.87), True, date(2010,12,10), datetime(2018,9,30,10,34,16)),\n",
    "            (\"Niu Ren\", 588269, 28, None, 995.362547, None, Decimal(65897412.5677), False, date(2006,1,1), datetime(2019,1,4,12,56,45)),\n",
    "            (\"Jay Chou\", 785445, 45, np.nan, None, \"Donut\", None, True, date(2001,5,5),datetime(2017,8,4,6,33,43))]"
   ]
  },
  {
   "cell_type": "code",
   "execution_count": 9,
   "metadata": {},
   "outputs": [
    {
     "name": "stdout",
     "output_type": "stream",
     "text": [
      "+----------+------+---+-----------+------------+---------+-----------+-----+------------+-------------------+\n",
      "|      Name|    id|Age|entry_score|update_score|     Food|    Balance|  VIP|sign_up_date|     last_check_out|\n",
      "+----------+------+---+-----------+------------+---------+-----------+-----+------------+-------------------+\n",
      "|    Li Lei|278584| 35|        NaN|    400.2312|Chocolate|       null| true|  2005-06-23|2018-12-23 22:10:24|\n",
      "|Han Meimei|342887| 33|   443.9234|        null|Ice Cream|  111246.87| true|  2010-12-10|2018-09-30 10:34:16|\n",
      "|   Niu Ren|588269| 28|       null|   995.36255|     null|65897412.57|false|  2006-01-01|2019-01-04 12:56:45|\n",
      "|  Jay Chou|785445| 45|        NaN|        null|    Donut|       null| true|  2001-05-05|2017-08-04 06:33:43|\n",
      "+----------+------+---+-----------+------------+---------+-----------+-----+------------+-------------------+\n",
      "\n",
      "root\n",
      " |-- Name: string (nullable = true)\n",
      " |-- id: integer (nullable = true)\n",
      " |-- Age: short (nullable = true)\n",
      " |-- entry_score: float (nullable = true)\n",
      " |-- update_score: float (nullable = true)\n",
      " |-- Food: string (nullable = true)\n",
      " |-- Balance: decimal(12,2) (nullable = true)\n",
      " |-- VIP: boolean (nullable = true)\n",
      " |-- sign_up_date: date (nullable = true)\n",
      " |-- last_check_out: timestamp (nullable = true)\n",
      "\n"
     ]
    }
   ],
   "source": [
    "df = spark.createDataFrame(data=df_value, schema=schema)\n",
    "df.show()\n",
    "df.printSchema()"
   ]
  },
  {
   "cell_type": "code",
   "execution_count": 10,
   "metadata": {},
   "outputs": [],
   "source": [
    "df.write.mode(\"overwrite\").parquet(\"sample_parquet\", compression=\"gzip\")"
   ]
  },
  {
   "cell_type": "code",
   "execution_count": null,
   "metadata": {},
   "outputs": [],
   "source": []
  }
 ],
 "metadata": {
  "kernelspec": {
   "display_name": "Python 3",
   "language": "python",
   "name": "python3"
  },
  "language_info": {
   "codemirror_mode": {
    "name": "ipython",
    "version": 3
   },
   "file_extension": ".py",
   "mimetype": "text/x-python",
   "name": "python",
   "nbconvert_exporter": "python",
   "pygments_lexer": "ipython3",
   "version": "3.6.6"
  }
 },
 "nbformat": 4,
 "nbformat_minor": 2
}
