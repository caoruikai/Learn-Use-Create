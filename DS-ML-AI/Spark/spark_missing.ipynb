{
 "cells": [
  {
   "cell_type": "markdown",
   "metadata": {},
   "source": [
    "# How Spark handle null and nan"
   ]
  },
  {
   "cell_type": "code",
   "execution_count": 2,
   "metadata": {},
   "outputs": [],
   "source": [
    "import sys\n",
    "sys.path.append(\"/usr/local/spark/python\")\n",
    "sys.path.append(\"/usr/local/spark/python/lib/py4j-0.10.7-src.zip\")\n",
    "\n",
    "from pyspark.sql import SparkSession\n",
    "from pyspark.conf import SparkConf\n",
    "\n",
    "spark = SparkSession.builder \\\n",
    "        .master('local[4]') \\\n",
    "        .appName('spark_null_nan') \\\n",
    "        .enableHiveSupport() \\\n",
    "        .getOrCreate()"
   ]
  },
  {
   "cell_type": "code",
   "execution_count": 6,
   "metadata": {},
   "outputs": [
    {
     "name": "stdout",
     "output_type": "stream",
     "text": [
      "+----------+------+---+-----------+------------+---------+-----------+-----+------------+-------------------+\n",
      "|      Name|    id|Age|entry_score|update_score|     Food|    Balance|  VIP|sign_up_date|     last_check_out|\n",
      "+----------+------+---+-----------+------------+---------+-----------+-----+------------+-------------------+\n",
      "|Han Meimei|342887| 33|   443.9234|        null|Ice Cream|  111246.87| true|  2010-12-10|2018-09-30 10:34:16|\n",
      "|    Li Lei|278584| 35|        NaN|    400.2312|Chocolate|       null| true|  2005-06-23|2018-12-23 22:10:24|\n",
      "|   Niu Ren|588269| 28|       null|   995.36255|     null|65897412.57|false|  2006-01-01|2019-01-04 12:56:45|\n",
      "|  Jay Chou|785445| 45|        NaN|        null|    Donut|       null| true|  2001-05-05|2017-08-04 06:33:43|\n",
      "+----------+------+---+-----------+------------+---------+-----------+-----+------------+-------------------+\n",
      "\n",
      "root\n",
      " |-- Name: string (nullable = true)\n",
      " |-- id: integer (nullable = true)\n",
      " |-- Age: short (nullable = true)\n",
      " |-- entry_score: float (nullable = true)\n",
      " |-- update_score: float (nullable = true)\n",
      " |-- Food: string (nullable = true)\n",
      " |-- Balance: decimal(12,2) (nullable = true)\n",
      " |-- VIP: boolean (nullable = true)\n",
      " |-- sign_up_date: date (nullable = true)\n",
      " |-- last_check_out: timestamp (nullable = true)\n",
      "\n"
     ]
    }
   ],
   "source": [
    "# the parquet data is generated using the spark_create_dateframe.ipynb\n",
    "df = spark.read.parquet(\"sample_parquet\")\n",
    "df.show()\n",
    "df.printSchema()"
   ]
  },
  {
   "cell_type": "markdown",
   "metadata": {},
   "source": [
    "## Column-wise Mathamtical Operations with null and NaN\n",
    "\n",
    "**General rule**: if a row has `null` for any column, the result column on that row is `null`;\n",
    "                  if a row has no `null` but has `NaN`, the result is `NaN`.\n",
    "\n",
    "**Example:**"
   ]
  },
  {
   "cell_type": "code",
   "execution_count": 8,
   "metadata": {},
   "outputs": [
    {
     "name": "stdout",
     "output_type": "stream",
     "text": [
      "+----------+-----------+------------+-----------+-----------+--------------------+\n",
      "|      Name|entry_score|update_score|    Balance|total_score|         score_ratio|\n",
      "+----------+-----------+------------+-----------+-----------+--------------------+\n",
      "|Han Meimei|   443.9234|        null|  111246.87|       null|0.003990434974744964|\n",
      "|    Li Lei|        NaN|    400.2312|       null|        NaN|                null|\n",
      "|   Niu Ren|       null|   995.36255|65897412.57|       null|                null|\n",
      "|  Jay Chou|        NaN|        null|       null|       null|                null|\n",
      "+----------+-----------+------------+-----------+-----------+--------------------+\n",
      "\n"
     ]
    }
   ],
   "source": [
    "df = df.withColumn(\"total_score\", df.entry_score + df.update_score) \\\n",
    "       .withColumn(\"score_ratio\", df.entry_score / df.Balance) \\\n",
    "       .select(\"Name\", \"entry_score\", \"update_score\", \"Balance\", \"total_score\", \"score_ratio\")\n",
    "df.show()"
   ]
  },
  {
   "cell_type": "code",
   "execution_count": null,
   "metadata": {},
   "outputs": [],
   "source": []
  }
 ],
 "metadata": {
  "kernelspec": {
   "display_name": "Python 3",
   "language": "python",
   "name": "python3"
  },
  "language_info": {
   "codemirror_mode": {
    "name": "ipython",
    "version": 3
   },
   "file_extension": ".py",
   "mimetype": "text/x-python",
   "name": "python",
   "nbconvert_exporter": "python",
   "pygments_lexer": "ipython3",
   "version": "3.6.6"
  }
 },
 "nbformat": 4,
 "nbformat_minor": 2
}
