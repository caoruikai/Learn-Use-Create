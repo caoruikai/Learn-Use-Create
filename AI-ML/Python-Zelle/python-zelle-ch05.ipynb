{
 "cells": [
  {
   "cell_type": "markdown",
   "metadata": {},
   "source": [
    "# Chapter 5 - Sequences: Strings, Lists, and Files"
   ]
  },
  {
   "cell_type": "markdown",
   "metadata": {},
   "source": [
    "## Chapter Summary\n",
    "\n",
    "- Strings are sequences of characters. String literals can be delimited with either single or double quotes.\n",
    "\n",
    "- Strings and lists can be manipulated with the built-in sequence operations for concatenation (`+`), repetition (`*`), indexing (`[]`), slicing(`[:]`), and length (`len()`). A `for` loop can be used to iterate through the characters of a string, items in a list, or lines of a file.\n",
    "\n",
    "- Lists are more general than strings.\n",
    "\n",
    "    - Strings are always sequences of characters, whereas lists can contain values of any type.\n",
    "    \n",
    "    - Lists are mutable, which means that items in a list can be modified by assigning new values.\n",
    "    \n",
    "- Strings are represented in the computer as numeric codes. ASCII and Unicode are compatible standards that are used for specifying the correspondence between characters and the underlying codes. Python provides the `ord` and `chr` functions for translating between Unicode codes and characters.\n",
    "\n",
    "- The process of encoding data to keep it private is called encryption. There are two different types of encryption systems: private key and public key.\n",
    "\n",
    "- Program input and output often involve string processing. `format` is useful for producing nicely formatted output.\n",
    "\n",
    "- Text files are multi-line strings stored in secondary memory. A file may be opened for reading or writing. When opened for writing, the existing contents of the file are erased. Python provides three file-reading methods: `read()`, `readline()`, and `readlines()`. It is also possible to iterate through the lines of a file with a `for` loop. Data is written to a file using the `print` function. When processing is finished, a file should be closed."
   ]
  },
  {
   "cell_type": "markdown",
   "metadata": {},
   "source": [
    "## Additional Collected Knowledge\n",
    "\n",
    "### file open modes explained\n",
    "\n",
    "from [stackoverflow](https://stackoverflow.com/questions/1466000/python-open-built-in-function-difference-between-modes-a-a-w-w-and-r)\n",
    "\n",
    " The argument mode points to a string beginning with one of the following\n",
    " sequences (Additional characters may follow these sequences.):\n",
    "\n",
    "- `r`   Open text file for reading. \n",
    "        The stream is positioned at the beginning of the file.\n",
    "\n",
    "- `r+`  Open for reading and writing. \n",
    "        The stream is positioned at the beginning of the file.\n",
    "\n",
    "- `w`   Truncate file to zero length or create text file for writing. \n",
    "        The stream is positioned at the beginning of the file.\n",
    "\n",
    "- `w+`  Open for reading and writing. \n",
    "        The file is created if it does not exist, otherwise it is truncated. \n",
    "        The stream is positioned at the beginning of the file.\n",
    "\n",
    "- `a`   Open for writing. \n",
    "        The file is created if it does not exist. \n",
    "        The stream is positioned at the end of the file. \n",
    "        Subsequent writes to the file will always end up at the then current end of file, irrespective of any intervening fseek(3) or similar.\n",
    "\n",
    "- `a+`  Open for reading and writing. \n",
    "        The file is created if it does not exist. \n",
    "        The stream is positioned at the end of the file. \n",
    "        Subsequent writes to the file will always end up at the then current end of file, irrespective of any intervening fseek(3) or similar.\n"
   ]
  },
  {
   "cell_type": "markdown",
   "metadata": {},
   "source": [
    "## Discussion"
   ]
  },
  {
   "cell_type": "code",
   "execution_count": 1,
   "metadata": {},
   "outputs": [
    {
     "name": "stdout",
     "output_type": "stream",
     "text": [
      "The knight who say, ni!\n",
      "spamspamspamni!ni!\n",
      "p\n",
      "pa\n",
      "ani\n",
      "spam!\n",
      "SPAM\n",
      "NI! NI! NI! \n"
     ]
    }
   ],
   "source": [
    "# 1. string operations\n",
    "s1 = \"spam\"\n",
    "s2 = 'ni!'\n",
    "\n",
    "print('The knight who say, ' + s2)\n",
    "print(3 * s1 + 2 * s2)\n",
    "print(s1[1])\n",
    "print(s1[1:3])\n",
    "print(s1[2] + s2[:2])\n",
    "print(s1 + s2[-1])\n",
    "print(s1.upper())\n",
    "print(s2.upper().ljust(4) * 3)"
   ]
  },
  {
   "cell_type": "code",
   "execution_count": 2,
   "metadata": {},
   "outputs": [
    {
     "name": "stdout",
     "output_type": "stream",
     "text": [
      "NI\n",
      "ni!spamni!\n",
      "Spam Ni!  Spam Ni!  Spam Ni!\n",
      "spam\n",
      "['sp', 'm']\n",
      "spm\n"
     ]
    }
   ],
   "source": [
    "# 2. string operations\n",
    "s1 = \"spam\"\n",
    "s2 = 'ni!'\n",
    "\n",
    "print(s2[:2].upper())\n",
    "print(s2 + s1 + s2)\n",
    "print(((s1.capitalize().ljust(5) + s2.capitalize().ljust(5)) * 3).rstrip())\n",
    "print(s1)\n",
    "print(s1.split('a'))\n",
    "print(s1.replace('a',''))"
   ]
  },
  {
   "cell_type": "code",
   "execution_count": 3,
   "metadata": {},
   "outputs": [
    {
     "name": "stdout",
     "output_type": "stream",
     "text": [
      "a\n",
      "a\n",
      "r\n",
      "d\n",
      "v\n",
      "a\n",
      "r\n",
      "k\n",
      "\n",
      "Now\n",
      "is\n",
      "the\n",
      "winter\n",
      "of\n",
      "our\n",
      "discontent...\n",
      "\n",
      "M ss ss pp  \n",
      "\n",
      "scrt\n",
      "\n",
      "tfdsfu\n"
     ]
    }
   ],
   "source": [
    "# 3.\n",
    "\n",
    "for ch in 'aardvark':\n",
    "    print(ch)\n",
    "\n",
    "print()\n",
    "\n",
    "for w in \"Now is the winter of our discontent...\".split():\n",
    "    print(w)\n",
    "    \n",
    "print()\n",
    "\n",
    "for w in 'Mississippi'.split('i'):\n",
    "    print(w, end=' ')\n",
    "    \n",
    "print('\\n')\n",
    "\n",
    "msg = ''\n",
    "for s in 'secret'.split('e'):\n",
    "    msg = msg + s\n",
    "print(msg)\n",
    "\n",
    "print()\n",
    "\n",
    "msg = ''\n",
    "for ch in 'secret':\n",
    "    msg = msg + chr(ord(ch)+1)\n",
    "print(msg)"
   ]
  },
  {
   "cell_type": "code",
   "execution_count": 4,
   "metadata": {},
   "outputs": [
    {
     "name": "stdout",
     "output_type": "stream",
     "text": [
      "Looks like spam and eggs for breakfast\n",
      "There is 1 spam 4 you\n",
      "Hello Susan\n",
      "2.30 2.30\n",
      "2.30000 2.30000\n",
      "Time left 01:37.37\n",
      "14 \n"
     ]
    }
   ],
   "source": [
    "# 4. format\n",
    "\n",
    "print('Looks like {1} and {0} for breakfast'.format('eggs','spam'))\n",
    "print('There is {0} {1} {2} {3}'.format(1, 'spam', 4, 'you'))\n",
    "print('Hello {0}'.format('Susan','Computewell'))\n",
    "print('{0:0.2f} {0:0.2f}'.format(2.3, 2.3468))\n",
    "print('{0:7.5f} {0:7.5f}'.format(2.3, 2.3468))\n",
    "print('Time left {0:02}:{1:05.2f}'.format(1, 37.374))\n",
    "print('{0:3}'.format('14'))"
   ]
  },
  {
   "cell_type": "markdown",
   "metadata": {},
   "source": [
    "## Programming Exercises"
   ]
  },
  {
   "cell_type": "code",
   "execution_count": 5,
   "metadata": {},
   "outputs": [
    {
     "name": "stdout",
     "output_type": "stream",
     "text": [
      "Enter day, month, and year numbers: 22,11,2018\n",
      "The date is 11/22/2018 or November 22, 2018.\n"
     ]
    }
   ],
   "source": [
    "# 1. rewrite dateconvert2.py using format method\n",
    "def date_convert():\n",
    "    # get the day months and year\n",
    "    day, month, year = eval(input(\"Enter day, month, and year numbers: \"))\n",
    "    date1 = '{}/{}/{}'.format(month, day, year)\n",
    "    months = [\"January\",'February','March','April','May','June','July','August','September','October','November','December']\n",
    "    date2 = '{} {}, {}'.format(months[month-1], day, year)\n",
    "    print('The date is {} or {}.'.format(date1, date2))\n",
    "\n",
    "date_convert()"
   ]
  },
  {
   "cell_type": "code",
   "execution_count": 6,
   "metadata": {},
   "outputs": [
    {
     "name": "stdout",
     "output_type": "stream",
     "text": [
      "Enter the score: 5\n",
      "The grade is A.\n"
     ]
    }
   ],
   "source": [
    "# 2. convert score\n",
    "\n",
    "def score_convert():\n",
    "    score_dict = {5: 'A', 4: 'B', 3: 'C', 2: 'D', 1: 'F', 0: 'F'}\n",
    "    score = int(input(\"Enter the score: \"))\n",
    "    print(\"The grade is {}.\".format(score_dict[score]))\n",
    "score_convert()"
   ]
  },
  {
   "cell_type": "code",
   "execution_count": 7,
   "metadata": {},
   "outputs": [
    {
     "name": "stdout",
     "output_type": "stream",
     "text": [
      "Enter the score: 97\n",
      "The grade is A\n"
     ]
    }
   ],
   "source": [
    "# 3. convert score 0-100\n",
    "\n",
    "def score_convert100():\n",
    "    grade_list = ['F'] * 6 + ['D'] + ['C'] + ['B'] + ['A'] * 2\n",
    "    score = int(input(\"Enter the score: \"))//10\n",
    "    print(\"The grade is {}\".format(grade_list[score]))\n",
    "score_convert100()"
   ]
  },
  {
   "cell_type": "code",
   "execution_count": 8,
   "metadata": {},
   "outputs": [
    {
     "name": "stdout",
     "output_type": "stream",
     "text": [
      "Enter a phrase: A nice weather!\n",
      "The acronym of \"A nice weather!\" is \"ANW\".\n"
     ]
    }
   ],
   "source": [
    "# 4. acronym\n",
    "\n",
    "def acronym():\n",
    "    phrase = input(\"Enter a phrase: \")\n",
    "    acronym = ''.join([word[0] for word in phrase.split()]).upper()\n",
    "    print('The acronym of \"{}\" is \"{}\".'.format(phrase, acronym))\n",
    "    \n",
    "acronym()"
   ]
  },
  {
   "cell_type": "code",
   "execution_count": 9,
   "metadata": {},
   "outputs": [
    {
     "name": "stdout",
     "output_type": "stream",
     "text": [
      "Enter a name: JD\n",
      "The numeric value of the name is 14\n"
     ]
    }
   ],
   "source": [
    "# 5. numerology\n",
    "\n",
    "def numerology():\n",
    "    name = input(\"Enter a name: \").lower()\n",
    "    trait_num = sum([ord(char)-96 for char in name])\n",
    "    print('The numeric value of the name is', trait_num)\n",
    "    \n",
    "numerology()"
   ]
  },
  {
   "cell_type": "code",
   "execution_count": 10,
   "metadata": {},
   "outputs": [
    {
     "name": "stdout",
     "output_type": "stream",
     "text": [
      "Enter a name: JD lalala\n",
      "The numeric value of the name is 53\n"
     ]
    }
   ],
   "source": [
    "# 6. numerology full name\n",
    "\n",
    "def numerology_full():\n",
    "    name = ''.join(input(\"Enter a name: \").split()).lower()\n",
    "    trait_num = sum([ord(char)-96 for char in name])\n",
    "    print('The numeric value of the name is', trait_num)\n",
    "    \n",
    "numerology_full()"
   ]
  },
  {
   "cell_type": "code",
   "execution_count": 11,
   "metadata": {},
   "outputs": [
    {
     "name": "stdout",
     "output_type": "stream",
     "text": [
      "Enter a word: apple\n",
      "Enter a key value integer: 4\n",
      "The caesar cipher of the word is ettpi\n"
     ]
    }
   ],
   "source": [
    "# 7. Caesar Cipher\n",
    "\n",
    "def caesar_cipher():\n",
    "    word = input(\"Enter a word: \")\n",
    "    key_num = int(input(\"Enter a key value integer: \"))\n",
    "    ciphered = ''.join([chr(ord(char)+key_num) for char in word])\n",
    "    print('The caesar cipher of the word is', ciphered)\n",
    "\n",
    "caesar_cipher()"
   ]
  },
  {
   "cell_type": "code",
   "execution_count": 12,
   "metadata": {},
   "outputs": [
    {
     "name": "stdout",
     "output_type": "stream",
     "text": [
      "Enter a phrase with only letters and space: wxyz WXYZ\n",
      "Enter a key value integer: 6\n",
      "The ciphered phrase is: cdef CDEF\n"
     ]
    }
   ],
   "source": [
    "# 8. A better Caesar Cipher for Unicode only\n",
    "\n",
    "def better_caesar_cipher():\n",
    "    phrase = input(\"Enter a phrase with only letters and space: \")\n",
    "    key_num = int(input(\"Enter a key value integer: \"))\n",
    "    phrase_new = ''\n",
    "    \n",
    "    for char_old in phrase:\n",
    "        ord_old = ord(char_old)\n",
    "        ord_new = ord_old + key_num\n",
    "        \n",
    "        if char_old == ' ':\n",
    "            ord_new = ord_old\n",
    "        elif ord_old < 65 or (ord_old > 90 and ord_old < 97) or ord_old > 122:\n",
    "            raise Exception('There is a character that is not a letter or space.')\n",
    "        elif ord_new > 90 and ord_new < 97:\n",
    "            ord_new = 64 + ord_new - 90\n",
    "        elif ord_new > 122:\n",
    "            ord_new = 96 + ord_new - 122\n",
    "            \n",
    "        char_new = chr(ord_new)\n",
    "        phrase_new = phrase_new + char_new\n",
    "    \n",
    "    print('The ciphered phrase is:', phrase_new)\n",
    "\n",
    "better_caesar_cipher()"
   ]
  },
  {
   "cell_type": "code",
   "execution_count": 13,
   "metadata": {},
   "outputs": [
    {
     "name": "stdout",
     "output_type": "stream",
     "text": [
      "Enter a sentence: How many world are there?\n",
      "The number of words in the sentence is: 5\n"
     ]
    }
   ],
   "source": [
    "# 9. count words in sentence\n",
    "\n",
    "def cw():\n",
    "    sentence = input('Enter a sentence: ').split()\n",
    "    print('The number of words in the sentence is:', len(sentence))\n",
    "cw()"
   ]
  },
  {
   "cell_type": "code",
   "execution_count": 14,
   "metadata": {},
   "outputs": [
    {
     "name": "stdout",
     "output_type": "stream",
     "text": [
      "Enter a sentence: How many worlds?\n",
      "The average of word lenght in the sentence is: 4.666666666666667\n"
     ]
    }
   ],
   "source": [
    "# 10. average word length in sentence\n",
    "\n",
    "def avg_wl():\n",
    "    sentence = input('Enter a sentence: ').split()\n",
    "    wl_list = [len(word) for word in sentence]\n",
    "    avg_wl = sum(wl_list)/len(wl_list)\n",
    "    print('The average of word lenght in the sentence is:', avg_wl)\n",
    "avg_wl()"
   ]
  },
  {
   "cell_type": "code",
   "execution_count": 15,
   "metadata": {},
   "outputs": [
    {
     "name": "stdout",
     "output_type": "stream",
     "text": [
      "This program illustrates a chaotic function\n",
      "Enter a number between 0 and 1: 0.12\n",
      "Enter another number between 0 and 1: 0.34\n",
      "Enter number of iterations: 20\n",
      "\n",
      " index      0.12         0.34    \n",
      "----------------------------------\n",
      "    1     0.411840     0.875160  \n",
      "    2     0.944688     0.426094  \n",
      "    3     0.203783     0.953698  \n",
      "    4     0.632797     0.172216  \n",
      "    5     0.906223     0.555976  \n",
      "    6     0.331433     0.962780  \n",
      "    7     0.864183     0.139755  \n",
      "    8     0.457747     0.468872  \n",
      "    9     0.968037     0.971221  \n",
      "   10     0.120671     0.109008  \n",
      "   11     0.413826     0.378787  \n",
      "   12     0.946039     0.917699  \n",
      "   13     0.199093     0.294557  \n",
      "   14     0.621875     0.810393  \n",
      "   15     0.917072     0.599259  \n",
      "   16     0.296600     0.936576  \n",
      "   17     0.813650     0.231666  \n",
      "   18     0.591331     0.694188  \n",
      "   19     0.942469     0.827935  \n",
      "   20     0.211464     0.555587  \n"
     ]
    }
   ],
   "source": [
    "# 11. A simple program illustrating chaotic behaviour, nicely printed.\n",
    "\n",
    "def chaos():\n",
    "    print(\"This program illustrates a chaotic function\")\n",
    "    x = float(input(\"Enter a number between 0 and 1: \"))\n",
    "    y = float(input(\"Enter another number between 0 and 1: \"))\n",
    "    num = int(input('Enter number of iterations: '))\n",
    "    print()\n",
    "    \n",
    "    digit=0\n",
    "    n = num\n",
    "    while(n>0):\n",
    "        digit=digit+1\n",
    "        n=n//10\n",
    "    \n",
    "    col_width = [max(digit+2, 7), 12, 12]\n",
    "    print('index'.center(col_width[0]), '{0:0.2f}'.format(x).center(col_width[1]), '{0:0.2f}'.format(y).center(col_width[2]))\n",
    "    print('-'*(sum(col_width)+len(col_width)))\n",
    "    for i in range(num):\n",
    "        x = 3.9 * x * (1 - x)\n",
    "        y = 3.9 * y * (1 - y)\n",
    "        print('{}'.format(i+1).rjust(digit).center(col_width[0]), '{0:.6f}'.format(x).center(col_width[1]), '{0:.6f}'.format(y).center(col_width[2]))\n",
    "        \n",
    "chaos()"
   ]
  },
  {
   "cell_type": "code",
   "execution_count": 16,
   "metadata": {},
   "outputs": [
    {
     "name": "stdout",
     "output_type": "stream",
     "text": [
      "This program calculates the future value of an investment.\n",
      "Enter the initial principal: 10000\n",
      "Enter the annual interest rate: 0.04\n",
      "Enter the number of years: 15\n",
      "\n",
      " Year     Value   \n",
      "-------------------\n",
      "   0    $10000.00 \n",
      "   1    $10400.00 \n",
      "   2    $10816.00 \n",
      "   3    $11248.64 \n",
      "   4    $11698.59 \n",
      "   5    $12166.53 \n",
      "   6    $12653.19 \n",
      "   7    $13159.32 \n",
      "   8    $13685.69 \n",
      "   9    $14233.12 \n",
      "  10    $14802.44 \n",
      "  11    $15394.54 \n",
      "  12    $16010.32 \n",
      "  13    $16650.74 \n",
      "  14    $17316.76 \n",
      "  15    $18009.44 \n"
     ]
    }
   ],
   "source": [
    "# 12. future investment value, pretty printed\n",
    "def futval():\n",
    "    print(\"This program calculates the future value of an investment.\")\n",
    "    \n",
    "    principal = float(input(\"Enter the initial principal: \"))\n",
    "    apr = float(input(\"Enter the annual interest rate: \"))\n",
    "    years = int(input(\"Enter the number of years: \"))\n",
    "    print()\n",
    "    \n",
    "    digit_yrs = 0\n",
    "    n = years\n",
    "    while(n > 0):\n",
    "        digit_yrs = digit_yrs + 1\n",
    "        n = n // 10\n",
    "        \n",
    "    digit_money = 0\n",
    "    n = principal * ((1 + apr) ** years)\n",
    "    while(n > 0):\n",
    "        digit_money = digit_money + 1\n",
    "        n = n // 10\n",
    "    \n",
    "    col_width = [max(digit_yrs+2, 6), max(digit_money+6, 7)]\n",
    "    print('Year'.center(col_width[0]), 'Value'.center(col_width[1]))\n",
    "    print('-'*(sum(col_width)+len(col_width)))\n",
    "    for i in range(years+1):\n",
    "        print('{}'.format(i).rjust(digit_yrs).center(col_width[0]), '${0:0.2f}'.format(principal).center(col_width[1]))\n",
    "        principal = principal * (1 + apr)\n",
    "        \n",
    "futval()"
   ]
  },
  {
   "cell_type": "code",
   "execution_count": 17,
   "metadata": {},
   "outputs": [
    {
     "name": "stdout",
     "output_type": "stream",
     "text": [
      "'Twinkle twinkle little star;\\nHow I wonder what you are!\\n'\n",
      "The number of lines: 2\n",
      "The number of words: 10\n",
      "The number of characters: 46\n"
     ]
    }
   ],
   "source": [
    "# 14. word count of a file\n",
    "\n",
    "def create_txt(file_name):\n",
    "    text = 'Twinkle twinkle little star;\\nHow I wonder what you are!\\n'\n",
    "    print(repr(text))\n",
    "    \n",
    "    with open(file_name, 'w') as file:\n",
    "        file.write(text)\n",
    "\n",
    "        \n",
    "def my_wc(file_name):\n",
    "    word_count = 0\n",
    "    char_count = 0\n",
    "    line_count = 0\n",
    "    \n",
    "    # The stream must be positioned at the beginning of the file.\n",
    "    # So `a+` mode leads to all zero counts, which is incorrect.\n",
    "    # `r+` mode must be used.\n",
    "    # see additional collected knowledge above\n",
    "    with open(file_name, 'r+') as file:\n",
    "        for line in file:\n",
    "            split_line = line.replace('\\n','').split(' ')\n",
    "            word_count = word_count + len(split_line)\n",
    "            char_count = char_count + len(''.join(split_line))\n",
    "            line_count = line_count + 1\n",
    "            \n",
    "        print('The number of lines:', line_count, file=file)\n",
    "        print('The number of words:', word_count, file=file)\n",
    "        print('The number of characters:', char_count, file=file)\n",
    "        \n",
    "    print('The number of lines:', line_count)\n",
    "    print('The number of words:', word_count)\n",
    "    print('The number of characters:', char_count)\n",
    "    \n",
    "    \n",
    "file_name = 'star.txt'\n",
    "create_txt(file_name)\n",
    "my_wc(file_name)\n",
    "import os\n",
    "os.remove(file_name)"
   ]
  },
  {
   "cell_type": "code",
   "execution_count": 18,
   "metadata": {},
   "outputs": [
    {
     "name": "stdout",
     "output_type": "stream",
     "text": [
      "65\n",
      "90\n",
      "97\n",
      "122\n"
     ]
    }
   ],
   "source": [
    "# for num in range(50,150):\n",
    "#     print(chr(num))\n",
    "print(ord('A'))\n",
    "print(ord('Z'))\n",
    "print(ord('a'))\n",
    "print(ord('z'))\n",
    "# print(ord(' '))\n",
    "# print(ord('&'))"
   ]
  }
 ],
 "metadata": {
  "kernelspec": {
   "display_name": "Python 3",
   "language": "python",
   "name": "python3"
  },
  "language_info": {
   "codemirror_mode": {
    "name": "ipython",
    "version": 3
   },
   "file_extension": ".py",
   "mimetype": "text/x-python",
   "name": "python",
   "nbconvert_exporter": "python",
   "pygments_lexer": "ipython3",
   "version": "3.6.6"
  }
 },
 "nbformat": 4,
 "nbformat_minor": 2
}
