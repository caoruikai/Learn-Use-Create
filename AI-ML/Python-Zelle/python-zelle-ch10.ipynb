{
 "cells": [
  {
   "cell_type": "markdown",
   "metadata": {},
   "source": [
    "# Chapter 10 - Defining Classes\n",
    "\n",
    "## Chapter Summary\n",
    "\n",
    "- An **object** comprises a collection of related **data** and a set of **operations** to manipulate that data. Data is stored in instance variable and manipulated via methods.\n",
    "\n",
    "- Every object is an **instance** of some **class**. It is the class definition that determines what the attributes of the object will be. Programmers can create new kinds of objects by writing suitable class definition.\n",
    "\n",
    "- A **Python class** definition is a collection of function definitions. These functions implement the methods of the class. Every method definition has a special first parameter called `self`. The actual parameter of `self` is the object to which the method is being applied. The self parameter is used to access the attributes of the object via dot notation.\n",
    "\n",
    "- The special method `__init__` is the constructor for a class. Its job is to initialize the instance variables of an object.\n",
    "\n",
    "- Defining new objects (via class) can simplify the structure of a program by allowing a single variable to store a constellation of related data. Objects are useful for modeling real world entities. These entities may have complex behavior that is captured in method algorithms, or they may be little more than a collection of relavent information about some individual.\n",
    "\n",
    "- Correctly define classes provide encapsulation. The internal details of an object are hidden inside the class definition so that other portions of the program do not need to know how an object is implemented. This separation of concerns is a programming convention in Python; the instance variables of an object should only be accessed or modified through the interface methods of the class."
   ]
  },
  {
   "cell_type": "markdown",
   "metadata": {},
   "source": [
    "## Programming Exercises"
   ]
  },
  {
   "cell_type": "code",
   "execution_count": 1,
   "metadata": {},
   "outputs": [
    {
     "name": "stdout",
     "output_type": "stream",
     "text": [
      "The maxmum height is: 6.527876096865392\n"
     ]
    }
   ],
   "source": [
    "# 1. Modify cannon ball program\n",
    "\n",
    "from math import sin, cos, radians\n",
    "\n",
    "class Projectile:\n",
    "    \n",
    "    def __init__(self, angle, velocity, height):\n",
    "        self.xpos = 0\n",
    "        self.ypos = height\n",
    "        theta = radians(angle)\n",
    "        self.xvel = velocity * cos(theta)\n",
    "        self.yvel = velocity * sin(theta)\n",
    "        \n",
    "    def update(self, time):\n",
    "        self.xpos = self.xpos + time * self.xvel\n",
    "        yvel1 = self.yvel - 9.8 * time\n",
    "        self.ypos = self.ypos + time * (self.yvel + yvel1) / 2.0\n",
    "        self.yvel = yvel1\n",
    "    \n",
    "    def getY(self):\n",
    "        return self.ypos\n",
    "    \n",
    "    def getX(self):\n",
    "        return self.xpos\n",
    "    \n",
    "def main(angle, vel, h0, time):\n",
    "    cball = Projectile(angle, vel, h0)\n",
    "    while cball.yvel > 0:\n",
    "        cball.update(time)\n",
    "    print('The maxmum height is:', cball.ypos)\n",
    "    \n",
    "main(40, 10, 5, 1)"
   ]
  },
  {
   "cell_type": "code",
   "execution_count": 2,
   "metadata": {},
   "outputs": [
    {
     "name": "stdout",
     "output_type": "stream",
     "text": [
      "Enter the grade and credit hour: 4.0 10\n",
      "Enter the grade and credit hour: 3.5 12\n",
      "Enter the grade and credit hour: \n",
      "3.727272727272727\n",
      "Enter the grade and credit hour: A 10\n",
      "Enter the grade and credit hour: B 12\n",
      "Enter the grade and credit hour: F 5\n",
      "Enter the grade and credit hour: \n",
      "3.037037037037037\n"
     ]
    }
   ],
   "source": [
    "# 5 & 6. student class\n",
    "\n",
    "class Student:\n",
    "    \n",
    "    def __init__(self, name, hours, qpoints):\n",
    "        self.name = name\n",
    "        self.hours = float(hours)\n",
    "        self.qpoints = float(qpoints)\n",
    "        \n",
    "    def getName(self):\n",
    "        return self.name\n",
    "    \n",
    "    def getHours(self):\n",
    "        return self.hours\n",
    "    \n",
    "    def getQPoints(self):\n",
    "        return sef.qpoints\n",
    "    \n",
    "    def gpa(self):\n",
    "        return self.qpoints/self.hours\n",
    "    \n",
    "    def addGrade(self, gradePoint, credit):\n",
    "        self.qpoints += gradePoint * credit\n",
    "        self.hours += credit\n",
    "        \n",
    "    def addLetterGrade(self, grade, credit):\n",
    "        grade_dict = {\n",
    "            'A': 4.0,\n",
    "            'B': 3.5,\n",
    "            'C': 3.0,\n",
    "            'D': 2.5,\n",
    "            'F': 0.0,\n",
    "        }\n",
    "        self.addGrade(grade_dict[grade], credit)\n",
    "\n",
    "def enter_grade():\n",
    "    input_str = '0'\n",
    "    yeti = Student('Yeti',0,0)\n",
    "    while input_str:\n",
    "        input_str = input('Enter the grade and credit hour: ')\n",
    "        if ' ' in input_str and len(input_str) > 2:\n",
    "            gradePoint, credit = list(map(float, input_str.split()))\n",
    "            yeti.addGrade(gradePoint, credit)    \n",
    "    print(yeti.gpa())\n",
    "    \n",
    "def enter_letter():\n",
    "    input_str = '0'\n",
    "    yeti = Student('Yeti',0,0)\n",
    "    while input_str:\n",
    "        input_str = input('Enter the grade and credit hour: ')\n",
    "        if ' ' in input_str and len(input_str) > 2:\n",
    "            grade, credit = input_str.split()\n",
    "            credit = float(credit)\n",
    "            yeti.addLetterGrade(grade, credit)\n",
    "    print(yeti.gpa())\n",
    "        \n",
    "enter_grade()\n",
    "enter_letter()"
   ]
  },
  {
   "cell_type": "code",
   "execution_count": 3,
   "metadata": {},
   "outputs": [
    {
     "name": "stdout",
     "output_type": "stream",
     "text": [
      "394.0813824663036\n",
      "735.6185806037665\n"
     ]
    }
   ],
   "source": [
    "# 9. Sphere\n",
    "\n",
    "import math\n",
    "\n",
    "class sphere:\n",
    "    \n",
    "    def __init__(self, radius):\n",
    "        self.radius = radius\n",
    "        \n",
    "    def getRadius(self):\n",
    "        return self.radius\n",
    "    \n",
    "    def surfaceArea(self):\n",
    "        return 4 * math.pi * self.radius**2\n",
    "    \n",
    "    def volume(self):\n",
    "        return 4 / 3 * math.pi * self.radius**3\n",
    "    \n",
    "my_sphere = sphere(5.6)\n",
    "print(my_sphere.surfaceArea())\n",
    "print(my_sphere.volume())"
   ]
  },
  {
   "cell_type": "code",
   "execution_count": 4,
   "metadata": {},
   "outputs": [
    {
     "name": "stdout",
     "output_type": "stream",
     "text": [
      "54\n",
      "27\n"
     ]
    }
   ],
   "source": [
    "# 10. cube\n",
    "\n",
    "class cube:\n",
    "    \n",
    "    def __init__(self, side):\n",
    "        self.side = side\n",
    "        \n",
    "    def get_side_length(self):\n",
    "        return self.side\n",
    "    \n",
    "    def surfaceArea(self):\n",
    "        return 6 * self.side**2\n",
    "    \n",
    "    def volume(self):\n",
    "        return self.side**3\n",
    "    \n",
    "my_cube = cube(3)\n",
    "print(my_cube.surfaceArea())\n",
    "print(my_cube.volume())"
   ]
  },
  {
   "cell_type": "code",
   "execution_count": 5,
   "metadata": {},
   "outputs": [
    {
     "name": "stdout",
     "output_type": "stream",
     "text": [
      "Five of Spades : 5\n",
      "Two of Diamonds : 2\n",
      "Ace of Spades : 1\n",
      "Jack of Hearts : 10\n",
      "Six of Clubs : 6\n"
     ]
    }
   ],
   "source": [
    "# 11. & 12. playing card\n",
    "\n",
    "from random import randrange\n",
    "\n",
    "class card:\n",
    "    \n",
    "    def __init__(self, rank, suit):\n",
    "        self.rank = rank\n",
    "        self.suit = suit\n",
    "        \n",
    "    def getRank(self):\n",
    "        return self.rank\n",
    "    \n",
    "    def getSuit(self):\n",
    "        return self.suit\n",
    "    \n",
    "    def BJValue(self):\n",
    "        if self.rank > 10:\n",
    "            value = 10\n",
    "        else:\n",
    "            value = self.rank\n",
    "        return value\n",
    "    \n",
    "    def __str__(self):\n",
    "        rank_dict = {\n",
    "            1: 'Ace',\n",
    "            2: 'Two',\n",
    "            3: 'Three',\n",
    "            4: 'Four',\n",
    "            5: 'Five',\n",
    "            6: 'Six',\n",
    "            7: 'Seven',\n",
    "            8: 'Eight',\n",
    "            9: 'Nine',\n",
    "            10: 'Ten',\n",
    "            11: 'Jack',\n",
    "            12: 'Queen',\n",
    "            13: 'King',\n",
    "        }\n",
    "        \n",
    "        suit_dict = {\n",
    "            'd': 'Diamonds',\n",
    "            'c': 'Clubs',\n",
    "            'h': 'Hearts',\n",
    "            's': 'Spades',\n",
    "        }\n",
    "        \n",
    "        return rank_dict[self.rank] + ' of ' + suit_dict[self.suit]\n",
    "    \n",
    "def bj_value(n):\n",
    "    suit_list = ['d','c','h','s',]\n",
    "    for i in range(n):\n",
    "        my_card = card(randrange(1,14), suit_list[randrange(0,4)])\n",
    "        print(my_card, ':', my_card.BJValue())\n",
    "        \n",
    "bj_value(5)"
   ]
  }
 ],
 "metadata": {
  "kernelspec": {
   "display_name": "Python 3",
   "language": "python",
   "name": "python3"
  },
  "language_info": {
   "codemirror_mode": {
    "name": "ipython",
    "version": 3
   },
   "file_extension": ".py",
   "mimetype": "text/x-python",
   "name": "python",
   "nbconvert_exporter": "python",
   "pygments_lexer": "ipython3",
   "version": "3.6.6"
  }
 },
 "nbformat": 4,
 "nbformat_minor": 2
}
