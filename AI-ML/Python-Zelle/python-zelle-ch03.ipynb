{
 "cells": [
  {
   "cell_type": "markdown",
   "metadata": {},
   "source": [
    "# Chapter 3 - Computing with Numbers\n",
    "\n",
    "## Summary"
   ]
  },
  {
   "cell_type": "markdown",
   "metadata": {},
   "source": [
    "### Data types\n",
    "\n",
    "- **Definition**: The way a computer represents a particular kind of information is called a data type. The data type of an object determines **what values it can have** and **what operations it supports**.\n",
    "\n",
    "- Python has several different data types for representing numeric values, including **int** and **float**.\n",
    "\n",
    "- **Mathematical operation**: all Python numerica data types support (1) addition (`+`), (2) subtraction (`-`), (3) multiplication (`*`), (4) division (`/`), (5) integer division (`//`), (6) remainder (`%`), (7) exponentiation (`**`), and (8) absolute value (`abs(x)`).\n",
    "\n",
    "- **Addtional mathematical functions** are defined in the `math` library, `import math` to use it.\n",
    "\n",
    "- The **loop accumulator** can be used to perform sum or product of a sequence of values.\n",
    "\n",
    "- Both ints and floats are represented on the underlying computer using **a fixed-length sequence of bits**. **Range of ints**: $-2^{31}$ to $(2^{31}-1)$ on a 32 bit machine. Floats have a finite amount of precision and cannot represent most numbers exactly.\n",
    "\n",
    "- Python's int data may be used to store **whole numbers of arbitrary size**. Int values are automatically converted to longer representaions when they become too large for underlying hardware int. Calculations involving these long ints are less efficient than those that use only small ints.\n",
    "\n",
    "- Python **automatically converts** numbers from one data type to another in certain situations. For example, in a mixed-type expression involving ints and floats, Python first converts the ints into floats and then uses float arithmetic.\n",
    "\n",
    "- Programs may also **explicitly convert** one data type into another using the functions `float()`, `int()`, `round()`."
   ]
  },
  {
   "cell_type": "markdown",
   "metadata": {},
   "source": [
    "## Discussion\n",
    "\n",
    "### 1. Show the result of the following expression"
   ]
  },
  {
   "cell_type": "code",
   "execution_count": 1,
   "metadata": {},
   "outputs": [
    {
     "data": {
      "text/plain": [
       "7.4"
      ]
     },
     "execution_count": 1,
     "metadata": {},
     "output_type": "execute_result"
    }
   ],
   "source": [
    "4.0 / 10.0 + 3.5 * 2"
   ]
  },
  {
   "cell_type": "code",
   "execution_count": 2,
   "metadata": {},
   "outputs": [
    {
     "data": {
      "text/plain": [
       "5.0"
      ]
     },
     "execution_count": 2,
     "metadata": {},
     "output_type": "execute_result"
    }
   ],
   "source": [
    "10 % 4 + 6 / 2"
   ]
  },
  {
   "cell_type": "code",
   "execution_count": 3,
   "metadata": {},
   "outputs": [
    {
     "data": {
      "text/plain": [
       "8"
      ]
     },
     "execution_count": 3,
     "metadata": {},
     "output_type": "execute_result"
    }
   ],
   "source": [
    "abs(4 - 20 // 3) ** 3"
   ]
  },
  {
   "cell_type": "code",
   "execution_count": 4,
   "metadata": {},
   "outputs": [],
   "source": [
    "# import math\n",
    "# math.sqrt(4.5 - 5.0) + 7 * 3\n",
    "# ValueError: math domain error"
   ]
  },
  {
   "cell_type": "code",
   "execution_count": 5,
   "metadata": {},
   "outputs": [
    {
     "data": {
      "text/plain": [
       "11"
      ]
     },
     "execution_count": 5,
     "metadata": {},
     "output_type": "execute_result"
    }
   ],
   "source": [
    "3 * 10 // 3 + 10 % 3"
   ]
  },
  {
   "cell_type": "code",
   "execution_count": 6,
   "metadata": {},
   "outputs": [
    {
     "data": {
      "text/plain": [
       "27"
      ]
     },
     "execution_count": 6,
     "metadata": {},
     "output_type": "execute_result"
    }
   ],
   "source": [
    "3 ** 3"
   ]
  },
  {
   "cell_type": "markdown",
   "metadata": {},
   "source": [
    "### 2. Translate math formula into Python expression"
   ]
  },
  {
   "cell_type": "markdown",
   "metadata": {},
   "source": [
    "$(3+4)(5)$"
   ]
  },
  {
   "cell_type": "code",
   "execution_count": 7,
   "metadata": {},
   "outputs": [
    {
     "data": {
      "text/plain": [
       "35"
      ]
     },
     "execution_count": 7,
     "metadata": {},
     "output_type": "execute_result"
    }
   ],
   "source": [
    "(3 + 4) * 5"
   ]
  },
  {
   "cell_type": "markdown",
   "metadata": {},
   "source": [
    "$\\frac{n(n-1)}{2}$"
   ]
  },
  {
   "cell_type": "code",
   "execution_count": 8,
   "metadata": {},
   "outputs": [
    {
     "data": {
      "text/plain": [
       "0.0"
      ]
     },
     "execution_count": 8,
     "metadata": {},
     "output_type": "execute_result"
    }
   ],
   "source": [
    "n = 1\n",
    "n * (n - 1) / 2"
   ]
  },
  {
   "cell_type": "markdown",
   "metadata": {},
   "source": [
    "$4\\pi r^2$"
   ]
  },
  {
   "cell_type": "code",
   "execution_count": 9,
   "metadata": {},
   "outputs": [
    {
     "data": {
      "text/plain": [
       "50.26548245743669"
      ]
     },
     "execution_count": 9,
     "metadata": {},
     "output_type": "execute_result"
    }
   ],
   "source": [
    "import math\n",
    "r = 2\n",
    "4 * math.pi * r ** 2"
   ]
  },
  {
   "cell_type": "markdown",
   "metadata": {},
   "source": [
    "$\\sqrt{r(\\cos a)^2+r(\\sin a)^2}$"
   ]
  },
  {
   "cell_type": "code",
   "execution_count": 10,
   "metadata": {},
   "outputs": [
    {
     "data": {
      "text/plain": [
       "1.0"
      ]
     },
     "execution_count": 10,
     "metadata": {},
     "output_type": "execute_result"
    }
   ],
   "source": [
    "import math\n",
    "r = 2\n",
    "a = math.pi / 2\n",
    "math.sqrt(r * math.cos(a)**2 + math.sin(a)**2)"
   ]
  },
  {
   "cell_type": "markdown",
   "metadata": {},
   "source": [
    "$\\frac{y2 - y1}{x2 - x1}$"
   ]
  },
  {
   "cell_type": "code",
   "execution_count": 11,
   "metadata": {},
   "outputs": [
    {
     "data": {
      "text/plain": [
       "-0.4"
      ]
     },
     "execution_count": 11,
     "metadata": {},
     "output_type": "execute_result"
    }
   ],
   "source": [
    "x1 = 70\n",
    "x2 = 45\n",
    "y1 = 10\n",
    "y2 = 20\n",
    "\n",
    "(y2 - y1) / (x2 - x1)"
   ]
  },
  {
   "cell_type": "markdown",
   "metadata": {},
   "source": [
    "### 3. Show the squence of numbers"
   ]
  },
  {
   "cell_type": "code",
   "execution_count": 12,
   "metadata": {},
   "outputs": [
    {
     "data": {
      "text/plain": [
       "[0, 1, 2, 3, 4]"
      ]
     },
     "execution_count": 12,
     "metadata": {},
     "output_type": "execute_result"
    }
   ],
   "source": [
    "[x for x in range(5)]"
   ]
  },
  {
   "cell_type": "code",
   "execution_count": 13,
   "metadata": {},
   "outputs": [
    {
     "data": {
      "text/plain": [
       "[3, 4, 5, 6, 7, 8, 9]"
      ]
     },
     "execution_count": 13,
     "metadata": {},
     "output_type": "execute_result"
    }
   ],
   "source": [
    "[x for x in range(3, 10)]"
   ]
  },
  {
   "cell_type": "code",
   "execution_count": 14,
   "metadata": {},
   "outputs": [
    {
     "data": {
      "text/plain": [
       "[4, 7, 10]"
      ]
     },
     "execution_count": 14,
     "metadata": {},
     "output_type": "execute_result"
    }
   ],
   "source": [
    "[x for x in range(4, 13, 3)]"
   ]
  },
  {
   "cell_type": "code",
   "execution_count": 15,
   "metadata": {},
   "outputs": [
    {
     "data": {
      "text/plain": [
       "[15, 13, 11, 9, 7]"
      ]
     },
     "execution_count": 15,
     "metadata": {},
     "output_type": "execute_result"
    }
   ],
   "source": [
    "[x for x in range(15, 5, -2)]"
   ]
  },
  {
   "cell_type": "code",
   "execution_count": 16,
   "metadata": {},
   "outputs": [
    {
     "data": {
      "text/plain": [
       "[]"
      ]
     },
     "execution_count": 16,
     "metadata": {},
     "output_type": "execute_result"
    }
   ],
   "source": [
    "[x for x in range(5, 3)]"
   ]
  },
  {
   "cell_type": "markdown",
   "metadata": {},
   "source": [
    "### 4. Show the folowing results"
   ]
  },
  {
   "cell_type": "code",
   "execution_count": 17,
   "metadata": {},
   "outputs": [
    {
     "name": "stdout",
     "output_type": "stream",
     "text": [
      "1\n",
      "4\n",
      "9\n",
      "16\n",
      "25\n",
      "36\n",
      "49\n",
      "64\n",
      "81\n",
      "100\n"
     ]
    }
   ],
   "source": [
    "for i in range(1, 11):\n",
    "    print(i*i)"
   ]
  },
  {
   "cell_type": "code",
   "execution_count": 18,
   "metadata": {},
   "outputs": [
    {
     "name": "stdout",
     "output_type": "stream",
     "text": [
      "1 : 1\n",
      "3 : 27\n",
      "5 : 125\n",
      "7 : 343\n",
      "9 : 729\n",
      "9\n"
     ]
    }
   ],
   "source": [
    "for i in [1,3,5,7,9]:\n",
    "    print(i, \":\", i**3)\n",
    "print(i)"
   ]
  },
  {
   "cell_type": "code",
   "execution_count": 19,
   "metadata": {},
   "outputs": [
    {
     "name": "stdout",
     "output_type": "stream",
     "text": [
      "012\n",
      "212\n",
      "412\n",
      "612\n",
      "812\n",
      "12\n"
     ]
    }
   ],
   "source": [
    "x = 2\n",
    "y = 10\n",
    "for j in range(0, y, x):\n",
    "    print(j, end=\"\")\n",
    "    print(x + y)\n",
    "print(x + y)"
   ]
  },
  {
   "cell_type": "code",
   "execution_count": 20,
   "metadata": {},
   "outputs": [
    {
     "name": "stdout",
     "output_type": "stream",
     "text": [
      "1\n",
      "2\n",
      "3\n",
      "4\n",
      "5\n",
      "6\n",
      "7\n",
      "8\n",
      "9\n",
      "10\n",
      "385\n"
     ]
    }
   ],
   "source": [
    "ans = 0\n",
    "for i in range(1, 11):\n",
    "    ans = ans + i*i\n",
    "    print(i)\n",
    "print(ans)"
   ]
  },
  {
   "cell_type": "markdown",
   "metadata": {},
   "source": [
    "### round(*, -i)"
   ]
  },
  {
   "cell_type": "code",
   "execution_count": 21,
   "metadata": {},
   "outputs": [
    {
     "data": {
      "text/plain": [
       "310.0"
      ]
     },
     "execution_count": 21,
     "metadata": {},
     "output_type": "execute_result"
    }
   ],
   "source": [
    "round(314.159265, -1)"
   ]
  },
  {
   "cell_type": "markdown",
   "metadata": {},
   "source": [
    "### Negative division and remainder\n",
    "a = (a//b) + (a%b)"
   ]
  },
  {
   "cell_type": "code",
   "execution_count": 22,
   "metadata": {},
   "outputs": [
    {
     "data": {
      "text/plain": [
       "-4"
      ]
     },
     "execution_count": 22,
     "metadata": {},
     "output_type": "execute_result"
    }
   ],
   "source": [
    "-10 // 3"
   ]
  },
  {
   "cell_type": "code",
   "execution_count": 23,
   "metadata": {},
   "outputs": [
    {
     "data": {
      "text/plain": [
       "2"
      ]
     },
     "execution_count": 23,
     "metadata": {},
     "output_type": "execute_result"
    }
   ],
   "source": [
    "-10 % 3"
   ]
  },
  {
   "cell_type": "code",
   "execution_count": 24,
   "metadata": {},
   "outputs": [
    {
     "data": {
      "text/plain": [
       "-4"
      ]
     },
     "execution_count": 24,
     "metadata": {},
     "output_type": "execute_result"
    }
   ],
   "source": [
    "10 // -3"
   ]
  },
  {
   "cell_type": "code",
   "execution_count": 25,
   "metadata": {},
   "outputs": [
    {
     "data": {
      "text/plain": [
       "-2"
      ]
     },
     "execution_count": 25,
     "metadata": {},
     "output_type": "execute_result"
    }
   ],
   "source": [
    "10 % -3"
   ]
  },
  {
   "cell_type": "code",
   "execution_count": 26,
   "metadata": {},
   "outputs": [
    {
     "data": {
      "text/plain": [
       "3"
      ]
     },
     "execution_count": 26,
     "metadata": {},
     "output_type": "execute_result"
    }
   ],
   "source": [
    "-10 // -3"
   ]
  },
  {
   "cell_type": "code",
   "execution_count": 27,
   "metadata": {},
   "outputs": [
    {
     "data": {
      "text/plain": [
       "-1"
      ]
     },
     "execution_count": 27,
     "metadata": {},
     "output_type": "execute_result"
    }
   ],
   "source": [
    "-10 % -3"
   ]
  },
  {
   "cell_type": "markdown",
   "metadata": {},
   "source": [
    "## Programming Excercises"
   ]
  },
  {
   "cell_type": "code",
   "execution_count": 28,
   "metadata": {},
   "outputs": [
    {
     "name": "stdin",
     "output_type": "stream",
     "text": [
      "Enter the radius of the sphere:  2.3\n"
     ]
    },
    {
     "name": "stdout",
     "output_type": "stream",
     "text": [
      "The radius of the sphere is: 2.3\n",
      "The volume of the sphere is: 50.965010421636\n",
      "The surface area of the sphere is: 66.47610054996001\n"
     ]
    }
   ],
   "source": [
    "# 1. A program to calculate the volume and surface area of a sphere from its radius\n",
    "\n",
    "import math\n",
    "\n",
    "def volume_and_surface():\n",
    "    radius = float(input(\"Enter the radius of the sphere: \"))\n",
    "    print(\"The radius of the sphere is:\", radius)\n",
    "    volume = 4.0 / 3.0 * math.pi * radius**3\n",
    "    surface = 4.0 * math.pi * radius**2\n",
    "    print(\"The volume of the sphere is:\", volume)\n",
    "    print(\"The surface area of the sphere is:\", surface)\n",
    "\n",
    "volume_and_surface()"
   ]
  },
  {
   "cell_type": "code",
   "execution_count": 29,
   "metadata": {},
   "outputs": [
    {
     "name": "stdin",
     "output_type": "stream",
     "text": [
      "Enter the diameter of the pizza (inches):  10\n",
      "Enter the price of the pizza:  9\n"
     ]
    },
    {
     "name": "stdout",
     "output_type": "stream",
     "text": [
      "The cost of the pizza per square inch is 0.11459155902616464\n"
     ]
    }
   ],
   "source": [
    "# 2. A program that calculate the cost per square inch of a circular pizza,\n",
    "# given it's diameter and price\n",
    "\n",
    "import math\n",
    "\n",
    "def pizza_cost():\n",
    "    diameter = float(input(\"Enter the diameter of the pizza (inches): \"))\n",
    "    price = float(input(\"Enter the price of the pizza: \"))\n",
    "    cost = price / (math.pi * (diameter / 2)**2)\n",
    "    print(\"The cost of the pizza per square inch is\", cost)\n",
    "    \n",
    "pizza_cost()"
   ]
  },
  {
   "cell_type": "code",
   "execution_count": 30,
   "metadata": {},
   "outputs": [
    {
     "name": "stdout",
     "output_type": "stream",
     "text": [
      "The weight of this hydrocarbon of 4 hydrogen, 5 carbon, 2 oxygen is 96.09.\n"
     ]
    },
    {
     "data": {
      "text/plain": [
       "96.08539999999999"
      ]
     },
     "execution_count": 30,
     "metadata": {},
     "output_type": "execute_result"
    }
   ],
   "source": [
    "# 3. A program to calculate the weight of a hydrocarbon\n",
    "#    based on the number of hydrogen, carbon and oxygen atoms\n",
    "\n",
    "def weight_hydrogen(num_h, num_c, num_o):\n",
    "    weight = 1.0079 * num_h + 12.011 * num_c + 15.9994 * num_o\n",
    "    print('The weight of this hydrocarbon of {} hydrogen, {} carbon, {} oxygen is {:.2f}.'.format(num_h, num_c, num_o, weight))\n",
    "    return weight\n",
    "weight_hydrogen(4,5,2)"
   ]
  },
  {
   "cell_type": "code",
   "execution_count": 31,
   "metadata": {},
   "outputs": [
    {
     "name": "stdout",
     "output_type": "stream",
     "text": [
      "If the time elapsed between the flash and the sound of thunder is 20\n",
      "then the distance to lightning is 3.79 miles\n"
     ]
    },
    {
     "data": {
      "text/plain": [
       "3.787878787878788"
      ]
     },
     "execution_count": 31,
     "metadata": {},
     "output_type": "execute_result"
    }
   ],
   "source": [
    "# 4. A program to determine the distance of lightning\n",
    "#    based on the time elapsed between the flash and the sound of thunder\n",
    "\n",
    "def distance_lightening(t_elapsed):\n",
    "    distance = t_elapsed * 1000 / 5280\n",
    "    print('If the time elapsed between the flash and the sound of thunder is', t_elapsed)\n",
    "    print('then the distance to lightning is {:.2f} miles'.format(distance))\n",
    "    return t_elapsed * 1000 / 5280\n",
    "\n",
    "distance_lightening(20)"
   ]
  },
  {
   "cell_type": "code",
   "execution_count": 32,
   "metadata": {},
   "outputs": [
    {
     "name": "stdout",
     "output_type": "stream",
     "text": [
      "The cost of this order is 14.40\n"
     ]
    }
   ],
   "source": [
    "# 5. calculate the cost of a coffee order\n",
    "\n",
    "def cost_coffee(pound):\n",
    "    cost = 0.86 * pound + 1.5\n",
    "    print('The cost of this order is {:.2f}'.format(cost))\n",
    "    \n",
    "cost_coffee(15)"
   ]
  },
  {
   "cell_type": "code",
   "execution_count": 33,
   "metadata": {},
   "outputs": [
    {
     "name": "stdin",
     "output_type": "stream",
     "text": [
      "Enter x1:  1.05\n",
      "Enter y1:  9.8\n",
      "Enter x2:  2\n",
      "Enter y2:  14\n"
     ]
    },
    {
     "name": "stdout",
     "output_type": "stream",
     "text": [
      "The slope of the line is 4.42\n"
     ]
    },
    {
     "data": {
      "text/plain": [
       "4.421052631578947"
      ]
     },
     "execution_count": 33,
     "metadata": {},
     "output_type": "execute_result"
    }
   ],
   "source": [
    "# 6. caculate slope for a line\n",
    "\n",
    "def slope_line():\n",
    "    x1 = float(input('Enter x1: '))\n",
    "    y1 = float(input('Enter y1: '))\n",
    "    x2 = float(input('Enter x2: '))\n",
    "    y2 = float(input('Enter y2: '))\n",
    "    slope = (y2 - y1) / (x2 - x1)\n",
    "    print('The slope of the line is {:.2f}'.format(slope))\n",
    "    return slope\n",
    "\n",
    "slope_line()"
   ]
  },
  {
   "cell_type": "code",
   "execution_count": 34,
   "metadata": {},
   "outputs": [
    {
     "name": "stdin",
     "output_type": "stream",
     "text": [
      "Enter x1:  2\n",
      "Enter y1:  5\n",
      "Enter x2:  2.3\n",
      "Enter y2:  14\n"
     ]
    },
    {
     "name": "stdout",
     "output_type": "stream",
     "text": [
      "The distance between the two points is 9.00\n"
     ]
    },
    {
     "data": {
      "text/plain": [
       "9.004998611882181"
      ]
     },
     "execution_count": 34,
     "metadata": {},
     "output_type": "execute_result"
    }
   ],
   "source": [
    "# 7. calculate distance between to points on a plane\n",
    "\n",
    "import math\n",
    "\n",
    "def distance_points():\n",
    "    x1 = float(input('Enter x1: '))\n",
    "    y1 = float(input('Enter y1: '))\n",
    "    x2 = float(input('Enter x2: '))\n",
    "    y2 = float(input('Enter y2: '))\n",
    "    dist = math.sqrt((y2 - y1)**2 + (x2 - x1)**2)\n",
    "    print('The distance between the two points is {:.2f}'.format(dist))\n",
    "    return dist\n",
    "\n",
    "distance_points()"
   ]
  },
  {
   "cell_type": "code",
   "execution_count": 35,
   "metadata": {},
   "outputs": [
    {
     "name": "stdout",
     "output_type": "stream",
     "text": [
      "Gregorian epact is 6 for year 2019.\n"
     ]
    },
    {
     "data": {
      "text/plain": [
       "6"
      ]
     },
     "execution_count": 35,
     "metadata": {},
     "output_type": "execute_result"
    }
   ],
   "source": [
    "# 8. Gregorian epact\n",
    "\n",
    "def g_epact(year):\n",
    "    c = year // 10\n",
    "    epact = (8+(c//4)-c+(8*c+13)//25+11*(year%19))%30\n",
    "    print('Gregorian epact is {} for year {}.'.format(epact, year))\n",
    "    return epact\n",
    "\n",
    "g_epact(2019)"
   ]
  },
  {
   "cell_type": "code",
   "execution_count": 36,
   "metadata": {},
   "outputs": [
    {
     "data": {
      "text/plain": [
       "2.9047375096555625"
      ]
     },
     "execution_count": 36,
     "metadata": {},
     "output_type": "execute_result"
    }
   ],
   "source": [
    "# 9. Area of triangle\n",
    "import math\n",
    "\n",
    "def a_triangle(a,b,c):\n",
    "    s = (a+b+c)/2\n",
    "    area = math.sqrt(s*(s-a)*(s-b)*(s-c))\n",
    "    return area\n",
    "a_triangle(2,3,4)"
   ]
  },
  {
   "cell_type": "code",
   "execution_count": 37,
   "metadata": {},
   "outputs": [
    {
     "name": "stdin",
     "output_type": "stream",
     "text": [
      "Enter the angle of the ladder in degree:  60\n",
      "Enter the height of the wall in meters:  8\n"
     ]
    },
    {
     "data": {
      "text/plain": [
       "9.237604307034013"
      ]
     },
     "execution_count": 37,
     "metadata": {},
     "output_type": "execute_result"
    }
   ],
   "source": [
    "# 10. length of ladder\n",
    "import math\n",
    "def l_ladder():\n",
    "    angle = float(input('Enter the angle of the ladder in degree: '))\n",
    "    height = float(input('Enter the height of the wall in meters: '))\n",
    "    radian = math.pi/180*angle\n",
    "    length = height / math.sin(radian)\n",
    "    return length\n",
    "\n",
    "l_ladder()"
   ]
  },
  {
   "cell_type": "code",
   "execution_count": 38,
   "metadata": {},
   "outputs": [
    {
     "name": "stdin",
     "output_type": "stream",
     "text": [
      "Enter the natrual number sum up to:  15\n"
     ]
    },
    {
     "data": {
      "text/plain": [
       "120"
      ]
     },
     "execution_count": 38,
     "metadata": {},
     "output_type": "execute_result"
    }
   ],
   "source": [
    "# 11. sum of first n natural numbers\n",
    "\n",
    "def sum_n():\n",
    "    end_num = int(input('Enter the natrual number sum up to: '))\n",
    "    return sum(range(end_num+1))\n",
    "\n",
    "sum_n()"
   ]
  },
  {
   "cell_type": "code",
   "execution_count": 39,
   "metadata": {},
   "outputs": [
    {
     "name": "stdin",
     "output_type": "stream",
     "text": [
      "Enter the natrual number sum up to:  89\n"
     ]
    },
    {
     "data": {
      "text/plain": [
       "16040025"
      ]
     },
     "execution_count": 39,
     "metadata": {},
     "output_type": "execute_result"
    }
   ],
   "source": [
    "# 12. sum of cubes of first n natural numbers\n",
    "\n",
    "def sum_n_cube():\n",
    "    end_num = int(input('Enter the natrual number sum up to: '))\n",
    "    return sum([i**3 for i in range(end_num+1)])\n",
    "sum_n_cube()"
   ]
  },
  {
   "cell_type": "code",
   "execution_count": 40,
   "metadata": {},
   "outputs": [
    {
     "name": "stdin",
     "output_type": "stream",
     "text": [
      "Enter how many numbers:  4\n",
      "Enter the 1-th number:  1.2\n",
      "Enter the 2-th number:  10\n",
      "Enter the 3-th number:  5\n",
      "Enter the 4-th number:  6\n"
     ]
    },
    {
     "data": {
      "text/plain": [
       "22.2"
      ]
     },
     "execution_count": 40,
     "metadata": {},
     "output_type": "execute_result"
    }
   ],
   "source": [
    "# 13. sum of a series of numbers\n",
    "\n",
    "def sum_series():\n",
    "    len_series = int(input('Enter how many numbers: '))\n",
    "    final_sum = 0\n",
    "    for i in range(len_series):\n",
    "        final_sum = final_sum+float(input(\"Enter the {}-th number: \".format(i+1)))\n",
    "    return final_sum\n",
    "sum_series()"
   ]
  },
  {
   "cell_type": "code",
   "execution_count": 41,
   "metadata": {},
   "outputs": [
    {
     "name": "stdin",
     "output_type": "stream",
     "text": [
      "Enter how many numbers:  5\n",
      "Enter the 1-th number:  6\n",
      "Enter the 2-th number:  8.22\n",
      "Enter the 3-th number:  5\n",
      "Enter the 4-th number:  4\n",
      "Enter the 5-th number:  888\n"
     ]
    },
    {
     "data": {
      "text/plain": [
       "182.244"
      ]
     },
     "execution_count": 41,
     "metadata": {},
     "output_type": "execute_result"
    }
   ],
   "source": [
    "# 14. average of a series of numbers\n",
    "\n",
    "def avg_series():\n",
    "    len_series = int(input('Enter how many numbers: '))\n",
    "    final_sum = 0\n",
    "    for i in range(len_series):\n",
    "        final_sum = final_sum+float(input(\"Enter the {}-th number: \".format(i+1)))\n",
    "    return final_sum / len_series\n",
    "avg_series()"
   ]
  },
  {
   "cell_type": "code",
   "execution_count": 42,
   "metadata": {},
   "outputs": [
    {
     "name": "stdin",
     "output_type": "stream",
     "text": [
      "Enter number of terms:  50\n"
     ]
    },
    {
     "name": "stdout",
     "output_type": "stream",
     "text": [
      "The approximated pi value is 3.121594652591011, with math.pi - approx_pi = 0.01999800099878213\n"
     ]
    },
    {
     "data": {
      "text/plain": [
       "3.121594652591011"
      ]
     },
     "execution_count": 42,
     "metadata": {},
     "output_type": "execute_result"
    }
   ],
   "source": [
    "# 15. approximate pi\n",
    "\n",
    "import math\n",
    "def approx_pi():\n",
    "    len_series = int(input('Enter number of terms: '))\n",
    "    final_sum = 0\n",
    "    for i in range(len_series):\n",
    "        final_sum = final_sum + (-1)**i * (1 / (2 * i + 1))\n",
    "    approx = final_sum * 4\n",
    "    print('The approximated pi value is {}, with math.pi - approx_pi = {}'.format(approx, math.pi-approx))\n",
    "    return approx\n",
    "\n",
    "approx_pi()"
   ]
  },
  {
   "cell_type": "code",
   "execution_count": 43,
   "metadata": {},
   "outputs": [
    {
     "name": "stdin",
     "output_type": "stream",
     "text": [
      "Enter length of Fibonacci series:  20\n"
     ]
    },
    {
     "data": {
      "text/plain": [
       "[1,\n",
       " 1,\n",
       " 2,\n",
       " 3,\n",
       " 5,\n",
       " 8,\n",
       " 13,\n",
       " 21,\n",
       " 34,\n",
       " 55,\n",
       " 89,\n",
       " 144,\n",
       " 233,\n",
       " 377,\n",
       " 610,\n",
       " 987,\n",
       " 1597,\n",
       " 2584,\n",
       " 4181,\n",
       " 6765,\n",
       " 10946,\n",
       " 17711]"
      ]
     },
     "execution_count": 43,
     "metadata": {},
     "output_type": "execute_result"
    }
   ],
   "source": [
    "# 16. Fibonacci\n",
    "\n",
    "def fibo():\n",
    "    num = int(input('Enter length of Fibonacci series: '))\n",
    "    fibo_series = [1,1]\n",
    "    for i in range(num):\n",
    "        fibo_series.append(fibo_series[-2] + fibo_series[-1])\n",
    "    return fibo_series\n",
    "fibo()"
   ]
  },
  {
   "cell_type": "code",
   "execution_count": 44,
   "metadata": {},
   "outputs": [
    {
     "name": "stdin",
     "output_type": "stream",
     "text": [
      "Enter a positive number you would like to take the square root:  2.56\n",
      "Enter number of iterations:  20\n"
     ]
    },
    {
     "name": "stdout",
     "output_type": "stream",
     "text": [
      "The approximated square root of 2.56 is 1.6, while math.sqrt(2.56) - approximate = 0.0\n"
     ]
    },
    {
     "data": {
      "text/plain": [
       "1.6"
      ]
     },
     "execution_count": 44,
     "metadata": {},
     "output_type": "execute_result"
    }
   ],
   "source": [
    "# 17. Newton's method, square root\n",
    "\n",
    "import math\n",
    "def sqrt_newton():\n",
    "    target = float(input('Enter a positive number you would like to take the square root: '))\n",
    "    num_iter = int(input('Enter number of iterations: '))\n",
    "    guess = target / 2\n",
    "    for i in range(num_iter):\n",
    "        guess = (guess + target / guess) / 2\n",
    "    print('The approximated square root of {0} is {1}, while math.sqrt({0}) - approximate = {2}'.format(target, guess, math.sqrt(target)-guess))\n",
    "    return guess\n",
    "sqrt_newton()"
   ]
  },
  {
   "cell_type": "code",
   "execution_count": null,
   "metadata": {},
   "outputs": [],
   "source": []
  }
 ],
 "metadata": {
  "kernelspec": {
   "display_name": "Python 3",
   "language": "python",
   "name": "python3"
  },
  "language_info": {
   "codemirror_mode": {
    "name": "ipython",
    "version": 3
   },
   "file_extension": ".py",
   "mimetype": "text/x-python",
   "name": "python",
   "nbconvert_exporter": "python",
   "pygments_lexer": "ipython3",
   "version": "3.6.6"
  }
 },
 "nbformat": 4,
 "nbformat_minor": 2
}
