{
 "cells": [
  {
   "cell_type": "markdown",
   "metadata": {},
   "source": [
    "# Chapter 6 - Defining Functions"
   ]
  },
  {
   "cell_type": "markdown",
   "metadata": {},
   "source": [
    "## Chapter Summary\n",
    "\n",
    "- A **function** is a kind of subprogram. Programmers use functions to reduce code duplication and to help structure or modularize programs. Once a function is defined, it may be called multiple times from many different places in a program. Parameters allow functions to have changeable parts. The parameters appearing in the function definition are called formal parameters, and the expression appearing in a function call are known as actual parameters.\n",
    "\n",
    "- A call to a function initiates a four-step process:\n",
    "    1. The calling program is suspended.\n",
    "    2. The values of actual parameters are assigned to the formal parameters.\n",
    "    3. The body of the function is executed.\n",
    "    4. Control returns immediately following the function call in the calling program.\n",
    "\n",
    "- The **scope** of a variable is the area of the program where it may be referenced. Formal parameters and other variables inside function definitions are local to the function. Local variables are distinct from variables of the same name that may be used elsewhere in the program.\n",
    "\n",
    "- Functions can communicate the information back to the caller through return values. Python functions may return multiple values. Value returning functions should generally be called from inside an expression. Funtions that don't explicitly return a value return the special object `None`.\n",
    "\n",
    "- Python passes parameters by value. If the value being passed is a mutable object, then changes made to the object may be visible to the caller."
   ]
  },
  {
   "cell_type": "markdown",
   "metadata": {},
   "source": [
    "## Programming Exercises"
   ]
  },
  {
   "cell_type": "code",
   "execution_count": 1,
   "metadata": {},
   "outputs": [
    {
     "name": "stdout",
     "output_type": "stream",
     "text": [
      "\n",
      "                      Old MacDonald had a farm, Ee-igh, Ee-igh, Oh!\n",
      "                      And on that farm he had a cow, Ee-igh, Ee-igh, Oh!\n",
      "                      With a moo, moo here and a moo, moo there,\n",
      "                      Here a moo, there a moo, everywhere a moo, moo.\n",
      "                      Old MacDonald had a farm, Ee-igh, Ee-igh, Oh!\n",
      "                      \n",
      "\n",
      "                      Old MacDonald had a farm, Ee-igh, Ee-igh, Oh!\n",
      "                      And on that farm he had a duck, Ee-igh, Ee-igh, Oh!\n",
      "                      With a quack, quack here and a quack, quack there,\n",
      "                      Here a quack, there a quack, everywhere a quack, quack.\n",
      "                      Old MacDonald had a farm, Ee-igh, Ee-igh, Oh!\n",
      "                      \n",
      "\n",
      "                      Old MacDonald had a farm, Ee-igh, Ee-igh, Oh!\n",
      "                      And on that farm he had a chick, Ee-igh, Ee-igh, Oh!\n",
      "                      With a chick, chick here and a chick, chick there,\n",
      "                      Here a chick, there a chick, everywhere a chick, chick.\n",
      "                      Old MacDonald had a farm, Ee-igh, Ee-igh, Oh!\n",
      "                      \n",
      "\n",
      "                      Old MacDonald had a farm, Ee-igh, Ee-igh, Oh!\n",
      "                      And on that farm he had a sheep, Ee-igh, Ee-igh, Oh!\n",
      "                      With a barr, barr here and a barr, barr there,\n",
      "                      Here a barr, there a barr, everywhere a barr, barr.\n",
      "                      Old MacDonald had a farm, Ee-igh, Ee-igh, Oh!\n",
      "                      \n",
      "\n",
      "                      Old MacDonald had a farm, Ee-igh, Ee-igh, Oh!\n",
      "                      And on that farm he had a dog, Ee-igh, Ee-igh, Oh!\n",
      "                      With a woo, woo here and a woo, woo there,\n",
      "                      Here a woo, there a woo, everywhere a woo, woo.\n",
      "                      Old MacDonald had a farm, Ee-igh, Ee-igh, Oh!\n",
      "                      \n"
     ]
    }
   ],
   "source": [
    "# 1. print lyrics of \"Old MacDonald\"\n",
    "\n",
    "def mcdonald(animal_dict):\n",
    "    lyrics_template = '''\n",
    "                      Old MacDonald had a farm, Ee-igh, Ee-igh, Oh!\n",
    "                      And on that farm he had a {name}, Ee-igh, Ee-igh, Oh!\n",
    "                      With a {call}, {call} here and a {call}, {call} there,\n",
    "                      Here a {call}, there a {call}, everywhere a {call}, {call}.\n",
    "                      Old MacDonald had a farm, Ee-igh, Ee-igh, Oh!\n",
    "                      '''\n",
    "    for name in animal_dict:\n",
    "        print(lyrics_template.format(**{'name': name, 'call': animal_dict[name]}))\n",
    "    \n",
    "animal_dict = {\n",
    "    'cow': 'moo',\n",
    "    'duck': 'quack',\n",
    "    'chick': 'chick',\n",
    "    'sheep': 'barr',\n",
    "    'dog': 'woo',\n",
    "}\n",
    "\n",
    "mcdonald(animal_dict)"
   ]
  },
  {
   "cell_type": "code",
   "execution_count": 2,
   "metadata": {},
   "outputs": [
    {
     "name": "stdout",
     "output_type": "stream",
     "text": [
      "\n",
      "                      The ants go marching one by one, hurrah, hurrah!\n",
      "                      The ants go marching one by one, hurrah, hurrah!\n",
      "                      The ants go marching one by one,\n",
      "                      The little one stops to suck his thumb,\n",
      "                      And they all go marching down...\n",
      "                      To the ground...\n",
      "                      To get out...\n",
      "                      Of the rain.\n",
      "                      Boom! Boom! Boom!\n",
      "                      \n",
      "\n",
      "                      The ants go marching two by two, hurrah, hurrah!\n",
      "                      The ants go marching two by two, hurrah, hurrah!\n",
      "                      The ants go marching two by two,\n",
      "                      The little one stops to tie his shoe,\n",
      "                      And they all go marching down...\n",
      "                      To the ground...\n",
      "                      To get out...\n",
      "                      Of the rain.\n",
      "                      Boom! Boom! Boom!\n",
      "                      \n",
      "\n",
      "                      The ants go marching three by three, hurrah, hurrah!\n",
      "                      The ants go marching three by three, hurrah, hurrah!\n",
      "                      The ants go marching three by three,\n",
      "                      The little one stops to climb a tree,\n",
      "                      And they all go marching down...\n",
      "                      To the ground...\n",
      "                      To get out...\n",
      "                      Of the rain.\n",
      "                      Boom! Boom! Boom!\n",
      "                      \n",
      "\n",
      "                      The ants go marching four by four, hurrah, hurrah!\n",
      "                      The ants go marching four by four, hurrah, hurrah!\n",
      "                      The ants go marching four by four,\n",
      "                      The little one stops to shut the door,\n",
      "                      And they all go marching down...\n",
      "                      To the ground...\n",
      "                      To get out...\n",
      "                      Of the rain.\n",
      "                      Boom! Boom! Boom!\n",
      "                      \n",
      "\n",
      "                      The ants go marching five by five, hurrah, hurrah!\n",
      "                      The ants go marching five by five, hurrah, hurrah!\n",
      "                      The ants go marching five by five,\n",
      "                      The little one stops to clap high five,\n",
      "                      And they all go marching down...\n",
      "                      To the ground...\n",
      "                      To get out...\n",
      "                      Of the rain.\n",
      "                      Boom! Boom! Boom!\n",
      "                      \n",
      "\n",
      "                      The ants go marching six by six, hurrah, hurrah!\n",
      "                      The ants go marching six by six, hurrah, hurrah!\n",
      "                      The ants go marching six by six,\n",
      "                      The little one stops to twiddle their tricks,\n",
      "                      And they all go marching down...\n",
      "                      To the ground...\n",
      "                      To get out...\n",
      "                      Of the rain.\n",
      "                      Boom! Boom! Boom!\n",
      "                      \n",
      "\n",
      "                      The ants go marching seven by seven, hurrah, hurrah!\n",
      "                      The ants go marching seven by seven, hurrah, hurrah!\n",
      "                      The ants go marching seven by seven,\n",
      "                      The little one stops to pray to heaven,\n",
      "                      And they all go marching down...\n",
      "                      To the ground...\n",
      "                      To get out...\n",
      "                      Of the rain.\n",
      "                      Boom! Boom! Boom!\n",
      "                      \n",
      "\n",
      "                      The ants go marching eight by eight, hurrah, hurrah!\n",
      "                      The ants go marching eight by eight, hurrah, hurrah!\n",
      "                      The ants go marching eight by eight,\n",
      "                      The little one man, he's always late,\n",
      "                      And they all go marching down...\n",
      "                      To the ground...\n",
      "                      To get out...\n",
      "                      Of the rain.\n",
      "                      Boom! Boom! Boom!\n",
      "                      \n",
      "\n",
      "                      The ants go marching nine by nine, hurrah, hurrah!\n",
      "                      The ants go marching nine by nine, hurrah, hurrah!\n",
      "                      The ants go marching nine by nine,\n",
      "                      The little one stops to bust a rhyme,\n",
      "                      And they all go marching down...\n",
      "                      To the ground...\n",
      "                      To get out...\n",
      "                      Of the rain.\n",
      "                      Boom! Boom! Boom!\n",
      "                      \n",
      "\n",
      "                      The ants go marching ten by ten, hurrah, hurrah!\n",
      "                      The ants go marching ten by ten, hurrah, hurrah!\n",
      "                      The ants go marching ten by ten,\n",
      "                      This is the end of the song, AMEN,\n",
      "                      And they all go marching down...\n",
      "                      To the ground...\n",
      "                      To get out...\n",
      "                      Of the rain.\n",
      "                      Boom! Boom! Boom!\n",
      "                      \n"
     ]
    }
   ],
   "source": [
    "# 2. print lyrics of \"The Ants Go Marching\"\n",
    "\n",
    "def ants_go_marching(little_list):\n",
    "    lyrics_template = '''\n",
    "                      The ants go marching {num} by {num}, hurrah, hurrah!\n",
    "                      The ants go marching {num} by {num}, hurrah, hurrah!\n",
    "                      The ants go marching {num} by {num},\n",
    "                      {little_one},\n",
    "                      And they all go marching down...\n",
    "                      To the ground...\n",
    "                      To get out...\n",
    "                      Of the rain.\n",
    "                      Boom! Boom! Boom!\n",
    "                      '''\n",
    "    num_dict = {1: 'one', 2: 'two', 3: 'three', 4: 'four', 5: 'five', \n",
    "                6: 'six', 7: 'seven', 8: 'eight', 9: 'nine', 10: 'ten',}\n",
    "    \n",
    "    for i in range(10):\n",
    "        print(lyrics_template.format(**{'num': num_dict[i+1], 'little_one': little_list[i]}))\n",
    "\n",
    "little_list = ['The little one stops to suck his thumb',\n",
    "               'The little one stops to tie his shoe', \n",
    "               'The little one stops to climb a tree',\n",
    "               'The little one stops to shut the door',\n",
    "               'The little one stops to clap high five',\n",
    "               'The little one stops to twiddle their tricks',\n",
    "               'The little one stops to pray to heaven',\n",
    "               \"The little one man, he's always late\",\n",
    "               'The little one stops to bust a rhyme',\n",
    "               'This is the end of the song, AMEN',]\n",
    "\n",
    "ants_go_marching(little_list)"
   ]
  },
  {
   "cell_type": "code",
   "execution_count": 3,
   "metadata": {},
   "outputs": [
    {
     "name": "stdout",
     "output_type": "stream",
     "text": [
      "452.3893421169302\n",
      "904.7786842338603\n"
     ]
    }
   ],
   "source": [
    "# 3. sphere functions\n",
    "\n",
    "import math\n",
    "\n",
    "def sphereArea(radius):\n",
    "    return 4 * math.pi * radius**2\n",
    "    \n",
    "def sphereVolume(radius):\n",
    "    return 4 / 3 * math.pi * radius**3\n",
    "\n",
    "print(sphereArea(6))\n",
    "print(sphereVolume(6))"
   ]
  },
  {
   "cell_type": "code",
   "execution_count": 4,
   "metadata": {},
   "outputs": [
    {
     "name": "stdout",
     "output_type": "stream",
     "text": [
      "6\n",
      "36\n"
     ]
    }
   ],
   "source": [
    "# 4. sum of natrual numbers\n",
    "\n",
    "def sumN(n):\n",
    "    return sum(range(n+1))\n",
    "\n",
    "def sumNCubes(n):\n",
    "    return sum([i**3 for i in range(n+1)])\n",
    "\n",
    "print(sumN(3))\n",
    "print(sumNCubes(3))"
   ]
  },
  {
   "cell_type": "code",
   "execution_count": 5,
   "metadata": {},
   "outputs": [
    {
     "name": "stdout",
     "output_type": "stream",
     "text": [
      "4.523893421169302\n"
     ]
    }
   ],
   "source": [
    "# 5. cost of pizza\n",
    "\n",
    "import math\n",
    "\n",
    "def pizza_area(radius):\n",
    "    return math.pi * radius**2\n",
    "\n",
    "def pizza_cost(radius, cost):\n",
    "    return pizza_area(radius) * cost\n",
    "\n",
    "print(pizza_cost(12, 0.01))"
   ]
  },
  {
   "cell_type": "code",
   "execution_count": 6,
   "metadata": {},
   "outputs": [
    {
     "data": {
      "text/plain": [
       "3.799671038392666"
      ]
     },
     "execution_count": 6,
     "metadata": {},
     "output_type": "execute_result"
    }
   ],
   "source": [
    "# 6. area of a triangle\n",
    "\n",
    "import math\n",
    "\n",
    "def triangle_area(side1, side2, side3):\n",
    "    triangle_test = side1 + side2 > side3 and side1 + side3 > side2 and side2 + side3 > side1\n",
    "    if not triangle_test:\n",
    "        raise ValueError('Sum of any two sides must be greater than the third')\n",
    "    else:\n",
    "        s = (side1 + side2 + side3) / 2\n",
    "        return math.sqrt(s * (s - side1) * (s - side2) * (s - side3))\n",
    "\n",
    "triangle_area(2,4,5)"
   ]
  },
  {
   "cell_type": "code",
   "execution_count": 7,
   "metadata": {},
   "outputs": [
    {
     "name": "stdout",
     "output_type": "stream",
     "text": [
      "[1, 1, 2, 3, 5, 8, 13, 21, 34, 55, 89, 144, 233, 377, 610, 987, 1597, 2584, 4181, 6765]\n"
     ]
    }
   ],
   "source": [
    "# 7. Fibonacci\n",
    "\n",
    "def fibo(n):\n",
    "    fibo_list = [1,1,]\n",
    "    for i in range(2,n):\n",
    "        fibo_list.append(fibo_list[i-1] + fibo_list[i-2])\n",
    "    return fibo_list\n",
    "\n",
    "print(fibo(20))"
   ]
  },
  {
   "cell_type": "code",
   "execution_count": 8,
   "metadata": {},
   "outputs": [
    {
     "name": "stdout",
     "output_type": "stream",
     "text": [
      "Enter a positive number you would like to take the square root: 220\n",
      "Enter number of iterations: 20\n",
      "The approximated square root of 220.0 is 14.832396974191326, while math.sqrt(220.0) - approximate = 0.0\n"
     ]
    },
    {
     "data": {
      "text/plain": [
       "14.832396974191326"
      ]
     },
     "execution_count": 8,
     "metadata": {},
     "output_type": "execute_result"
    }
   ],
   "source": [
    "# 8. Newton's method, square root\n",
    "\n",
    "import math\n",
    "\n",
    "def next_guess(guess, target):\n",
    "    return (guess + target / guess) / 2\n",
    "\n",
    "def sqrt_newton():\n",
    "    target = float(input('Enter a positive number you would like to take the square root: '))\n",
    "    num_iter = int(input('Enter number of iterations: '))\n",
    "    guess = target / 2\n",
    "    for i in range(num_iter):\n",
    "        guess = next_guess(guess, target)\n",
    "    print('The approximated square root of {0} is {1}, while math.sqrt({0}) - approximate = {2}'.format(target, guess, math.sqrt(target)-guess))\n",
    "    return guess\n",
    "sqrt_newton()"
   ]
  }
 ],
 "metadata": {
  "kernelspec": {
   "display_name": "Python 3",
   "language": "python",
   "name": "python3"
  },
  "language_info": {
   "codemirror_mode": {
    "name": "ipython",
    "version": 3
   },
   "file_extension": ".py",
   "mimetype": "text/x-python",
   "name": "python",
   "nbconvert_exporter": "python",
   "pygments_lexer": "ipython3",
   "version": "3.6.6"
  }
 },
 "nbformat": 4,
 "nbformat_minor": 2
}
