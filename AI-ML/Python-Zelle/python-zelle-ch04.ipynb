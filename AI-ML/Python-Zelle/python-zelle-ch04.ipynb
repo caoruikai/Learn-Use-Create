{
 "cells": [
  {
   "cell_type": "markdown",
   "metadata": {},
   "source": [
    "# Chapter 4 - Objects and Graphics"
   ]
  },
  {
   "cell_type": "markdown",
   "metadata": {},
   "source": [
    "## Summary\n",
    "\n",
    "- An **object** is a computational entity that combines data and operations.\n",
    "\n",
    "- Objects **know** stuff and can **do** stuff.\n",
    "\n",
    "- An object's data is stored in **instance variables**, and its operations are called **methods**.\n",
    "\n",
    "- Every object is an **instance** of some **class**. It is the class that determines what methods an object will have. An instance is created by calling a **constructor method**.\n",
    "\n",
    "- An object's attributes are accessed via **dot notation**. Generally computations with objects are performed by calling on an object's methods. **Accessor methods** return information about the instance variables of an object. **Mutator methods** change the values of instance variables."
   ]
  }
 ],
 "metadata": {
  "kernelspec": {
   "display_name": "Python 3",
   "language": "python",
   "name": "python3"
  },
  "language_info": {
   "codemirror_mode": {
    "name": "ipython",
    "version": 3
   },
   "file_extension": ".py",
   "mimetype": "text/x-python",
   "name": "python",
   "nbconvert_exporter": "python",
   "pygments_lexer": "ipython3",
   "version": "3.6.6"
  }
 },
 "nbformat": 4,
 "nbformat_minor": 2
}
