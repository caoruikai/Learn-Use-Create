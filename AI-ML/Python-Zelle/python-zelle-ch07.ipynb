{
 "cells": [
  {
   "cell_type": "markdown",
   "metadata": {},
   "source": [
    "# Chapter 7 - Decision Structures\n",
    "\n",
    "## Chapter Summary\n",
    "\n",
    "- **Decision structures** are control structures that allow a program to execute different sequences of instructions for different cases.\n",
    "\n",
    "- **Decisions** are implemented in Python with `if` statements. Simple decisions are implemented with a plain `if`. Two-way decisions generally use an `if-else`. Multi-way decisions are implemented with `if-else-if`.\n",
    "\n",
    "- Decisions are based on the evaluation of conditions, which are simple Boolean expressions. A Boolean expression is either true or false. Python has a dedicated `bool` data type with literals `True` and `False`. Conditions are formed using the relational operators: `<`, `<=`, `!=`, `==`, `>`, and `>=`.\n",
    "\n",
    "- Some programming languages provide exception handling mechanisms which help to make programs more \"bulletproof\". Python provides a `try-except` statement for exception handling.\n",
    "\n",
    "- Algorithms that incorporate decisions can become quite complicated as decision structures are nested. Usually a number of solutions are possible, and careful thought should be given to produce a correct, efficient, and understandable program."
   ]
  },
  {
   "cell_type": "markdown",
   "metadata": {},
   "source": [
    "## Programming Exercise"
   ]
  },
  {
   "cell_type": "code",
   "execution_count": 1,
   "metadata": {},
   "outputs": [
    {
     "data": {
      "text/plain": [
       "550.0"
      ]
     },
     "execution_count": 1,
     "metadata": {},
     "output_type": "execute_result"
    }
   ],
   "source": [
    "# 1. wages\n",
    "\n",
    "def wage(hour, rate):\n",
    "    if hour > 40:\n",
    "        wage = 40 * rate + (hour - 40) * rate * 1.5\n",
    "    else:\n",
    "        wage = hour * rate\n",
    "    return wage\n",
    "\n",
    "wage(50, 10)"
   ]
  },
  {
   "cell_type": "code",
   "execution_count": 2,
   "metadata": {},
   "outputs": [
    {
     "data": {
      "text/plain": [
       "'F'"
      ]
     },
     "execution_count": 2,
     "metadata": {},
     "output_type": "execute_result"
    }
   ],
   "source": [
    "# 2. score to grade\n",
    "\n",
    "def get_grade(score):\n",
    "    mapping = {5: 'A', 4: 'B', 3: 'C', 2: 'D', 1: 'F', 0: 'F'}\n",
    "    return mapping[score]\n",
    "\n",
    "get_grade(0)"
   ]
  },
  {
   "cell_type": "code",
   "execution_count": 3,
   "metadata": {},
   "outputs": [
    {
     "data": {
      "text/plain": [
       "'D'"
      ]
     },
     "execution_count": 3,
     "metadata": {},
     "output_type": "execute_result"
    }
   ],
   "source": [
    "# 3. score to grade\n",
    "\n",
    "def get_grade2(score):\n",
    "    grade_list = ['F'] * 6 + ['D'] + ['C'] + ['B'] + ['A'] * 2\n",
    "    score = score // 10\n",
    "    return grade_list[score]\n",
    "\n",
    "get_grade2(60)"
   ]
  },
  {
   "cell_type": "code",
   "execution_count": 4,
   "metadata": {},
   "outputs": [
    {
     "data": {
      "text/plain": [
       "'Junior'"
      ]
     },
     "execution_count": 4,
     "metadata": {},
     "output_type": "execute_result"
    }
   ],
   "source": [
    "# 4. college credits\n",
    "\n",
    "def college_year(credit):\n",
    "    if credit >= 26:\n",
    "        return 'Senior'\n",
    "    elif credit >= 16:\n",
    "        return 'Junior'\n",
    "    elif credit >= 7:\n",
    "        return 'Sophomore'\n",
    "    else:\n",
    "        return 'Freshman'\n",
    "    \n",
    "college_year(20)"
   ]
  },
  {
   "cell_type": "code",
   "execution_count": 5,
   "metadata": {},
   "outputs": [
    {
     "data": {
      "text/plain": [
       "'light weight'"
      ]
     },
     "execution_count": 5,
     "metadata": {},
     "output_type": "execute_result"
    }
   ],
   "source": [
    "# 5. bmi\n",
    "\n",
    "def bmi(weight, height):\n",
    "    bmi = weight * 720 / height**2\n",
    "    if bmi > 25:\n",
    "        return 'overweight'\n",
    "    elif bmi >= 19:\n",
    "        return 'healthy'\n",
    "    else:\n",
    "        return 'light weight'\n",
    "\n",
    "bmi(140, 80)"
   ]
  },
  {
   "cell_type": "code",
   "execution_count": 6,
   "metadata": {},
   "outputs": [
    {
     "data": {
      "text/plain": [
       "375"
      ]
     },
     "execution_count": 6,
     "metadata": {},
     "output_type": "execute_result"
    }
   ],
   "source": [
    "# 6. speed fine\n",
    "\n",
    "def speed_fine(speed, limit):\n",
    "    return (50 + 5 * (speed - limit) + 200 * (speed > 90)) * (speed > limit)\n",
    "\n",
    "speed_fine(95, 70)"
   ]
  },
  {
   "cell_type": "code",
   "execution_count": 7,
   "metadata": {},
   "outputs": [
    {
     "data": {
      "text/plain": [
       "23.116666666666667"
      ]
     },
     "execution_count": 7,
     "metadata": {},
     "output_type": "execute_result"
    }
   ],
   "source": [
    "# 7. babysitter\n",
    "\n",
    "from datetime import datetime\n",
    "\n",
    "def babysitter(start, end):\n",
    "    start_time = datetime.strptime(start, '%H:%M')\n",
    "    end_time = datetime.strptime(end, '%H:%M')\n",
    "    night_time = datetime.strptime('21', '%H')\n",
    "    \n",
    "    if end_time > night_time:\n",
    "        return (1.75 * (end_time - night_time).seconds + 2.5 * (night_time - start_time).seconds) / 3600\n",
    "    else:\n",
    "        return 2.5 * (end_time - start_time).seconds / 3600\n",
    "    \n",
    "babysitter('12:30','22:04')"
   ]
  },
  {
   "cell_type": "code",
   "execution_count": 8,
   "metadata": {},
   "outputs": [
    {
     "name": "stdout",
     "output_type": "stream",
     "text": [
      "Eligible for House but not Senate\n",
      "None\n"
     ]
    }
   ],
   "source": [
    "# 8. US congress eligibility\n",
    "\n",
    "def congress(age, years):\n",
    "    if age > 30 and years > 9:\n",
    "        print(\"Eligible for Senate and House\")\n",
    "    elif age > 25 and years > 7:\n",
    "        print(\"Eligible for House but not Senate\")\n",
    "    else:\n",
    "        print(\"Not eligible for either Senate or House\")\n",
    "        \n",
    "print(congress(40, 8))"
   ]
  },
  {
   "cell_type": "code",
   "execution_count": 9,
   "metadata": {},
   "outputs": [
    {
     "data": {
      "text/plain": [
       "('April', 4)"
      ]
     },
     "execution_count": 9,
     "metadata": {},
     "output_type": "execute_result"
    }
   ],
   "source": [
    "# 9. Easter date\n",
    "\n",
    "def easter(year):\n",
    "    if 2048 >= year >= 1982:\n",
    "        a = year % 19\n",
    "        b = year % 4\n",
    "        c = year % 7\n",
    "        d = (19*a + 24) % 30\n",
    "        e = ( 2*b + 4*c + 6*d + 5) % 7\n",
    "        date = 22 + d + e\n",
    "        month = 'March'\n",
    "        if date > 31:\n",
    "            date = date - 31\n",
    "            month = 'April'\n",
    "        return month, date\n",
    "    else:\n",
    "        print('The year must be between 1982 and 2048.')\n",
    "        \n",
    "easter(2010)"
   ]
  },
  {
   "cell_type": "code",
   "execution_count": 10,
   "metadata": {},
   "outputs": [
    {
     "data": {
      "text/plain": [
       "('April', 18)"
      ]
     },
     "execution_count": 10,
     "metadata": {},
     "output_type": "execute_result"
    }
   ],
   "source": [
    "# 10. Easter date for longer range\n",
    "\n",
    "def easter(year):\n",
    "    special_years = [1954, 1981, 2049, 2076]\n",
    "    if 2099 >= year >= 1900:\n",
    "        a = year % 19\n",
    "        b = year % 4\n",
    "        c = year % 7\n",
    "        d = (19*a + 24) % 30\n",
    "        e = ( 2*b + 4*c + 6*d + 5) % 7\n",
    "        date = 22 + d + e\n",
    "        month = 'March'\n",
    "        if year in special_years:\n",
    "            date = date - 7\n",
    "        if date > 31:\n",
    "            date = date - 31\n",
    "            month = 'April'\n",
    "        return month, date\n",
    "    else:\n",
    "        print('The year must be between 1900 and 2099.')\n",
    "        \n",
    "easter(2049)"
   ]
  },
  {
   "cell_type": "code",
   "execution_count": 11,
   "metadata": {},
   "outputs": [
    {
     "data": {
      "text/plain": [
       "True"
      ]
     },
     "execution_count": 11,
     "metadata": {},
     "output_type": "execute_result"
    }
   ],
   "source": [
    "# 11. leap year\n",
    "\n",
    "def leap_year(year):\n",
    "    return year%4 == 0 and year%100 != 0 or year%400 == 0\n",
    "\n",
    "leap_year(2000)"
   ]
  },
  {
   "cell_type": "code",
   "execution_count": 12,
   "metadata": {},
   "outputs": [
    {
     "name": "stdout",
     "output_type": "stream",
     "text": [
      "The date is not valid.\n"
     ]
    }
   ],
   "source": [
    "# 12. validate date\n",
    "\n",
    "from datetime import datetime\n",
    "\n",
    "def valid_date(date):\n",
    "    try:\n",
    "        return datetime.strptime(date, '%m/%d/%Y')\n",
    "    except ValueError:\n",
    "        print('The date is not valid.')\n",
    "\n",
    "valid_date('01/33/2019')"
   ]
  },
  {
   "cell_type": "code",
   "execution_count": 13,
   "metadata": {},
   "outputs": [
    {
     "data": {
      "text/plain": [
       "93"
      ]
     },
     "execution_count": 13,
     "metadata": {},
     "output_type": "execute_result"
    }
   ],
   "source": [
    "# 13. index of days\n",
    "\n",
    "def index_day(year, month, date):\n",
    "    day_num = 31 * (month - 1) + date\n",
    "    if month > 2:\n",
    "        day_num = day_num - (4*month + 23)//10\n",
    "        if leap_year(year):\n",
    "            day_num = day_num + 1\n",
    "    return day_num\n",
    "            \n",
    "index_day(2019, 4, 3)"
   ]
  }
 ],
 "metadata": {
  "kernelspec": {
   "display_name": "Python 3",
   "language": "python",
   "name": "python3"
  },
  "language_info": {
   "codemirror_mode": {
    "name": "ipython",
    "version": 3
   },
   "file_extension": ".py",
   "mimetype": "text/x-python",
   "name": "python",
   "nbconvert_exporter": "python",
   "pygments_lexer": "ipython3",
   "version": "3.6.6"
  }
 },
 "nbformat": 4,
 "nbformat_minor": 2
}
