{
 "cells": [
  {
   "cell_type": "markdown",
   "metadata": {},
   "source": [
    "# Chapter 13 - Algorithm Design and Recursion\n",
    "\n",
    "## Chapter Summary\n",
    "\n",
    "- One core subfield of computer science is **analysis of algorithms**. Computer scientists analyze the time efficiency of an algorithm by considering how many steps the algorithm requires as a function of the input size.\n",
    "\n",
    "- **Searching** is an process of finding a particular item among a collection. **Linear search** scans the collection from start to end and requires time linearly proportional to the size of the collection. If the collection is sorted, it can be searched using the **binary search** algorithm.\n",
    "\n",
    "- **Binary search** is an example of a **divide and conquer** approach to algorithm development. Divide and conquer often yields efficient solutions.\n",
    "\n",
    "- A defintion or function is **recursive** if it refers to itself. To be well-founded, a recursive definition must meet two properties:\n",
    "\n",
    "    1. There must be one or more base cases that require no recursion.\n",
    "    \n",
    "    2. All chains of recursion must eventually reach a base case.\n",
    "    \n",
    "    - A simple way to guarantee these conditions is for recursive calls to always be made on smaller version of the problem. The base cases are then simple versions that can be solved directly.\n",
    "    \n",
    "- Sequences can be considered recursive structures containing a first item followed by a sequence. Recursive functions can be written following this approach.\n",
    "\n",
    "- Recursion is more general than iteration. Choosing between recursion and looping involves the considerations of efficiency and elegance.\n",
    "\n",
    "- **Sorting** is the process of placing a collection in order. A **selection sort** requires time proportional to the square of the size of the collection. Merge sort is a divide and conquer algorithm that can sort a collection in `nlogn` time.\n",
    "\n",
    "- Problems that are solvable in theory but not in practice are called in **tractable**, e.g. Towers of Hanoi.\n",
    "\n",
    "- Some problems are in principle **unsolvable**, e.g. Halting problem."
   ]
  },
  {
   "cell_type": "markdown",
   "metadata": {},
   "source": [
    "## Programming Exercises"
   ]
  },
  {
   "cell_type": "code",
   "execution_count": 1,
   "metadata": {},
   "outputs": [
    {
     "name": "stdout",
     "output_type": "stream",
     "text": [
      "Computing fib(10)\n",
      "Computing fib(9)\n",
      "Computing fib(8)\n",
      "Computing fib(7)\n",
      "Computing fib(6)\n",
      "Computing fib(5)\n",
      "Computing fib(4)\n",
      "Computing fib(3)\n",
      "Computing fib(2)\n",
      "Computing fib(1)\n",
      "Computing fib(2)\n",
      "Computing fib(3)\n",
      "Computing fib(2)\n",
      "Computing fib(1)\n",
      "Computing fib(4)\n",
      "Computing fib(3)\n",
      "Computing fib(2)\n",
      "Computing fib(1)\n",
      "Computing fib(2)\n",
      "Computing fib(5)\n",
      "Computing fib(4)\n",
      "Computing fib(3)\n",
      "Computing fib(2)\n",
      "Computing fib(1)\n",
      "Computing fib(2)\n",
      "Computing fib(3)\n",
      "Computing fib(2)\n",
      "Computing fib(1)\n",
      "Computing fib(6)\n",
      "Computing fib(5)\n",
      "Computing fib(4)\n",
      "Computing fib(3)\n",
      "Computing fib(2)\n",
      "Computing fib(1)\n",
      "Computing fib(2)\n",
      "Computing fib(3)\n",
      "Computing fib(2)\n",
      "Computing fib(1)\n",
      "Computing fib(4)\n",
      "Computing fib(3)\n",
      "Computing fib(2)\n",
      "Computing fib(1)\n",
      "Computing fib(2)\n",
      "Computing fib(7)\n",
      "Computing fib(6)\n",
      "Computing fib(5)\n",
      "Computing fib(4)\n",
      "Computing fib(3)\n",
      "Computing fib(2)\n",
      "Computing fib(1)\n",
      "Computing fib(2)\n",
      "Computing fib(3)\n",
      "Computing fib(2)\n",
      "Computing fib(1)\n",
      "Computing fib(4)\n",
      "Computing fib(3)\n",
      "Computing fib(2)\n",
      "Computing fib(1)\n",
      "Computing fib(2)\n",
      "Computing fib(5)\n",
      "Computing fib(4)\n",
      "Computing fib(3)\n",
      "Computing fib(2)\n",
      "Computing fib(1)\n",
      "Computing fib(2)\n",
      "Computing fib(3)\n",
      "Computing fib(2)\n",
      "Computing fib(1)\n",
      "Computing fib(8)\n",
      "Computing fib(7)\n",
      "Computing fib(6)\n",
      "Computing fib(5)\n",
      "Computing fib(4)\n",
      "Computing fib(3)\n",
      "Computing fib(2)\n",
      "Computing fib(1)\n",
      "Computing fib(2)\n",
      "Computing fib(3)\n",
      "Computing fib(2)\n",
      "Computing fib(1)\n",
      "Computing fib(4)\n",
      "Computing fib(3)\n",
      "Computing fib(2)\n",
      "Computing fib(1)\n",
      "Computing fib(2)\n",
      "Computing fib(5)\n",
      "Computing fib(4)\n",
      "Computing fib(3)\n",
      "Computing fib(2)\n",
      "Computing fib(1)\n",
      "Computing fib(2)\n",
      "Computing fib(3)\n",
      "Computing fib(2)\n",
      "Computing fib(1)\n",
      "Computing fib(6)\n",
      "Computing fib(5)\n",
      "Computing fib(4)\n",
      "Computing fib(3)\n",
      "Computing fib(2)\n",
      "Computing fib(1)\n",
      "Computing fib(2)\n",
      "Computing fib(3)\n",
      "Computing fib(2)\n",
      "Computing fib(1)\n",
      "Computing fib(4)\n",
      "Computing fib(3)\n",
      "Computing fib(2)\n",
      "Computing fib(1)\n",
      "Computing fib(2)\n"
     ]
    },
    {
     "data": {
      "text/plain": [
       "55"
      ]
     },
     "execution_count": 1,
     "metadata": {},
     "output_type": "execute_result"
    }
   ],
   "source": [
    "# 1. Tracking recursive Fibonacci\n",
    "\n",
    "def fib(n):\n",
    "    print('Computing fib({})'.format(n))\n",
    "    if n < 3:\n",
    "        return 1\n",
    "    else:\n",
    "        return fib(n-1) + fib(n-2)\n",
    "          \n",
    "fib(10)"
   ]
  },
  {
   "cell_type": "code",
   "execution_count": 2,
   "metadata": {},
   "outputs": [
    {
     "name": "stdout",
     "output_type": "stream",
     "text": [
      "55\n"
     ]
    },
    {
     "data": {
      "text/plain": [
       "109"
      ]
     },
     "execution_count": 2,
     "metadata": {},
     "output_type": "execute_result"
    }
   ],
   "source": [
    "# 2. counting the fib\n",
    "\n",
    "class fib_counter:\n",
    "    \n",
    "    def __init__(self):\n",
    "        self.count = 0\n",
    "        \n",
    "    def get_count(self):\n",
    "        return self.count\n",
    "        \n",
    "    def fib(self, n):\n",
    "        self.count += 1\n",
    "        if n < 3:\n",
    "            return 1\n",
    "        else:\n",
    "            return self.fib(n-1) + self.fib(n-2)\n",
    "        \n",
    "    def resetCount(self):\n",
    "        self.count = 0\n",
    "        \n",
    "counter = fib_counter()\n",
    "print(counter.fib(10))\n",
    "counter.get_count()"
   ]
  },
  {
   "cell_type": "code",
   "execution_count": 3,
   "metadata": {},
   "outputs": [
    {
     "data": {
      "text/plain": [
       "True"
      ]
     },
     "execution_count": 3,
     "metadata": {},
     "output_type": "execute_result"
    }
   ],
   "source": [
    "# 3. palindrome\n",
    "\n",
    "def check_letter(l):\n",
    "    if 65<=ord(l)<=90 or 97<=ord(l)<=122:\n",
    "        return True\n",
    "    else:\n",
    "        return False\n",
    "\n",
    "def palindrome(string):    \n",
    "    if not len(string):\n",
    "        return True\n",
    "    elif not check_letter(string[0]):\n",
    "        return palindrome(string[1:])\n",
    "    elif not check_letter(string[-1]):\n",
    "        return palindrome(string[:-1])\n",
    "    elif string[0].lower() == string[-1].lower():\n",
    "        return palindrome(string[1:-1])\n",
    "    else:\n",
    "        return False\n",
    "    \n",
    "palindrome('A man, a plan, a canal, Panama!')"
   ]
  },
  {
   "cell_type": "code",
   "execution_count": 4,
   "metadata": {},
   "outputs": [
    {
     "data": {
      "text/plain": [
       "441"
      ]
     },
     "execution_count": 4,
     "metadata": {},
     "output_type": "execute_result"
    }
   ],
   "source": [
    "# 4. my max\n",
    "\n",
    "def my_max(l):\n",
    "    if len(l)==1:\n",
    "        return l[0]\n",
    "    else:\n",
    "        max_rest = my_max(l[1:])\n",
    "        if l[0] > max_rest:\n",
    "            return l[0]\n",
    "        else:\n",
    "            return max_rest\n",
    "        \n",
    "my_max([2,44,12,441])"
   ]
  },
  {
   "cell_type": "code",
   "execution_count": 5,
   "metadata": {},
   "outputs": [
    {
     "name": "stdout",
     "output_type": "stream",
     "text": [
      "1\n",
      "5\n",
      "3\n",
      "2\n",
      "3\n"
     ]
    }
   ],
   "source": [
    "# 5. digits in different bases\n",
    "\n",
    "def digits(num, base):\n",
    "    if num < base:\n",
    "        print(num)\n",
    "    else:\n",
    "        digits(num//base, base)\n",
    "        print(num%base)\n",
    "\n",
    "digits(15323, 10)"
   ]
  },
  {
   "cell_type": "code",
   "execution_count": 6,
   "metadata": {},
   "outputs": [
    {
     "name": "stdout",
     "output_type": "stream",
     "text": [
      "15.0\n",
      "15\n"
     ]
    }
   ],
   "source": [
    "# 7. iterative and recursive combination\n",
    "\n",
    "def facto(num):\n",
    "    result = 1\n",
    "    for i in range(2,num+1):\n",
    "        result *= i\n",
    "    return result\n",
    "\n",
    "def combi_iter(n, k):\n",
    "    return facto(n)/(facto(k)*facto(n-k))\n",
    "\n",
    "def combi_rec(n, k):\n",
    "    if k == 1:\n",
    "        return n\n",
    "    elif n<k:\n",
    "        return 0\n",
    "    return combi_rec(n-1, k-1) + combi_rec(n-1, k)\n",
    "\n",
    "print(combi_iter(6,2))\n",
    "print(combi_rec(6,2))"
   ]
  },
  {
   "cell_type": "code",
   "execution_count": 7,
   "metadata": {},
   "outputs": [
    {
     "name": "stdout",
     "output_type": "stream",
     "text": [
      "Word aaa was not found in dictionary\n"
     ]
    }
   ],
   "source": [
    "# 10. spell check\n",
    "\n",
    "with open('/usr/share/dict/american-english', 'r') as dict_file:\n",
    "    word_all = dict_file.readlines()\n",
    "    word_all = [word.rstrip('\\n') for word in word_all]\n",
    "\n",
    "def spell_check(list_words):\n",
    "    for word in list_words:\n",
    "        if not word_search(word, word_all):\n",
    "            print('Word {} was not found in dictionary'.format(word))\n",
    "\n",
    "def word_search(word, word_all):\n",
    "    word_count = len(word_all)\n",
    "    if word_count == 1:\n",
    "        if word == word_all[0]:\n",
    "            return True\n",
    "        else:\n",
    "            return False\n",
    "    else:\n",
    "        return word_search(word, word_all[:word_count//2]) or word_search(word, word_all[word_count//2:])\n",
    "    \n",
    "spell_check(['aaa', 'some'])"
   ]
  },
  {
   "cell_type": "code",
   "execution_count": 8,
   "metadata": {},
   "outputs": [
    {
     "name": "stdout",
     "output_type": "stream",
     "text": [
      "wind\n"
     ]
    }
   ],
   "source": [
    "# 11. jumble\n",
    "\n",
    "with open('/usr/share/dict/american-english', 'r') as dict_file:\n",
    "    word_all = dict_file.readlines()\n",
    "    word_all = [word.rstrip('\\n') for word in word_all]\n",
    "    \n",
    "def anagram(word):\n",
    "    if len(word) == 1:\n",
    "        return [word]\n",
    "    else:\n",
    "        char_list = [char for char in word]\n",
    "        anagram_list = []\n",
    "        for i, char in enumerate(char_list):\n",
    "            rest_char = ''.join(char_list[:i] + char_list[i+1:])\n",
    "            for comb in anagram(rest_char):\n",
    "                anagram_list.append(char+comb)\n",
    "        return anagram_list\n",
    "    \n",
    "def word_search(word, word_all):\n",
    "    word_count = len(word_all)\n",
    "    if word_count == 1:\n",
    "        if word == word_all[0]:\n",
    "            return word\n",
    "    else:\n",
    "        return word_search(word, word_all[:word_count//2]) or word_search(word, word_all[word_count//2:])\n",
    "    \n",
    "def jumble(word, word_all):\n",
    "    for w in anagram(word):\n",
    "        if word_search(w, word_all):\n",
    "            print(word_search(w, word_all))\n",
    "            \n",
    "jumble('inwd',word_all)"
   ]
  }
 ],
 "metadata": {
  "kernelspec": {
   "display_name": "Python 3",
   "language": "python",
   "name": "python3"
  },
  "language_info": {
   "codemirror_mode": {
    "name": "ipython",
    "version": 3
   },
   "file_extension": ".py",
   "mimetype": "text/x-python",
   "name": "python",
   "nbconvert_exporter": "python",
   "pygments_lexer": "ipython3",
   "version": "3.6.6"
  }
 },
 "nbformat": 4,
 "nbformat_minor": 2
}
