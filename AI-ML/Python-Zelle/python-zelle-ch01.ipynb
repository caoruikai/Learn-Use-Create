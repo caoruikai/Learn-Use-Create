{
 "cells": [
  {
   "cell_type": "markdown",
   "metadata": {},
   "source": [
    "# Chapter 1 - Computers and Programs\n",
    "\n",
    "## Summary"
   ]
  },
  {
   "cell_type": "markdown",
   "metadata": {},
   "source": [
    "### Basic Concepts\n",
    "\n",
    "1. **Computer**: a universal information-processing machine that can carry out any process that described in sufficient detail;\n",
    "\n",
    "2. **Algorithm**: a description of the sequence of steps for solving a particular problem;or\n",
    "\n",
    "3. **Algorithms** can be turned into **software (programs)** that determines what the **hardware** (physical machine) can and does accomplish;\n",
    "\n",
    "4. **Programming**: the process of creating software;"
   ]
  },
  {
   "cell_type": "markdown",
   "metadata": {},
   "source": [
    "### Computer Science\n",
    "\n",
    "1. **Computer Science**: the study of what can be computed;\n",
    "\n",
    "2. Three **techniques** of **computer science**: **design**, **analysis**, **experimentation**;"
   ]
  },
  {
   "cell_type": "markdown",
   "metadata": {},
   "source": [
    "### Hardware\n",
    "\n",
    "Central processing unit (CPU), main memory (RAM), secondary memory (hard disk, etc), input and output devices;"
   ]
  },
  {
   "cell_type": "markdown",
   "metadata": {},
   "source": [
    "### Programming Language\n",
    "\n",
    "1. Property of prgramming languages: **precise syntax** and **precise semantics**;\n",
    "\n",
    "2. **High level** programming languages must either be compiled or interpreted into **machine language** for computers to understand it;\n",
    "\n",
    "3. High level languages are more portable than machine language;"
   ]
  },
  {
   "cell_type": "markdown",
   "metadata": {},
   "source": [
    "### Python Basics\n",
    "\n",
    "1. Python is a interpreted language;\n",
    "\n",
    "2. A Python program is a sequence of statements for the Python interpreter to execute;"
   ]
  },
  {
   "cell_type": "markdown",
   "metadata": {},
   "source": [
    "### Chaotic Model\n",
    "\n",
    "A small changes in the input lead to large changes in the results"
   ]
  },
  {
   "cell_type": "markdown",
   "metadata": {},
   "source": [
    "## Review Questions\n",
    "\n",
    "### True/False\n",
    "\n",
    "1. [F] Computer science is the study of computers.\n",
    "\n",
    "2. [T] The CPU is the \"brain\" of the computer.\n",
    "\n",
    "3. [F] Secondary memory is also called RAM.\n",
    "\n",
    "4. [T] All information that a computer is currently working on is stored in main memory.\n",
    "\n",
    "5. [F] The syntax of a language is its meaning, and semantics is its form.\n",
    "\n",
    "6. [T] A function definition is a sequence of statements that defines a new command.\n",
    "\n",
    "7. [F] A programming environment refers to a place where programmers work.\n",
    "\n",
    "8. [T] A variable is used to give a name to a value so it can be referred to in other places.\n",
    "\n",
    "9. [F] A loop is used to skip over a section of a program.\n",
    "\n",
    "10. [F] A chaotic function cannot be computed by a computer."
   ]
  },
  {
   "cell_type": "markdown",
   "metadata": {},
   "source": [
    "## Programming Exercises\n",
    "\n",
    "### 1. Try the following"
   ]
  },
  {
   "cell_type": "code",
   "execution_count": 1,
   "metadata": {},
   "outputs": [
    {
     "name": "stdout",
     "output_type": "stream",
     "text": [
      "Hello, world!\n"
     ]
    }
   ],
   "source": [
    "print(\"Hello, world!\")"
   ]
  },
  {
   "cell_type": "code",
   "execution_count": 2,
   "metadata": {},
   "outputs": [
    {
     "name": "stdout",
     "output_type": "stream",
     "text": [
      "Hello world\n"
     ]
    }
   ],
   "source": [
    "print(\"Hello\", \"world\")"
   ]
  },
  {
   "cell_type": "code",
   "execution_count": 3,
   "metadata": {},
   "outputs": [
    {
     "name": "stdout",
     "output_type": "stream",
     "text": [
      "3\n"
     ]
    }
   ],
   "source": [
    "print(3)"
   ]
  },
  {
   "cell_type": "code",
   "execution_count": 4,
   "metadata": {},
   "outputs": [
    {
     "name": "stdout",
     "output_type": "stream",
     "text": [
      "3.0\n"
     ]
    }
   ],
   "source": [
    "print(3.0)"
   ]
  },
  {
   "cell_type": "code",
   "execution_count": 5,
   "metadata": {},
   "outputs": [
    {
     "name": "stdout",
     "output_type": "stream",
     "text": [
      "5\n"
     ]
    }
   ],
   "source": [
    "print(2+3)"
   ]
  },
  {
   "cell_type": "code",
   "execution_count": 6,
   "metadata": {},
   "outputs": [
    {
     "name": "stdout",
     "output_type": "stream",
     "text": [
      "5.0\n"
     ]
    }
   ],
   "source": [
    "print(2.0+3.0)"
   ]
  },
  {
   "cell_type": "code",
   "execution_count": 7,
   "metadata": {},
   "outputs": [
    {
     "name": "stdout",
     "output_type": "stream",
     "text": [
      "23\n"
     ]
    }
   ],
   "source": [
    "print(\"2\"+\"3\")"
   ]
  },
  {
   "cell_type": "code",
   "execution_count": 8,
   "metadata": {},
   "outputs": [
    {
     "name": "stdout",
     "output_type": "stream",
     "text": [
      "2 + 3 = 5\n"
     ]
    }
   ],
   "source": [
    "print(\"2 + 3 =\", 2+3)"
   ]
  },
  {
   "cell_type": "code",
   "execution_count": 9,
   "metadata": {},
   "outputs": [
    {
     "name": "stdout",
     "output_type": "stream",
     "text": [
      "6\n"
     ]
    }
   ],
   "source": [
    "print(2*3)"
   ]
  },
  {
   "cell_type": "code",
   "execution_count": 10,
   "metadata": {},
   "outputs": [
    {
     "name": "stdout",
     "output_type": "stream",
     "text": [
      "8\n"
     ]
    }
   ],
   "source": [
    "print(2 ** 3)"
   ]
  },
  {
   "cell_type": "code",
   "execution_count": 11,
   "metadata": {},
   "outputs": [
    {
     "name": "stdout",
     "output_type": "stream",
     "text": [
      "0.6666666666666666\n"
     ]
    }
   ],
   "source": [
    "print(2 / 3)"
   ]
  },
  {
   "cell_type": "markdown",
   "metadata": {},
   "source": [
    "### 2. The chaos program"
   ]
  },
  {
   "cell_type": "code",
   "execution_count": 12,
   "metadata": {},
   "outputs": [
    {
     "name": "stdout",
     "output_type": "stream",
     "text": [
      "This program illustrates a chaotic function\n",
      "0.975\n",
      "0.09506250000000008\n",
      "0.33549992226562525\n",
      "0.8694649252590003\n",
      "0.44263310911310905\n",
      "0.962165255336889\n",
      "0.1419727793616139\n",
      "0.4750843861996143\n",
      "0.9725789275369049\n",
      "0.1040097132674683\n"
     ]
    }
   ],
   "source": [
    "# A simple program illustrating chaotic behaviour.\n",
    "\n",
    "def main():\n",
    "    print(\"This program illustrates a chaotic function\")\n",
    "    x = float(input(\"Enter a number between 0 and 1: \"))\n",
    "    for i in range(10):\n",
    "        x = 3.9 * x * (1 - x)\n",
    "        print(x)\n",
    "        \n",
    "main()"
   ]
  },
  {
   "cell_type": "markdown",
   "metadata": {},
   "source": [
    "### 3. Modified chaos program #1"
   ]
  },
  {
   "cell_type": "code",
   "execution_count": 13,
   "metadata": {},
   "outputs": [
    {
     "name": "stdout",
     "output_type": "stream",
     "text": [
      "This program illustrates a chaotic function\n",
      "0.5\n",
      "0.5\n",
      "0.5\n",
      "0.5\n",
      "0.5\n",
      "0.5\n",
      "0.5\n",
      "0.5\n",
      "0.5\n",
      "0.5\n"
     ]
    }
   ],
   "source": [
    "# A simple program illustrating chaotic behaviour.\n",
    "# Replace the original multiplier 3.9 with 2.0\n",
    "\n",
    "def main():\n",
    "    print(\"This program illustrates a chaotic function\")\n",
    "    x = float(input(\"Enter a number between 0 and 1: \"))\n",
    "    for i in range(10):\n",
    "        x = 2.0 * x * (1 - x)\n",
    "        print(x)\n",
    "        \n",
    "main()"
   ]
  },
  {
   "cell_type": "markdown",
   "metadata": {},
   "source": [
    "### 4. Modified chaos program #2"
   ]
  },
  {
   "cell_type": "code",
   "execution_count": 14,
   "metadata": {},
   "outputs": [
    {
     "name": "stdout",
     "output_type": "stream",
     "text": [
      "This program illustrates a chaotic function\n",
      "0.975\n",
      "0.09506250000000008\n",
      "0.33549992226562525\n",
      "0.8694649252590003\n",
      "0.44263310911310905\n",
      "0.962165255336889\n",
      "0.1419727793616139\n",
      "0.4750843861996143\n",
      "0.9725789275369049\n",
      "0.1040097132674683\n",
      "0.36344760197260056\n",
      "0.90227842611257\n",
      "0.34387106474913476\n",
      "0.8799326467519814\n",
      "0.4120396173349332\n",
      "0.9448255872175185\n",
      "0.20330776813070028\n",
      "0.6316975062388134\n",
      "0.907357490716863\n",
      "0.3278335115517574\n"
     ]
    }
   ],
   "source": [
    "# A simple program illustrating chaotic behaviour.\n",
    "# Print 20 instead of 10 result\n",
    "\n",
    "def main():\n",
    "    print(\"This program illustrates a chaotic function\")\n",
    "    x = float(input(\"Enter a number between 0 and 1: \"))\n",
    "    for i in range(20):\n",
    "        x = 3.9 * x * (1 - x)\n",
    "        print(x)\n",
    "        \n",
    "main()"
   ]
  },
  {
   "cell_type": "markdown",
   "metadata": {},
   "source": [
    "### 5. Modified chaos program #3"
   ]
  },
  {
   "cell_type": "code",
   "execution_count": 15,
   "metadata": {},
   "outputs": [
    {
     "name": "stdout",
     "output_type": "stream",
     "text": [
      "This program illustrates a chaotic function\n",
      "0.975\n",
      "0.09506250000000008\n",
      "0.33549992226562525\n",
      "0.8694649252590003\n",
      "0.44263310911310905\n",
      "0.962165255336889\n",
      "0.1419727793616139\n",
      "0.4750843861996143\n",
      "0.9725789275369049\n",
      "0.1040097132674683\n",
      "0.36344760197260056\n",
      "0.90227842611257\n",
      "0.34387106474913476\n",
      "0.8799326467519814\n",
      "0.4120396173349332\n",
      "0.9448255872175185\n",
      "0.20330776813070028\n",
      "0.6316975062388134\n",
      "0.907357490716863\n",
      "0.3278335115517574\n"
     ]
    }
   ],
   "source": [
    "# A simple program illustrating chaotic behaviour.\n",
    "# User defined number of iterations\n",
    "\n",
    "def main():\n",
    "    print(\"This program illustrates a chaotic function\")\n",
    "    n = int(input(\"How many numbers should I print? \"))\n",
    "    x = float(input(\"Enter a number between 0 and 1: \"))\n",
    "    for i in range(n):\n",
    "        x = 3.9 * x * (1 - x)\n",
    "        print(x)\n",
    "        \n",
    "main()"
   ]
  },
  {
   "cell_type": "markdown",
   "metadata": {},
   "source": [
    "### 6. Modified chaos program #4"
   ]
  },
  {
   "cell_type": "code",
   "execution_count": 16,
   "metadata": {},
   "outputs": [
    {
     "name": "stdout",
     "output_type": "stream",
     "text": [
      "This program illustrates a chaotic function\n",
      "\n",
      "Result of iterating x = 3.9 * x * (1 - x): \n",
      "0.975\n",
      "0.09506250000000008\n",
      "0.33549992226562525\n",
      "0.8694649252590003\n",
      "0.44263310911310905\n",
      "0.962165255336889\n",
      "0.1419727793616139\n",
      "0.4750843861996143\n",
      "0.9725789275369049\n",
      "0.1040097132674683\n",
      "\n",
      "Result of iterating x = 3.9 * (x - x * x): \n",
      "0.36344760197260056\n",
      "0.90227842611257\n",
      "0.3438710647491349\n",
      "0.8799326467519817\n",
      "0.4120396173349321\n",
      "0.9448255872175177\n",
      "0.20330776813070292\n",
      "0.6316975062388196\n",
      "0.9073574907168567\n",
      "0.3278335115517776\n",
      "\n",
      "Result of iterating x = 3.9 * x - 3.9 * x * x: \n",
      "0.8593989309960915\n",
      "0.47124639275558\n",
      "0.9717755972746911\n",
      "0.10696836468282313\n",
      "0.37255192119563213\n",
      "0.911652250115395\n",
      "0.3141154574022362\n",
      "0.8402430536105585\n",
      "0.5235151914320743\n",
      "0.9728434395104603\n"
     ]
    }
   ],
   "source": [
    "# A simple program illustrating chaotic behaviour.\n",
    "# Compare three versions, which are algebraically equivalent\n",
    "# but computationally different\n",
    "\n",
    "def main():\n",
    "    print(\"This program illustrates a chaotic function\")\n",
    "    x = float(input(\"Enter a number between 0 and 1: \"))\n",
    "    \n",
    "    print(\"\\nResult of iterating x = 3.9 * x * (1 - x): \")\n",
    "    for i in range(10):\n",
    "        x = 3.9 * x * (1 - x)\n",
    "        print(x)\n",
    "        \n",
    "    print(\"\\nResult of iterating x = 3.9 * (x - x * x): \")\n",
    "    for i in range(10):\n",
    "        x = 3.9 * (x - x * x)\n",
    "        print(x)    \n",
    "    \n",
    "    print(\"\\nResult of iterating x = 3.9 * x - 3.9 * x * x: \")\n",
    "    for i in range(10):\n",
    "        x = 3.9 * (x - x * x)\n",
    "        print(x) \n",
    "    \n",
    "main()"
   ]
  },
  {
   "cell_type": "markdown",
   "metadata": {},
   "source": [
    "### Modifed chaos program #5"
   ]
  },
  {
   "cell_type": "code",
   "execution_count": 17,
   "metadata": {},
   "outputs": [
    {
     "name": "stdout",
     "output_type": "stream",
     "text": [
      "This program illustrates a chaotic function\n",
      "0.975 0.9359999999999999\n",
      "0.09506250000000008 0.2336256000000002\n",
      "0.33549992226562525 0.6982742481960964\n",
      "0.8694649252590003 0.8216805577588637\n",
      "0.44263310911310905 0.5714343131637907\n",
      "0.962165255336889 0.9550988417209882\n",
      "0.1419727793616139 0.16725167263043805\n",
      "0.4750843861996143 0.5431863474677594\n",
      "0.9725789275369049 0.9677262636303364\n",
      "0.1040097132674683 0.12180535501057962\n"
     ]
    }
   ],
   "source": [
    "# A simple program illustrating chaotic behaviour.\n",
    "\n",
    "def main():\n",
    "    print(\"This program illustrates a chaotic function\")\n",
    "    x = float(input(\"Enter a number between 0 and 1: \"))\n",
    "    y = float(input(\"Enter another number between 0 and 1: \"))\n",
    "    for i in range(10):\n",
    "        x = 3.9 * x * (1 - x)\n",
    "        y = 3.9 * y * (1 - y)\n",
    "        print(x, y)\n",
    "        \n",
    "main()"
   ]
  },
  {
   "cell_type": "code",
   "execution_count": null,
   "metadata": {},
   "outputs": [],
   "source": []
  }
 ],
 "metadata": {
  "kernelspec": {
   "display_name": "Python 3",
   "language": "python",
   "name": "python3"
  },
  "language_info": {
   "codemirror_mode": {
    "name": "ipython",
    "version": 3
   },
   "file_extension": ".py",
   "mimetype": "text/x-python",
   "name": "python",
   "nbconvert_exporter": "python",
   "pygments_lexer": "ipython3",
   "version": "3.6.6"
  }
 },
 "nbformat": 4,
 "nbformat_minor": 2
}
