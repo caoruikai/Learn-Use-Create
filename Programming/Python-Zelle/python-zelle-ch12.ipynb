{
 "cells": [
  {
   "cell_type": "markdown",
   "metadata": {},
   "source": [
    "# Chapter 12 - Object-Oriented Design\n",
    "\n",
    "## Chapter Summary\n",
    "\n",
    "- **Object-oriented design (OOD)** is the process of developing a set of classes to solve a problem. It is similar to top-down design in that the goal is to develop a set of black boxes and associated interfaces. Where top-down design looks for functions, OOD looks for objects.\n",
    "\n",
    "- **Encapsulation** Separating the implementation details of an object from how the object is used. This allows for modular design of complex programs.\n",
    "\n",
    "- **Polymorphism** Different classes may implement methods with the same signature. This maks programs more flexible, allowing a single line of code to call different methods in different situations.\n",
    "\n",
    "- **Inheritance** A new class can be derived from an existing class. This supports sharing of methods among classes and code reuse."
   ]
  }
 ],
 "metadata": {
  "kernelspec": {
   "display_name": "Python 3",
   "language": "python",
   "name": "python3"
  },
  "language_info": {
   "codemirror_mode": {
    "name": "ipython",
    "version": 3
   },
   "file_extension": ".py",
   "mimetype": "text/x-python",
   "name": "python",
   "nbconvert_exporter": "python",
   "pygments_lexer": "ipython3",
   "version": "3.6.6"
  }
 },
 "nbformat": 4,
 "nbformat_minor": 2
}
