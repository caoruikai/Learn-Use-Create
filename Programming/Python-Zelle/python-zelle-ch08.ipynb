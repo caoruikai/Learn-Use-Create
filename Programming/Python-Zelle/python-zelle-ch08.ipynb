{
 "cells": [
  {
   "cell_type": "markdown",
   "metadata": {},
   "source": [
    "# Chapter 8 - Loop Structure and Booleans\n",
    "\n",
    "## Chapter Summary\n",
    "\n",
    "- A Python `for` loop is a **definite loop** that iterate through a sequence.\n",
    "\n",
    "- A Python `while` statement is an example of an **indefinite loop**. It continues to iterate as long as the loop condition remains true. When using an indefinite loop, programmers must guard against the possiblility of accidentally writing an infinite loop.\n",
    "\n",
    "- One important use for an indefinite loop is for implementing the programming pattern **interactive loop**. An interactive loop allows portions of a program to be repeated according to the wishes of the user.\n",
    "\n",
    "- A **sentinel loop** is a loop that handles input until a special value (the sentinel) is encountered. Sentinel loops are a common programming pattern. In writing a sentinel loop, a programmer must be careful that the sentinel is not processed.\n",
    "\n",
    "- Loops are useful for reading files. Python treats a file as a sequence of lines, so it is particularly easy to process a file line-by-line using a `for` loop. In other languages, a file loop is generally implemented using a sentinel loop pattern.\n",
    "\n",
    "- Loops, like other control structures, can be nested. When designing nested loop algorithms, it is best to consider the loops one at a time.\n",
    "\n",
    "- Complex Boolean expressions can be built from simple conditions using boolean operators `and`, `or`, and `not`. Boolean operators obey the rules of Boolean algebra. DeMorgan's laws describe how to negate Boolean expressions involving `and` and `or`.\n",
    "\n",
    "- Nonstandard loop structures such as a loop-and-a-half can be built using a `while` loop having a loop condition of `True` and using a `break` statement to provide a loop exit.\n",
    "\n",
    "- Python Boolean operators `and` and `or` employ short-circuit evaluation. They also have operational definitions that allow them to be used in certain decision context. Even though Python has a built-in `bool` data type, other data types (e.g., int) may also be used where Boolean expressions are expected."
   ]
  },
  {
   "cell_type": "markdown",
   "metadata": {},
   "source": [
    "## Programming Exercises"
   ]
  },
  {
   "cell_type": "code",
   "execution_count": 1,
   "metadata": {},
   "outputs": [
    {
     "name": "stdout",
     "output_type": "stream",
     "text": [
      "Input the n: 20\n"
     ]
    },
    {
     "data": {
      "text/plain": [
       "6765"
      ]
     },
     "execution_count": 1,
     "metadata": {},
     "output_type": "execute_result"
    }
   ],
   "source": [
    "# 1. Fibonacci\n",
    "\n",
    "def fibo():\n",
    "    n = int(input('Input the n: '))\n",
    "    fibo = [0,1]\n",
    "    for i in range(2,n+1):\n",
    "        fibo.append(fibo[i-1] + fibo[i-2])\n",
    "    return fibo[-1]\n",
    "\n",
    "fibo()"
   ]
  },
  {
   "cell_type": "code",
   "execution_count": 2,
   "metadata": {},
   "outputs": [
    {
     "name": "stdout",
     "output_type": "stream",
     "text": [
      " 0 -20.00 -10.00   0.00  10.00  20.00  30.00  40.00  50.00\n",
      " 5 -34.00 -22.26 -10.51   1.24  12.98  24.73  36.47  48.22\n",
      "10 -40.72 -28.33 -15.93  -3.54   8.85  21.25  33.64  46.04\n",
      "15 -45.01 -32.21 -19.40  -6.59   6.22  19.03  31.84  44.64\n",
      "20 -48.23 -35.11 -22.00  -8.88   4.24  17.36  30.48  43.60\n",
      "25 -50.83 -37.46 -24.09 -10.72   2.65  16.02  29.39  42.76\n",
      "30 -53.03 -39.45 -25.86 -12.28   1.30  14.88  28.46  42.04\n",
      "35 -54.93 -41.17 -27.40 -13.64   0.13  13.89  27.66  41.43\n",
      "40 -56.62 -42.70 -28.77 -14.84  -0.91  13.02  26.95  40.88\n",
      "45 -58.14 -44.07 -29.99 -15.92  -1.84  12.23  26.31  40.38\n"
     ]
    }
   ],
   "source": [
    "# 2. windchill\n",
    "\n",
    "def windchill():\n",
    "    for wind in range(0,50,5):\n",
    "        windchill_list = []\n",
    "\n",
    "        for temp in range(-20,60,10):\n",
    "            if wind > 0:\n",
    "                windchill = 35.74 + 0.6215*temp - 35.75*wind**0.16 + 0.4275*temp*wind**0.16\n",
    "            else:\n",
    "                windchill = temp               \n",
    "\n",
    "            if windchill >= 10.0:\n",
    "                windchill = ' ' + '{:.2f}'.format(windchill)\n",
    "            elif windchill >= 0.0:\n",
    "                windchill = '  ' + '{:.2f}'.format(windchill)\n",
    "            elif windchill > -10.0:\n",
    "                windchill = ' ' + '{:.2f}'.format(windchill)\n",
    "            else:\n",
    "                windchill = '{:.2f}'.format(windchill)\n",
    "\n",
    "            windchill_list.append(windchill)\n",
    "            \n",
    "        print(str(wind).rjust(2) + ' ' + ' '.join(windchill_list))\n",
    "        \n",
    "windchill()"
   ]
  },
  {
   "cell_type": "code",
   "execution_count": 3,
   "metadata": {},
   "outputs": [
    {
     "data": {
      "text/plain": [
       "4"
      ]
     },
     "execution_count": 3,
     "metadata": {},
     "output_type": "execute_result"
    }
   ],
   "source": [
    "# 3. double investment\n",
    "\n",
    "def double_invest(rate):\n",
    "    value = 1\n",
    "    yr = 0\n",
    "    while value < 2:\n",
    "        value = value*(1+rate)\n",
    "        yr = yr + 1\n",
    "    return(yr)\n",
    "\n",
    "double_invest(0.2)"
   ]
  },
  {
   "cell_type": "code",
   "execution_count": 4,
   "metadata": {},
   "outputs": [
    {
     "data": {
      "text/plain": [
       "1"
      ]
     },
     "execution_count": 4,
     "metadata": {},
     "output_type": "execute_result"
    }
   ],
   "source": [
    "# 4. Syracuse sequence\n",
    "\n",
    "def syra(num):\n",
    "    while num > 1:\n",
    "        if num % 2 == 0.0:\n",
    "            num = num//2\n",
    "        else:\n",
    "            num = 3*num + 1\n",
    "    return num\n",
    "\n",
    "syra(200)"
   ]
  },
  {
   "cell_type": "code",
   "execution_count": 5,
   "metadata": {},
   "outputs": [
    {
     "data": {
      "text/plain": [
       "True"
      ]
     },
     "execution_count": 5,
     "metadata": {},
     "output_type": "execute_result"
    }
   ],
   "source": [
    "# 5. prime number\n",
    "import math\n",
    "\n",
    "def prime(num):\n",
    "    num1 = math.floor(math.sqrt(num))\n",
    "    while num1 >= 2 and num%num1 != 0:\n",
    "        num1 = num1 -1\n",
    "        \n",
    "    if num1 >= 2:\n",
    "#         print('{} is not prime, {} can evenly divide {}'.format(num, num1, num))\n",
    "        result = False\n",
    "    else:\n",
    "#         print('{} is prime'.format(num))\n",
    "        result = True\n",
    "    return result\n",
    "        \n",
    "prime(2)\n",
    "        "
   ]
  },
  {
   "cell_type": "code",
   "execution_count": 6,
   "metadata": {},
   "outputs": [
    {
     "data": {
      "text/plain": [
       "[1, 2, 3, 5, 7, 11, 13, 17, 19]"
      ]
     },
     "execution_count": 6,
     "metadata": {},
     "output_type": "execute_result"
    }
   ],
   "source": [
    "# 6. every prime number\n",
    "\n",
    "def every_prime(num):\n",
    "    prime_list = []\n",
    "    for i in range(1, num+1):\n",
    "        if_prime = prime(i)\n",
    "        if if_prime:\n",
    "            prime_list.append(i)\n",
    "    return prime_list\n",
    "\n",
    "every_prime(20)"
   ]
  },
  {
   "cell_type": "code",
   "execution_count": 7,
   "metadata": {},
   "outputs": [
    {
     "data": {
      "text/plain": [
       "(1, 3)"
      ]
     },
     "execution_count": 7,
     "metadata": {},
     "output_type": "execute_result"
    }
   ],
   "source": [
    "# 7. Goldbach\n",
    "\n",
    "def goldbach(num):\n",
    "    result = None\n",
    "    if num%2 == 0:\n",
    "        for i in range(1, num//2+1):\n",
    "            if prime(i):\n",
    "                if prime(num-i):\n",
    "                    result = (i, num-i)\n",
    "                    break\n",
    "    return result\n",
    "\n",
    "goldbach(4)"
   ]
  },
  {
   "cell_type": "code",
   "execution_count": 8,
   "metadata": {},
   "outputs": [
    {
     "data": {
      "text/plain": [
       "6"
      ]
     },
     "execution_count": 8,
     "metadata": {},
     "output_type": "execute_result"
    }
   ],
   "source": [
    "# 8. greatest common divisor\n",
    "\n",
    "def gcd(m,n):\n",
    "    while m > 0:\n",
    "        n, m = m, n%m\n",
    "    return n\n",
    "\n",
    "gcd(12, 6)"
   ]
  },
  {
   "cell_type": "code",
   "execution_count": 9,
   "metadata": {},
   "outputs": [
    {
     "name": "stdout",
     "output_type": "stream",
     "text": [
      "Enter the initial odometer reading: 2000\n",
      "\n",
      "        Enter current odometer reading and gas used, seperated by space.\n",
      "        To end the trip, press ENTER: 2100 10\n",
      "The MPG for this leg is 10.0\n",
      "\n",
      "        Enter current odometer reading and gas used, seperated by space.\n",
      "        To end the trip, press ENTER: 2200 5\n",
      "The MPG for this leg is 20.0\n",
      "\n",
      "        Enter current odometer reading and gas used, seperated by space.\n",
      "        To end the trip, press ENTER: \n",
      "Total MPG is 13.333333333333334\n"
     ]
    }
   ],
   "source": [
    "# 9. fuel efficiency\n",
    "\n",
    "def fuel():\n",
    "    odo_init = float(input('Enter the initial odometer reading: '))\n",
    "    odo = odo_init\n",
    "    gas_total = 0\n",
    "    input_list = [odo,0]\n",
    "    while input_list:\n",
    "        odo_new = input_list[0]\n",
    "        gas = input_list[1]\n",
    "        if gas > 0:\n",
    "            print('The MPG for this leg is', (odo_new-odo)/gas)\n",
    "        gas_total += gas\n",
    "        odo = odo_new\n",
    "        input_list = list(map(float, input('''\n",
    "        Enter current odometer reading and gas used, seperated by space.\n",
    "        To end the trip, press ENTER: ''').split()))\n",
    "    print('Total MPG is', (odo-odo_init)/gas_total)\n",
    "    \n",
    "fuel()"
   ]
  },
  {
   "cell_type": "code",
   "execution_count": 10,
   "metadata": {},
   "outputs": [
    {
     "name": "stdout",
     "output_type": "stream",
     "text": [
      "The MPG for this leg is 10.0\n",
      "The MPG for this leg is 20.0\n",
      "Total MPG is 13.333333333333334\n",
      "File 'trip' removed!\n"
     ]
    }
   ],
   "source": [
    "# 10. modify 9, let it read from a file\n",
    "\n",
    "import os\n",
    "\n",
    "def create_file(file_name, string):\n",
    "    with open(file_name,'w') as file:\n",
    "        file.write(string)\n",
    "\n",
    "def delete_file(file_name):\n",
    "    try:\n",
    "        os.remove(file_name)\n",
    "        print(\"File '{}' removed!\".format(file_name))\n",
    "    except FileNotFoundError:\n",
    "        print('No such file or directory:', file_name)\n",
    "        \n",
    "def fuel_from_file(file_name):\n",
    "    with open(file_name, 'r') as file:\n",
    "        lines = file.readlines()\n",
    "        lines = [line.rstrip('\\n') for line in lines]\n",
    "        odo_init = float(lines[0].split()[0])\n",
    "#         print(odo_init)\n",
    "        odo = odo_init\n",
    "        gas_total = 0\n",
    "        for line in lines[1:]:\n",
    "            input_list = line.split()\n",
    "#             print(input_list)\n",
    "            odo_new = float(input_list[0])\n",
    "            gas = float(input_list[1])\n",
    "            if gas > 0:\n",
    "                print('The MPG for this leg is', (odo_new-odo)/gas)\n",
    "            gas_total += gas\n",
    "            odo = odo_new\n",
    "        print('Total MPG is', (odo-odo_init)/gas_total)\n",
    "\n",
    "create_file('trip','2000 0\\n2100 10\\n2200 5')\n",
    "fuel_from_file('trip')\n",
    "delete_file('trip')"
   ]
  },
  {
   "cell_type": "code",
   "execution_count": 11,
   "metadata": {},
   "outputs": [
    {
     "name": "stdout",
     "output_type": "stream",
     "text": [
      "Enter a squence of temperatures, seperated by space: 10 20 70 23 99\n",
      "Heating degree-days: 127.0\n",
      "Colling degree-days: 19.0\n"
     ]
    }
   ],
   "source": [
    "# 11. degree days\n",
    "\n",
    "def degree_day():\n",
    "    temp_list = list(map(float, input('Enter a squence of temperatures, seperated by space: ').split()))\n",
    "    heating = sum([max(0,60-temp) for temp in temp_list])\n",
    "    cooling = sum([max(0,temp-80) for temp in temp_list])\n",
    "    print('Heating degree-days:', heating)\n",
    "    print('Colling degree-days:', cooling)\n",
    "    \n",
    "degree_day()"
   ]
  },
  {
   "cell_type": "code",
   "execution_count": 12,
   "metadata": {},
   "outputs": [
    {
     "name": "stdout",
     "output_type": "stream",
     "text": [
      "Heating degree-days: 127.0\n",
      "Colling degree-days: 19.0\n",
      "File 'temperature' removed!\n"
     ]
    }
   ],
   "source": [
    "# 12. degree days from a file\n",
    "\n",
    "def degree_day_file(file_name):\n",
    "    with open(file_name, 'r') as file:\n",
    "        lines = file.readlines()\n",
    "        temp_list = [float(line.rstrip('\\n')) for line in lines]\n",
    "        heating = sum([max(0,60-temp) for temp in temp_list])\n",
    "        cooling = sum([max(0,temp-80) for temp in temp_list])\n",
    "    print('Heating degree-days:', heating)\n",
    "    print('Colling degree-days:', cooling)\n",
    "    \n",
    "create_file('temperature','10\\n20\\n70\\n23\\n99\\n')\n",
    "degree_day_file('temperature')\n",
    "delete_file('temperature')"
   ]
  }
 ],
 "metadata": {
  "kernelspec": {
   "display_name": "Python 3",
   "language": "python",
   "name": "python3"
  },
  "language_info": {
   "codemirror_mode": {
    "name": "ipython",
    "version": 3
   },
   "file_extension": ".py",
   "mimetype": "text/x-python",
   "name": "python",
   "nbconvert_exporter": "python",
   "pygments_lexer": "ipython3",
   "version": "3.6.6"
  }
 },
 "nbformat": 4,
 "nbformat_minor": 2
}
