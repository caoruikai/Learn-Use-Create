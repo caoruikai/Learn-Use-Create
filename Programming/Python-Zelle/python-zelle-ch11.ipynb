{
 "cells": [
  {
   "cell_type": "markdown",
   "metadata": {},
   "source": [
    "# Chapter 11 - Data Collections\n",
    "\n",
    "## Chapter Summary\n",
    "\n",
    "- A **list** object is a mutable sequence of arbitrary objects. Items can be accessed by indexing and slicing. The items of a list can be changed by assignment.\n",
    "\n",
    "- Python lists are similar to arrays in other programming languages. Python lists are more flexible because their size can vary and they are heterogeneous. Python lists also support a number of useful methods.\n",
    "\n",
    "- One particularly important data processing operation is **sorting**. Python lists have a `sort` method that can be customized by supplying a suitable key function. This allows programs to sort lists of arbitrary objects.\n",
    "\n",
    "- Classes can use lists to maintain collections stored as instance variable. Oftentimes using a list is more flexible than using seperate instance variables.\n",
    "\n",
    "- An entire program can be viewed as a collection of data and a set of operations&mdash;an object.\n",
    "\n",
    "- A Python **dictionary** implements an arbitrary mapping from keys into values. It is very useful for representing non-sequential collections."
   ]
  },
  {
   "cell_type": "markdown",
   "metadata": {},
   "source": [
    "## Discussion"
   ]
  },
  {
   "cell_type": "code",
   "execution_count": 1,
   "metadata": {},
   "outputs": [
    {
     "name": "stdout",
     "output_type": "stream",
     "text": [
      "[2, 1, 4, 3, 'c', 'a', 'b']\n",
      "[2, 1, 4, 3, 2, 1, 4, 3, 2, 1, 4, 3, 'c', 'a', 'b', 'c', 'a', 'b']\n",
      "1\n",
      "[1, 4]\n",
      "can only concatenate list (not \"str\") to list\n"
     ]
    }
   ],
   "source": [
    "# 1. list operations\n",
    "\n",
    "s1 = [2,1,4,3]\n",
    "s2 = ['c', 'a','b']\n",
    "\n",
    "print(s1+s2)\n",
    "print(3 * s1 + 2 * s2)\n",
    "print(s1[1])\n",
    "print(s1[1:3])\n",
    "try:\n",
    "    print(s1 + s2[-1])\n",
    "except TypeError:\n",
    "    print('can only concatenate list (not \"str\") to list')"
   ]
  },
  {
   "cell_type": "code",
   "execution_count": 2,
   "metadata": {},
   "outputs": [
    {
     "name": "stdout",
     "output_type": "stream",
     "text": [
      "[1, 4, 3]\n",
      "[1, 2, 3, 4]\n",
      "[2, 1, 4, 3, [2]]\n",
      "pop index out of range\n",
      "['c', 'a', 'd', 'b']\n"
     ]
    }
   ],
   "source": [
    "# 1. list methods\n",
    "\n",
    "s1 = [2,1,4,3]\n",
    "s2 = ['c', 'a', 'b']\n",
    "s1.remove(2)\n",
    "print(s1)\n",
    "\n",
    "s1 = [2,1,4,3]\n",
    "s2 = ['c', 'a', 'b']\n",
    "s1.sort()\n",
    "print(s1)\n",
    "\n",
    "s1 = [2,1,4,3]\n",
    "s2 = ['c', 'a', 'b']\n",
    "s1.append([s2.index('b')])\n",
    "print(s1)\n",
    "\n",
    "s1 = [2,1,4,3]\n",
    "s2 = ['c', 'a', 'b']\n",
    "try:\n",
    "    s2.pop(s1.pop(2))\n",
    "    print(s2)\n",
    "except IndexError:\n",
    "    print ('pop index out of range')\n",
    "    \n",
    "s1 = [2,1,4,3]\n",
    "s2 = ['c', 'a', 'b']\n",
    "s2.insert(s1[0], 'd')\n",
    "print(s2)"
   ]
  },
  {
   "cell_type": "markdown",
   "metadata": {},
   "source": [
    "## Programming Exercises"
   ]
  },
  {
   "cell_type": "code",
   "execution_count": 3,
   "metadata": {},
   "outputs": [],
   "source": [
    "# 1. statistics\n",
    "\n",
    "from math import sqrt\n",
    "\n",
    "def getNumbers():\n",
    "    nums = []\n",
    "    # sentinel loop to get numbers\n",
    "    xStr = input('Enter a number (<Enter> to quit) >> ')\n",
    "    while xStr:\n",
    "        x = float(xStr)\n",
    "        nums.append(x)\n",
    "        xStr = input('Enter a number (<Enter> to quit) >> ')\n",
    "    return nums\n",
    "\n",
    "def mean(nums):\n",
    "    sum = 0.0\n",
    "    for num in nums:\n",
    "        sum += num\n",
    "    return sum / len(nums)\n",
    "\n",
    "def stdDev(nums, xbar):\n",
    "    sumDevSq = 0.0\n",
    "    for num in nums:\n",
    "        dev = num - xbar\n",
    "        sumDevSq += dev**2\n",
    "    return sqrt(sumDevSq/(len(nums)-1))\n",
    "\n",
    "def median(nums):\n",
    "    nums.sort()\n",
    "    size = len(nums)\n",
    "    midPos = size // 2\n",
    "    if size % 2 == 0:\n",
    "        median = (num[midPos] + num[midPos-1]) / 2.0\n",
    "    else:\n",
    "        median = nums[midPos]\n",
    "    return median"
   ]
  },
  {
   "cell_type": "code",
   "execution_count": 4,
   "metadata": {},
   "outputs": [
    {
     "name": "stdout",
     "output_type": "stream",
     "text": [
      "2\n",
      "2\n",
      "\n",
      "True\n",
      "True\n",
      "\n",
      "1\n",
      "1\n",
      "\n",
      "[33, 10, 4444, 10, 111, 22, 34]\n",
      "[33, 10, 4444, 10, 111, 22, 34]\n",
      "\n",
      "[10, 10, 22, 33, 34, 111, 4444]\n",
      "[10, 10, 22, 33, 34, 111, 4444]\n"
     ]
    }
   ],
   "source": [
    "# 5. Implement list methods\n",
    "\n",
    "def my_count(myList, x):\n",
    "    count = 0\n",
    "    for i in myList:\n",
    "        if i == x:\n",
    "            count += 1\n",
    "    return count\n",
    "\n",
    "def my_isin(myList, x):\n",
    "    result = False\n",
    "    for i in myList:\n",
    "        if i == x:\n",
    "            result = True\n",
    "            break\n",
    "    return result\n",
    "\n",
    "def my_index(myList, x):\n",
    "    for ind, value in enumerate(myList):\n",
    "        if value == x:\n",
    "            break\n",
    "    return ind\n",
    "\n",
    "def my_reverse(myList):\n",
    "    n = len(myList)\n",
    "    for ind, value in enumerate(myList[:n//2]):\n",
    "        myList[ind], myList[-ind-1] = myList[-ind-1], myList[ind]\n",
    "    return myList\n",
    "\n",
    "def my_sort(myList):\n",
    "    # use selection sort algorithm\n",
    "    n = len(myList)\n",
    "    for bottom in range(n-1):\n",
    "        mp = bottom\n",
    "        for i in range(bottom+1, n):\n",
    "            if myList[i] < myList[mp]:\n",
    "                mp = i\n",
    "        myList[bottom], myList[mp] = myList[mp], myList[bottom]\n",
    "    return myList\n",
    "\n",
    "myList = [34, 22, 111, 10, 4444, 10]\n",
    "print(myList.count(10))\n",
    "print(my_count(myList, 10))\n",
    "\n",
    "print()\n",
    "print(4444 in myList)\n",
    "print(my_isin(myList, 4444))\n",
    "\n",
    "print()\n",
    "print(myList.index(22))\n",
    "print(my_index(myList, 22))\n",
    "\n",
    "print()\n",
    "myList = [34, 22, 111, 10, 4444, 10, 33]\n",
    "myList.reverse()\n",
    "print(myList)\n",
    "myList = [34, 22, 111, 10, 4444, 10, 33]\n",
    "my_reverse(myList)\n",
    "print(myList)\n",
    "\n",
    "print()\n",
    "myList = [34, 22, 111, 10, 4444, 10, 33]\n",
    "myList.sort()\n",
    "print(myList)\n",
    "myList = [34, 22, 111, 10, 4444, 10, 33]\n",
    "my_sort(myList)\n",
    "print(myList)"
   ]
  },
  {
   "cell_type": "code",
   "execution_count": 5,
   "metadata": {},
   "outputs": [
    {
     "name": "stdout",
     "output_type": "stream",
     "text": [
      "['c', [1, 2], 234, 333]\n"
     ]
    }
   ],
   "source": [
    "# 6. shuffle list\n",
    "\n",
    "from random import randrange\n",
    "\n",
    "def shuffle(my_list):\n",
    "    n = len(my_list)\n",
    "    result = []\n",
    "    for i in range(n):\n",
    "        ind = randrange(len(my_list))\n",
    "        result.append(my_list[ind])\n",
    "        my_list.pop(ind)\n",
    "    return result\n",
    "\n",
    "print(shuffle(['c', 234, [1,2], 333]))"
   ]
  },
  {
   "cell_type": "code",
   "execution_count": 6,
   "metadata": {},
   "outputs": [
    {
     "name": "stdout",
     "output_type": "stream",
     "text": [
      "82\n"
     ]
    }
   ],
   "source": [
    "# 7. inner product\n",
    "\n",
    "def inner_prod(list1, list2):\n",
    "    result = 0\n",
    "    if len(list1) != len(list2):\n",
    "        print('Two lists are not of the same length!')\n",
    "        return\n",
    "    for i in range(len(list1)):\n",
    "        result += list1[i] * list2[i]\n",
    "    return result\n",
    "\n",
    "print(inner_prod([2,3,4],[6,22,1]))"
   ]
  },
  {
   "cell_type": "code",
   "execution_count": 7,
   "metadata": {},
   "outputs": [
    {
     "name": "stdout",
     "output_type": "stream",
     "text": [
      "[2, 34, 11, 22, 5555, 123]\n"
     ]
    }
   ],
   "source": [
    "# 8. remove duplicate\n",
    "\n",
    "def rm_dup(my_list):\n",
    "    result_list = []\n",
    "    for val in my_list:\n",
    "        if val not in result_list:\n",
    "            result_list.append(val)\n",
    "    return result_list\n",
    "\n",
    "print(rm_dup([2,2,2,2,34,11,22,11,34,5555,123,123]))"
   ]
  },
  {
   "cell_type": "code",
   "execution_count": 8,
   "metadata": {},
   "outputs": [
    {
     "data": {
      "text/plain": [
       "[2, 3, 5, 7, 11, 13, 17, 19]"
      ]
     },
     "execution_count": 8,
     "metadata": {},
     "output_type": "execute_result"
    }
   ],
   "source": [
    "# 10. sieve prime\n",
    "\n",
    "def sieve_prime(n):\n",
    "    prime_list = []\n",
    "    range_list = list(range(2,n+1))\n",
    "    while len(range_list) > 0:\n",
    "        num = range_list[0]\n",
    "        prime_list.append(num)\n",
    "        num_x = num\n",
    "        while num_x <= n:\n",
    "            if num_x in range_list:\n",
    "                range_list.remove(num_x)\n",
    "            num_x += num\n",
    "    return prime_list\n",
    "\n",
    "sieve_prime(20)"
   ]
  },
  {
   "cell_type": "code",
   "execution_count": 9,
   "metadata": {},
   "outputs": [
    {
     "name": "stdout",
     "output_type": "stream",
     "text": [
      "File 'tmp' removed!\n",
      "File 'tmp_censor' removed!\n"
     ]
    }
   ],
   "source": [
    "# 11. word censor\n",
    "\n",
    "import os\n",
    "\n",
    "def create_file(file_name, string):\n",
    "    with open(file_name,'w') as file:\n",
    "        file.write(string)\n",
    "\n",
    "def delete_file(file_name):\n",
    "    try:\n",
    "        os.remove(file_name)\n",
    "        print(\"File '{}' removed!\".format(file_name))\n",
    "    except FileNotFoundError:\n",
    "        print('No such file or directory:', file_name)\n",
    "\n",
    "def censor(input_file, target_file):\n",
    "    line_list = []\n",
    "    \n",
    "    with open(input_file, 'r') as file:\n",
    "        for line in file:\n",
    "            line_censor = ' '.join(['****' if len(w)==4 else w for w in line.split()])\n",
    "            line_list.append(line_censor)\n",
    "            \n",
    "    text_new = '\\n'.join(line_list)\n",
    "    \n",
    "    with open(target_file, 'w') as file:\n",
    "        file.write(text_new)\n",
    "\n",
    "create_file('tmp', 'I have a dream that one day\\nall the children will be free')\n",
    "censor('tmp', 'tmp_censor')\n",
    "delete_file('tmp')\n",
    "delete_file('tmp_censor')"
   ]
  },
  {
   "cell_type": "code",
   "execution_count": 10,
   "metadata": {},
   "outputs": [
    {
     "name": "stdout",
     "output_type": "stream",
     "text": [
      "File 'tmp' removed!\n",
      "File 'censor' removed!\n",
      "File 'tmp_censor' removed!\n"
     ]
    }
   ],
   "source": [
    "# 12. word censor with arbitrary set of words\n",
    "\n",
    "import os\n",
    "\n",
    "def create_file(file_name, string):\n",
    "    with open(file_name,'w') as file:\n",
    "        file.write(string)\n",
    "\n",
    "def delete_file(file_name):\n",
    "    try:\n",
    "        os.remove(file_name)\n",
    "        print(\"File '{}' removed!\".format(file_name))\n",
    "    except FileNotFoundError:\n",
    "        print('No such file or directory:', file_name)\n",
    "\n",
    "def censor(input_file, target_file, censor_file):\n",
    "    line_list = []\n",
    "    \n",
    "    with open(censor_file) as file:\n",
    "        censor_word = file.read().split()\n",
    "    \n",
    "    with open(input_file, 'r') as file:\n",
    "        for line in file:\n",
    "            line_censor = ' '.join(['*'*len(w) if w in censor_word else w for w in line.split()])\n",
    "            line_list.append(line_censor)\n",
    "            \n",
    "    text_new = '\\n'.join(line_list)\n",
    "    \n",
    "    with open(target_file, 'w') as file:\n",
    "        file.write(text_new)\n",
    "\n",
    "create_file('tmp', 'I have a dream that one day\\nall the children will be free')\n",
    "create_file('censor', 'a dream\\nchildren')\n",
    "censor('tmp', 'tmp_censor', 'censor')\n",
    "delete_file('tmp')\n",
    "delete_file('censor')\n",
    "delete_file('tmp_censor')"
   ]
  },
  {
   "cell_type": "code",
   "execution_count": 11,
   "metadata": {},
   "outputs": [
    {
     "data": {
      "text/plain": [
       "[(1, 'Diamonds'),\n",
       " (12, 'Diamonds'),\n",
       " (4, 'Spades'),\n",
       " (5, 'Spades'),\n",
       " (13, 'Spades')]"
      ]
     },
     "execution_count": 11,
     "metadata": {},
     "output_type": "execute_result"
    }
   ],
   "source": [
    "# 13. & 14. cards\n",
    "\n",
    "from random import randrange\n",
    "\n",
    "def draw_one_card():\n",
    "    suit_list = ['Diamonds','Clubs','Hearts','Spades',]\n",
    "    rank = randrange(1,14)\n",
    "    suit = suit_list[randrange(4)]   \n",
    "    return rank, suit\n",
    "\n",
    "def draw_n_cards(n):\n",
    "    card_list = []\n",
    "    for i in range(n):\n",
    "        card_list.append(draw_one_card())\n",
    "    return card_list\n",
    "\n",
    "def return_second(t):\n",
    "    return t[1]\n",
    "\n",
    "def sort_cards(n):\n",
    "    cards = draw_n_cards(n)\n",
    "    cards.sort()\n",
    "    cards.sort(key=return_second)\n",
    "    return cards\n",
    "\n",
    "sort_cards(5)"
   ]
  },
  {
   "cell_type": "code",
   "execution_count": 12,
   "metadata": {},
   "outputs": [
    {
     "name": "stdout",
     "output_type": "stream",
     "text": [
      "('Hearts', 12)\n",
      "('Hearts', 13)\n",
      "('Clubs', 2)\n",
      "('Hearts', 2)\n",
      "('Spades', 1)\n",
      "('Spades', 2)\n",
      "('Diamonds', 7)\n",
      "('Diamonds', 12)\n",
      "('Spades', 12)\n",
      "('Clubs', 11)\n"
     ]
    }
   ],
   "source": [
    "# 15. deck class\n",
    "\n",
    "from itertools import product\n",
    "\n",
    "class deck:\n",
    "    \n",
    "    def __init__(self):\n",
    "        suit_list = ['Diamonds','Clubs','Hearts','Spades',]\n",
    "        self.cards = list(product(suit_list, range(1,14)))\n",
    "        \n",
    "    def shuffle(self):\n",
    "        shuffled_cards = []\n",
    "        for i in range(51):\n",
    "            card = self.cards[randrange(len(self.cards))]\n",
    "            shuffled_cards.append(card)\n",
    "            self.cards.remove(card)\n",
    "        self.cards = shuffled_cards\n",
    "        \n",
    "    def dealCard(self):\n",
    "        card = self.cards[0]\n",
    "        self.cards.remove(card)\n",
    "        print(card)\n",
    "        return card\n",
    "    \n",
    "    def cardsLeft(self):\n",
    "        return len(self.cards)\n",
    "    \n",
    "my_deck = deck()\n",
    "my_deck.shuffle()\n",
    "for i in range(10):\n",
    "    my_deck.dealCard()"
   ]
  },
  {
   "cell_type": "code",
   "execution_count": 13,
   "metadata": {},
   "outputs": [
    {
     "data": {
      "text/plain": [
       "(46, -54)"
      ]
     },
     "execution_count": 13,
     "metadata": {},
     "output_type": "execute_result"
    }
   ],
   "source": [
    "# 18. Random Walk\n",
    "\n",
    "from random import random\n",
    "\n",
    "def random_walk(start_pos):\n",
    "    if random() > 0.5:\n",
    "        end_pos = start_pos + 1\n",
    "    else:\n",
    "        end_pos = start_pos - 1\n",
    "    return end_pos\n",
    "\n",
    "def cross(length):\n",
    "    pos = 0\n",
    "    while length/2 >= pos >= -length/2:\n",
    "        pos = random_walk(pos)\n",
    "        if pos > length/2:\n",
    "            cross = 1\n",
    "        elif pos < -length/2:\n",
    "            cross = -1\n",
    "    return cross\n",
    "\n",
    "def random_cross(n, length):\n",
    "    cross_list = []\n",
    "    for i in range(n):\n",
    "        cross_list.append(cross(length))\n",
    "    right_cross = sum([c for c in cross_list if c>0])\n",
    "    left_cross = sum([c for c in cross_list if c<0])\n",
    "    return right_cross, left_cross\n",
    "    \n",
    "random_cross(100, 10)"
   ]
  }
 ],
 "metadata": {
  "kernelspec": {
   "display_name": "Python 3",
   "language": "python",
   "name": "python3"
  },
  "language_info": {
   "codemirror_mode": {
    "name": "ipython",
    "version": 3
   },
   "file_extension": ".py",
   "mimetype": "text/x-python",
   "name": "python",
   "nbconvert_exporter": "python",
   "pygments_lexer": "ipython3",
   "version": "3.6.6"
  }
 },
 "nbformat": 4,
 "nbformat_minor": 2
}
